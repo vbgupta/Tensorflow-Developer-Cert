{
  "nbformat": 4,
  "nbformat_minor": 0,
  "metadata": {
    "colab": {
      "name": "Time_Series_Forcasting_Tensorflow.ipynb",
      "provenance": [],
      "collapsed_sections": []
    },
    "kernelspec": {
      "name": "python3",
      "display_name": "Python 3"
    },
    "language_info": {
      "name": "python"
    },
    "accelerator": "GPU",
    "gpuClass": "standard"
  },
  "cells": [
    {
      "cell_type": "markdown",
      "source": [
        "# Time Series With Tensorflow -> BitPredict\n",
        "\n",
        "`Bitcoin Price Prediction`"
      ],
      "metadata": {
        "id": "6w-LgpOf5UJm"
      }
    },
    {
      "cell_type": "markdown",
      "source": [
        "## Get Data\n",
        "\n",
        "Using historical price of Bitcoin to predict the future price of Bitcoin"
      ],
      "metadata": {
        "id": "o48L3pJ75wwV"
      }
    },
    {
      "cell_type": "code",
      "execution_count": 1,
      "metadata": {
        "colab": {
          "base_uri": "https://localhost:8080/"
        },
        "id": "67t2u0MXf6JU",
        "outputId": "57b91c86-2801-41b6-b6d9-a2ee0496a512"
      },
      "outputs": [
        {
          "output_type": "stream",
          "name": "stdout",
          "text": [
            "--2022-06-15 12:23:15--  https://raw.githubusercontent.com/mrdbourke/tensorflow-deep-learning/main/extras/BTC_USD_2013-10-01_2021-05-18-CoinDesk.csv\n",
            "Resolving raw.githubusercontent.com (raw.githubusercontent.com)... 185.199.111.133, 185.199.109.133, 185.199.110.133, ...\n",
            "Connecting to raw.githubusercontent.com (raw.githubusercontent.com)|185.199.111.133|:443... connected.\n",
            "HTTP request sent, awaiting response... 200 OK\n",
            "Length: 178509 (174K) [text/plain]\n",
            "Saving to: ‘BTC_USD_2013-10-01_2021-05-18-CoinDesk.csv.1’\n",
            "\n",
            "\r          BTC_USD_2   0%[                    ]       0  --.-KB/s               \rBTC_USD_2013-10-01_ 100%[===================>] 174.33K  --.-KB/s    in 0.02s   \n",
            "\n",
            "2022-06-15 12:23:15 (7.30 MB/s) - ‘BTC_USD_2013-10-01_2021-05-18-CoinDesk.csv.1’ saved [178509/178509]\n",
            "\n"
          ]
        }
      ],
      "source": [
        "!wget https://raw.githubusercontent.com/mrdbourke/tensorflow-deep-learning/main/extras/BTC_USD_2013-10-01_2021-05-18-CoinDesk.csv"
      ]
    },
    {
      "cell_type": "markdown",
      "source": [
        "## Import Time Series Data"
      ],
      "metadata": {
        "id": "hQNCdPRJ59lA"
      }
    },
    {
      "cell_type": "code",
      "source": [
        "# Import Dependencies\n",
        "import pandas as pd\n",
        "\n",
        "# Load data\n",
        "df = pd.read_csv('/content/BTC_USD_2013-10-01_2021-05-18-CoinDesk.csv',\n",
        "                 parse_dates =[\"Date\"],\n",
        "                 index_col = [\"Date\"])\n",
        "\n",
        "df.head()"
      ],
      "metadata": {
        "colab": {
          "base_uri": "https://localhost:8080/",
          "height": 381
        },
        "id": "4Y0xv1c-6IKg",
        "outputId": "fd3547ac-b40b-49a4-bb1b-f7289a8ac773"
      },
      "execution_count": 2,
      "outputs": [
        {
          "output_type": "execute_result",
          "data": {
            "text/plain": [
              "           Currency  Closing Price (USD)  24h Open (USD)  24h High (USD)  \\\n",
              "Date                                                                       \n",
              "2013-10-01      BTC            123.65499       124.30466       124.75166   \n",
              "2013-10-02      BTC            125.45500       123.65499       125.75850   \n",
              "2013-10-03      BTC            108.58483       125.45500       125.66566   \n",
              "2013-10-04      BTC            118.67466       108.58483       118.67500   \n",
              "2013-10-05      BTC            121.33866       118.67466       121.93633   \n",
              "\n",
              "            24h Low (USD)  \n",
              "Date                       \n",
              "2013-10-01      122.56349  \n",
              "2013-10-02      123.63383  \n",
              "2013-10-03       83.32833  \n",
              "2013-10-04      107.05816  \n",
              "2013-10-05      118.00566  "
            ],
            "text/html": [
              "\n",
              "  <div id=\"df-748ddbeb-6986-43e1-aca3-9e4dfc2edeb7\">\n",
              "    <div class=\"colab-df-container\">\n",
              "      <div>\n",
              "<style scoped>\n",
              "    .dataframe tbody tr th:only-of-type {\n",
              "        vertical-align: middle;\n",
              "    }\n",
              "\n",
              "    .dataframe tbody tr th {\n",
              "        vertical-align: top;\n",
              "    }\n",
              "\n",
              "    .dataframe thead th {\n",
              "        text-align: right;\n",
              "    }\n",
              "</style>\n",
              "<table border=\"1\" class=\"dataframe\">\n",
              "  <thead>\n",
              "    <tr style=\"text-align: right;\">\n",
              "      <th></th>\n",
              "      <th>Currency</th>\n",
              "      <th>Closing Price (USD)</th>\n",
              "      <th>24h Open (USD)</th>\n",
              "      <th>24h High (USD)</th>\n",
              "      <th>24h Low (USD)</th>\n",
              "    </tr>\n",
              "    <tr>\n",
              "      <th>Date</th>\n",
              "      <th></th>\n",
              "      <th></th>\n",
              "      <th></th>\n",
              "      <th></th>\n",
              "      <th></th>\n",
              "    </tr>\n",
              "  </thead>\n",
              "  <tbody>\n",
              "    <tr>\n",
              "      <th>2013-10-01</th>\n",
              "      <td>BTC</td>\n",
              "      <td>123.65499</td>\n",
              "      <td>124.30466</td>\n",
              "      <td>124.75166</td>\n",
              "      <td>122.56349</td>\n",
              "    </tr>\n",
              "    <tr>\n",
              "      <th>2013-10-02</th>\n",
              "      <td>BTC</td>\n",
              "      <td>125.45500</td>\n",
              "      <td>123.65499</td>\n",
              "      <td>125.75850</td>\n",
              "      <td>123.63383</td>\n",
              "    </tr>\n",
              "    <tr>\n",
              "      <th>2013-10-03</th>\n",
              "      <td>BTC</td>\n",
              "      <td>108.58483</td>\n",
              "      <td>125.45500</td>\n",
              "      <td>125.66566</td>\n",
              "      <td>83.32833</td>\n",
              "    </tr>\n",
              "    <tr>\n",
              "      <th>2013-10-04</th>\n",
              "      <td>BTC</td>\n",
              "      <td>118.67466</td>\n",
              "      <td>108.58483</td>\n",
              "      <td>118.67500</td>\n",
              "      <td>107.05816</td>\n",
              "    </tr>\n",
              "    <tr>\n",
              "      <th>2013-10-05</th>\n",
              "      <td>BTC</td>\n",
              "      <td>121.33866</td>\n",
              "      <td>118.67466</td>\n",
              "      <td>121.93633</td>\n",
              "      <td>118.00566</td>\n",
              "    </tr>\n",
              "  </tbody>\n",
              "</table>\n",
              "</div>\n",
              "      <button class=\"colab-df-convert\" onclick=\"convertToInteractive('df-748ddbeb-6986-43e1-aca3-9e4dfc2edeb7')\"\n",
              "              title=\"Convert this dataframe to an interactive table.\"\n",
              "              style=\"display:none;\">\n",
              "        \n",
              "  <svg xmlns=\"http://www.w3.org/2000/svg\" height=\"24px\"viewBox=\"0 0 24 24\"\n",
              "       width=\"24px\">\n",
              "    <path d=\"M0 0h24v24H0V0z\" fill=\"none\"/>\n",
              "    <path d=\"M18.56 5.44l.94 2.06.94-2.06 2.06-.94-2.06-.94-.94-2.06-.94 2.06-2.06.94zm-11 1L8.5 8.5l.94-2.06 2.06-.94-2.06-.94L8.5 2.5l-.94 2.06-2.06.94zm10 10l.94 2.06.94-2.06 2.06-.94-2.06-.94-.94-2.06-.94 2.06-2.06.94z\"/><path d=\"M17.41 7.96l-1.37-1.37c-.4-.4-.92-.59-1.43-.59-.52 0-1.04.2-1.43.59L10.3 9.45l-7.72 7.72c-.78.78-.78 2.05 0 2.83L4 21.41c.39.39.9.59 1.41.59.51 0 1.02-.2 1.41-.59l7.78-7.78 2.81-2.81c.8-.78.8-2.07 0-2.86zM5.41 20L4 18.59l7.72-7.72 1.47 1.35L5.41 20z\"/>\n",
              "  </svg>\n",
              "      </button>\n",
              "      \n",
              "  <style>\n",
              "    .colab-df-container {\n",
              "      display:flex;\n",
              "      flex-wrap:wrap;\n",
              "      gap: 12px;\n",
              "    }\n",
              "\n",
              "    .colab-df-convert {\n",
              "      background-color: #E8F0FE;\n",
              "      border: none;\n",
              "      border-radius: 50%;\n",
              "      cursor: pointer;\n",
              "      display: none;\n",
              "      fill: #1967D2;\n",
              "      height: 32px;\n",
              "      padding: 0 0 0 0;\n",
              "      width: 32px;\n",
              "    }\n",
              "\n",
              "    .colab-df-convert:hover {\n",
              "      background-color: #E2EBFA;\n",
              "      box-shadow: 0px 1px 2px rgba(60, 64, 67, 0.3), 0px 1px 3px 1px rgba(60, 64, 67, 0.15);\n",
              "      fill: #174EA6;\n",
              "    }\n",
              "\n",
              "    [theme=dark] .colab-df-convert {\n",
              "      background-color: #3B4455;\n",
              "      fill: #D2E3FC;\n",
              "    }\n",
              "\n",
              "    [theme=dark] .colab-df-convert:hover {\n",
              "      background-color: #434B5C;\n",
              "      box-shadow: 0px 1px 3px 1px rgba(0, 0, 0, 0.15);\n",
              "      filter: drop-shadow(0px 1px 2px rgba(0, 0, 0, 0.3));\n",
              "      fill: #FFFFFF;\n",
              "    }\n",
              "  </style>\n",
              "\n",
              "      <script>\n",
              "        const buttonEl =\n",
              "          document.querySelector('#df-748ddbeb-6986-43e1-aca3-9e4dfc2edeb7 button.colab-df-convert');\n",
              "        buttonEl.style.display =\n",
              "          google.colab.kernel.accessAllowed ? 'block' : 'none';\n",
              "\n",
              "        async function convertToInteractive(key) {\n",
              "          const element = document.querySelector('#df-748ddbeb-6986-43e1-aca3-9e4dfc2edeb7');\n",
              "          const dataTable =\n",
              "            await google.colab.kernel.invokeFunction('convertToInteractive',\n",
              "                                                     [key], {});\n",
              "          if (!dataTable) return;\n",
              "\n",
              "          const docLinkHtml = 'Like what you see? Visit the ' +\n",
              "            '<a target=\"_blank\" href=https://colab.research.google.com/notebooks/data_table.ipynb>data table notebook</a>'\n",
              "            + ' to learn more about interactive tables.';\n",
              "          element.innerHTML = '';\n",
              "          dataTable['output_type'] = 'display_data';\n",
              "          await google.colab.output.renderOutput(dataTable, element);\n",
              "          const docLink = document.createElement('div');\n",
              "          docLink.innerHTML = docLinkHtml;\n",
              "          element.appendChild(docLink);\n",
              "        }\n",
              "      </script>\n",
              "    </div>\n",
              "  </div>\n",
              "  "
            ]
          },
          "metadata": {},
          "execution_count": 2
        }
      ]
    },
    {
      "cell_type": "code",
      "source": [
        "df.info()"
      ],
      "metadata": {
        "colab": {
          "base_uri": "https://localhost:8080/"
        },
        "id": "LODYL3Cr6suI",
        "outputId": "5d126353-4012-4281-a869-dea7ebb0286f"
      },
      "execution_count": 3,
      "outputs": [
        {
          "output_type": "stream",
          "name": "stdout",
          "text": [
            "<class 'pandas.core.frame.DataFrame'>\n",
            "DatetimeIndex: 2787 entries, 2013-10-01 to 2021-05-18\n",
            "Data columns (total 5 columns):\n",
            " #   Column               Non-Null Count  Dtype  \n",
            "---  ------               --------------  -----  \n",
            " 0   Currency             2787 non-null   object \n",
            " 1   Closing Price (USD)  2787 non-null   float64\n",
            " 2   24h Open (USD)       2787 non-null   float64\n",
            " 3   24h High (USD)       2787 non-null   float64\n",
            " 4   24h Low (USD)        2787 non-null   float64\n",
            "dtypes: float64(4), object(1)\n",
            "memory usage: 130.6+ KB\n"
          ]
        }
      ]
    },
    {
      "cell_type": "code",
      "source": [
        "# How many samples do we have\n",
        "print(f\"Number of Samples: {len(df)}\")"
      ],
      "metadata": {
        "colab": {
          "base_uri": "https://localhost:8080/"
        },
        "id": "Lu9dBmRD6xUb",
        "outputId": "f964cd77-17f7-4b0d-9545-770d1985fd05"
      },
      "execution_count": 4,
      "outputs": [
        {
          "output_type": "stream",
          "name": "stdout",
          "text": [
            "Number of Samples: 2787\n"
          ]
        }
      ]
    },
    {
      "cell_type": "code",
      "source": [
        "# Reduce the DataFrame to Closing Price\n",
        "\n",
        "bitcoin_prices = pd.DataFrame(df[\"Closing Price (USD)\"]).rename(columns = {\"Closing Price (USD)\": \"Price\"})\n",
        "bitcoin_prices.head()"
      ],
      "metadata": {
        "colab": {
          "base_uri": "https://localhost:8080/",
          "height": 235
        },
        "id": "dpK3mKt068kb",
        "outputId": "9455b22b-9b13-4f13-86d8-0fae5943c6a9"
      },
      "execution_count": 5,
      "outputs": [
        {
          "output_type": "execute_result",
          "data": {
            "text/plain": [
              "                Price\n",
              "Date                 \n",
              "2013-10-01  123.65499\n",
              "2013-10-02  125.45500\n",
              "2013-10-03  108.58483\n",
              "2013-10-04  118.67466\n",
              "2013-10-05  121.33866"
            ],
            "text/html": [
              "\n",
              "  <div id=\"df-a137ad70-84f6-4cd3-979d-92222a5a637e\">\n",
              "    <div class=\"colab-df-container\">\n",
              "      <div>\n",
              "<style scoped>\n",
              "    .dataframe tbody tr th:only-of-type {\n",
              "        vertical-align: middle;\n",
              "    }\n",
              "\n",
              "    .dataframe tbody tr th {\n",
              "        vertical-align: top;\n",
              "    }\n",
              "\n",
              "    .dataframe thead th {\n",
              "        text-align: right;\n",
              "    }\n",
              "</style>\n",
              "<table border=\"1\" class=\"dataframe\">\n",
              "  <thead>\n",
              "    <tr style=\"text-align: right;\">\n",
              "      <th></th>\n",
              "      <th>Price</th>\n",
              "    </tr>\n",
              "    <tr>\n",
              "      <th>Date</th>\n",
              "      <th></th>\n",
              "    </tr>\n",
              "  </thead>\n",
              "  <tbody>\n",
              "    <tr>\n",
              "      <th>2013-10-01</th>\n",
              "      <td>123.65499</td>\n",
              "    </tr>\n",
              "    <tr>\n",
              "      <th>2013-10-02</th>\n",
              "      <td>125.45500</td>\n",
              "    </tr>\n",
              "    <tr>\n",
              "      <th>2013-10-03</th>\n",
              "      <td>108.58483</td>\n",
              "    </tr>\n",
              "    <tr>\n",
              "      <th>2013-10-04</th>\n",
              "      <td>118.67466</td>\n",
              "    </tr>\n",
              "    <tr>\n",
              "      <th>2013-10-05</th>\n",
              "      <td>121.33866</td>\n",
              "    </tr>\n",
              "  </tbody>\n",
              "</table>\n",
              "</div>\n",
              "      <button class=\"colab-df-convert\" onclick=\"convertToInteractive('df-a137ad70-84f6-4cd3-979d-92222a5a637e')\"\n",
              "              title=\"Convert this dataframe to an interactive table.\"\n",
              "              style=\"display:none;\">\n",
              "        \n",
              "  <svg xmlns=\"http://www.w3.org/2000/svg\" height=\"24px\"viewBox=\"0 0 24 24\"\n",
              "       width=\"24px\">\n",
              "    <path d=\"M0 0h24v24H0V0z\" fill=\"none\"/>\n",
              "    <path d=\"M18.56 5.44l.94 2.06.94-2.06 2.06-.94-2.06-.94-.94-2.06-.94 2.06-2.06.94zm-11 1L8.5 8.5l.94-2.06 2.06-.94-2.06-.94L8.5 2.5l-.94 2.06-2.06.94zm10 10l.94 2.06.94-2.06 2.06-.94-2.06-.94-.94-2.06-.94 2.06-2.06.94z\"/><path d=\"M17.41 7.96l-1.37-1.37c-.4-.4-.92-.59-1.43-.59-.52 0-1.04.2-1.43.59L10.3 9.45l-7.72 7.72c-.78.78-.78 2.05 0 2.83L4 21.41c.39.39.9.59 1.41.59.51 0 1.02-.2 1.41-.59l7.78-7.78 2.81-2.81c.8-.78.8-2.07 0-2.86zM5.41 20L4 18.59l7.72-7.72 1.47 1.35L5.41 20z\"/>\n",
              "  </svg>\n",
              "      </button>\n",
              "      \n",
              "  <style>\n",
              "    .colab-df-container {\n",
              "      display:flex;\n",
              "      flex-wrap:wrap;\n",
              "      gap: 12px;\n",
              "    }\n",
              "\n",
              "    .colab-df-convert {\n",
              "      background-color: #E8F0FE;\n",
              "      border: none;\n",
              "      border-radius: 50%;\n",
              "      cursor: pointer;\n",
              "      display: none;\n",
              "      fill: #1967D2;\n",
              "      height: 32px;\n",
              "      padding: 0 0 0 0;\n",
              "      width: 32px;\n",
              "    }\n",
              "\n",
              "    .colab-df-convert:hover {\n",
              "      background-color: #E2EBFA;\n",
              "      box-shadow: 0px 1px 2px rgba(60, 64, 67, 0.3), 0px 1px 3px 1px rgba(60, 64, 67, 0.15);\n",
              "      fill: #174EA6;\n",
              "    }\n",
              "\n",
              "    [theme=dark] .colab-df-convert {\n",
              "      background-color: #3B4455;\n",
              "      fill: #D2E3FC;\n",
              "    }\n",
              "\n",
              "    [theme=dark] .colab-df-convert:hover {\n",
              "      background-color: #434B5C;\n",
              "      box-shadow: 0px 1px 3px 1px rgba(0, 0, 0, 0.15);\n",
              "      filter: drop-shadow(0px 1px 2px rgba(0, 0, 0, 0.3));\n",
              "      fill: #FFFFFF;\n",
              "    }\n",
              "  </style>\n",
              "\n",
              "      <script>\n",
              "        const buttonEl =\n",
              "          document.querySelector('#df-a137ad70-84f6-4cd3-979d-92222a5a637e button.colab-df-convert');\n",
              "        buttonEl.style.display =\n",
              "          google.colab.kernel.accessAllowed ? 'block' : 'none';\n",
              "\n",
              "        async function convertToInteractive(key) {\n",
              "          const element = document.querySelector('#df-a137ad70-84f6-4cd3-979d-92222a5a637e');\n",
              "          const dataTable =\n",
              "            await google.colab.kernel.invokeFunction('convertToInteractive',\n",
              "                                                     [key], {});\n",
              "          if (!dataTable) return;\n",
              "\n",
              "          const docLinkHtml = 'Like what you see? Visit the ' +\n",
              "            '<a target=\"_blank\" href=https://colab.research.google.com/notebooks/data_table.ipynb>data table notebook</a>'\n",
              "            + ' to learn more about interactive tables.';\n",
              "          element.innerHTML = '';\n",
              "          dataTable['output_type'] = 'display_data';\n",
              "          await google.colab.output.renderOutput(dataTable, element);\n",
              "          const docLink = document.createElement('div');\n",
              "          docLink.innerHTML = docLinkHtml;\n",
              "          element.appendChild(docLink);\n",
              "        }\n",
              "      </script>\n",
              "    </div>\n",
              "  </div>\n",
              "  "
            ]
          },
          "metadata": {},
          "execution_count": 5
        }
      ]
    },
    {
      "cell_type": "code",
      "source": [
        "# Plot the Price\n",
        "\n",
        "import matplotlib.pyplot as plt\n",
        "bitcoin_prices.plot(figsize = (10, 5))\n",
        "plt.xlabel(\"Date\")\n",
        "plt.ylabel(\"Bitcoin Price\")\n",
        "plt.title(\"Price Of Bitcoin over Time\", fontsize = 20)\n",
        "plt.legend(fontsize = 15)\n",
        "plt.show();"
      ],
      "metadata": {
        "colab": {
          "base_uri": "https://localhost:8080/",
          "height": 355
        },
        "id": "81tdMBHT9ri9",
        "outputId": "c385812e-8229-40f5-a002-a6c81bf3c515"
      },
      "execution_count": 6,
      "outputs": [
        {
          "output_type": "display_data",
          "data": {
            "text/plain": [
              "<Figure size 720x360 with 1 Axes>"
            ],
            "image/png": "[encoded data removed]"
          },
          "metadata": {
            "needs_background": "light"
          }
        }
      ]
    },
    {
      "cell_type": "code",
      "source": [
        "# Importing and formatting historical Bitcoin data with Python\n",
        "import csv\n",
        "from datetime import datetime\n",
        "\n",
        "timesteps = []\n",
        "btc_price = []\n",
        "with open(\"/content/BTC_USD_2013-10-01_2021-05-18-CoinDesk.csv\", \"r\") as f:\n",
        "  csv_reader = csv.reader(f, delimiter=\",\") # read in the target CSV\n",
        "  next(csv_reader) # skip first line (this gets rid of the column titles)\n",
        "  for line in csv_reader:\n",
        "    timesteps.append(datetime.strptime(line[1], \"%Y-%m-%d\")) # get the dates as dates (not strings), strptime = string parse time\n",
        "    btc_price.append(float(line[2])) # get the closing price as float\n",
        "\n",
        "# View first 10 of each\n",
        "timesteps[:10], btc_price[:10]"
      ],
      "metadata": {
        "colab": {
          "base_uri": "https://localhost:8080/"
        },
        "id": "HBrpYXLDlWPY",
        "outputId": "91b74ddc-9ec2-47d6-a0e2-f73ad5411c38"
      },
      "execution_count": 80,
      "outputs": [
        {
          "output_type": "execute_result",
          "data": {
            "text/plain": [
              "([datetime.datetime(2013, 10, 1, 0, 0),\n",
              "  datetime.datetime(2013, 10, 2, 0, 0),\n",
              "  datetime.datetime(2013, 10, 3, 0, 0),\n",
              "  datetime.datetime(2013, 10, 4, 0, 0),\n",
              "  datetime.datetime(2013, 10, 5, 0, 0),\n",
              "  datetime.datetime(2013, 10, 6, 0, 0),\n",
              "  datetime.datetime(2013, 10, 7, 0, 0),\n",
              "  datetime.datetime(2013, 10, 8, 0, 0),\n",
              "  datetime.datetime(2013, 10, 9, 0, 0),\n",
              "  datetime.datetime(2013, 10, 10, 0, 0)],\n",
              " [123.65499,\n",
              "  125.455,\n",
              "  108.58483,\n",
              "  118.67466,\n",
              "  121.33866,\n",
              "  120.65533,\n",
              "  121.795,\n",
              "  123.033,\n",
              "  124.049,\n",
              "  125.96116])"
            ]
          },
          "metadata": {},
          "execution_count": 80
        }
      ]
    },
    {
      "cell_type": "markdown",
      "source": [
        "## Create Train and Test Splits"
      ],
      "metadata": {
        "id": "MjygPtCw_e5e"
      }
    },
    {
      "cell_type": "code",
      "source": [
        "timestamps = bitcoin_prices.index.to_numpy()\n",
        "prices = bitcoin_prices.Price.to_numpy()\n",
        "\n",
        "timestamps[:2], prices[:2]"
      ],
      "metadata": {
        "colab": {
          "base_uri": "https://localhost:8080/"
        },
        "id": "y4Ipqbn_-W8r",
        "outputId": "18f94172-2035-43f9-cd7a-47a34e5fa3d3"
      },
      "execution_count": 7,
      "outputs": [
        {
          "output_type": "execute_result",
          "data": {
            "text/plain": [
              "(array(['2013-10-01T00:00:00.000000000', '2013-10-02T00:00:00.000000000'],\n",
              "       dtype='datetime64[ns]'), array([123.65499, 125.455  ]))"
            ]
          },
          "metadata": {},
          "execution_count": 7
        }
      ]
    },
    {
      "cell_type": "markdown",
      "source": [
        "## Plotting Function"
      ],
      "metadata": {
        "id": "eJ48RcCVBEXn"
      }
    },
    {
      "cell_type": "code",
      "source": [
        "# Create a function to plot time series data\n",
        "def plot_time_series(timesteps, values, format='.', start=0, end=None, label=None):\n",
        "  \"\"\"\n",
        "  Plots a timesteps (a series of points in time) against values (a series of values across timesteps).\n",
        "  \n",
        "  Parameters\n",
        "  ---------\n",
        "  timesteps : array of timesteps\n",
        "  values : array of values across time\n",
        "  format : style of plot, default \".\"\n",
        "  start : where to start the plot (setting a value will index from start of timesteps & values)\n",
        "  end : where to end the plot (setting a value will index from end of timesteps & values)\n",
        "  label : label to show on plot of values\n",
        "  \"\"\"\n",
        "  # Plot the series\n",
        "  plt.plot(timesteps[start:end], values[start:end], format, label=label)\n",
        "  plt.xlabel(\"Time\")\n",
        "  plt.ylabel(\"BTC Price\")\n",
        "  if label:\n",
        "    plt.legend(fontsize=14) # make label bigger\n",
        "  plt.grid(True)"
      ],
      "metadata": {
        "id": "TPm7qVlIBGIN"
      },
      "execution_count": 8,
      "outputs": []
    },
    {
      "cell_type": "code",
      "source": [
        "split_size = int(0.8 * len(prices)) \n",
        "X_train, y_train = timestamps[:split_size], prices[:split_size]\n",
        "X_test, y_test = timestamps[split_size:], prices[split_size:]\n",
        "\n",
        "plt.figure(figsize=(10, 7))\n",
        "plot_time_series(timesteps=X_train, values=y_train, label=\"Train data\")\n",
        "plot_time_series(timesteps=X_test, values=y_test, label=\"Test data\")"
      ],
      "metadata": {
        "colab": {
          "base_uri": "https://localhost:8080/",
          "height": 442
        },
        "id": "N1c5ltHu_wHT",
        "outputId": "fed530ff-0233-4635-e740-5fd84641adc4"
      },
      "execution_count": 9,
      "outputs": [
        {
          "output_type": "display_data",
          "data": {
            "text/plain": [
              "<Figure size 720x504 with 1 Axes>"
            ],
            "image/png": "[encoded data removed]"
          },
          "metadata": {
            "needs_background": "light"
          }
        }
      ]
    },
    {
      "cell_type": "markdown",
      "source": [
        "## Univariate Time Series"
      ],
      "metadata": {
        "id": "jocUmB-WbwHf"
      }
    },
    {
      "cell_type": "markdown",
      "source": [
        "## Model Evaluation Functions"
      ],
      "metadata": {
        "id": "CjHrfEohKgwT"
      }
    },
    {
      "cell_type": "code",
      "source": [
        "import tensorflow as tf\n",
        "# MASE implemented courtesy of sktime - https://github.com/alan-turing-institute/sktime/blob/ee7a06843a44f4aaec7582d847e36073a9ab0566/sktime/performance_metrics/forecasting/_functions.py#L16\n",
        "def mean_absolute_scaled_error(y_true, y_pred):\n",
        "  \"\"\"\n",
        "  Implement MASE (assuming no seasonality of data).\n",
        "  \"\"\"\n",
        "  mae = tf.reduce_mean(tf.abs(y_true - y_pred))\n",
        "\n",
        "  # Find MAE of naive forecast (no seasonality)\n",
        "  mae_naive_no_season = tf.reduce_mean(tf.abs(y_true[1:] - y_true[:-1])) # our seasonality is 1 day (hence the shifting of 1 day)\n",
        "\n",
        "  return mae / mae_naive_no_season\n",
        "\n",
        "\n",
        "def evaluate_preds(y_true, y_pred):\n",
        "  # Make sure float32 (for metric calculations)\n",
        "  y_true = tf.cast(y_true, dtype=tf.float32)\n",
        "  y_pred = tf.cast(y_pred, dtype=tf.float32)\n",
        "\n",
        "  # Calculate various metrics\n",
        "  mae = tf.keras.metrics.mean_absolute_error(y_true, y_pred)\n",
        "  mse = tf.keras.metrics.mean_squared_error(y_true, y_pred) # puts and emphasis on outliers (all errors get squared)\n",
        "  rmse = tf.sqrt(mse)\n",
        "  mape = tf.keras.metrics.mean_absolute_percentage_error(y_true, y_pred)\n",
        "  mase = mean_absolute_scaled_error(y_true, y_pred)\n",
        "  \n",
        "  return {\"mae\": mae.numpy(),\n",
        "          \"mse\": mse.numpy(),\n",
        "          \"rmse\": rmse.numpy(),\n",
        "          \"mape\": mape.numpy(),\n",
        "          \"mase\": mase.numpy()}"
      ],
      "metadata": {
        "id": "4VsO3-iIKkZS"
      },
      "execution_count": 10,
      "outputs": []
    },
    {
      "cell_type": "code",
      "source": [
        "# Average Price of BTC\n",
        "tf.reduce_mean(y_test).numpy()"
      ],
      "metadata": {
        "colab": {
          "base_uri": "https://localhost:8080/"
        },
        "id": "Jmf86huPLZa1",
        "outputId": "58d2ab4f-c84d-400e-db93-188f987d3138"
      },
      "execution_count": 11,
      "outputs": [
        {
          "output_type": "execute_result",
          "data": {
            "text/plain": [
              "20056.632963737222"
            ]
          },
          "metadata": {},
          "execution_count": 11
        }
      ]
    },
    {
      "cell_type": "markdown",
      "source": [
        "## Model 0: Naive Forecast (Baseline)"
      ],
      "metadata": {
        "id": "n_Ri6SxhATqa"
      }
    },
    {
      "cell_type": "code",
      "source": [
        "naive_forecast = y_test[:-1]\n",
        "\n",
        "# Plot naive forecast\n",
        "plt.figure(figsize=(10, 7))\n",
        "plot_time_series(timesteps=X_train, values=y_train, label=\"Train data\")\n",
        "plot_time_series(timesteps=X_test, values=y_test, label=\"Test data\")\n",
        "plot_time_series(timesteps=X_test[1:], values=naive_forecast, format=\"-\", label=\"Naive forecast\");"
      ],
      "metadata": {
        "colab": {
          "base_uri": "https://localhost:8080/",
          "height": 442
        },
        "id": "-gLHkTiSIuTG",
        "outputId": "53ee6626-0e7e-4042-f2b5-28cf26cf414c"
      },
      "execution_count": 12,
      "outputs": [
        {
          "output_type": "display_data",
          "data": {
            "text/plain": [
              "<Figure size 720x504 with 1 Axes>"
            ],
            "image/png": "[encoded data removed]"
          },
          "metadata": {
            "needs_background": "light"
          }
        }
      ]
    },
    {
      "cell_type": "code",
      "source": [
        "naive_results = evaluate_preds(\n",
        "    y_true = y_test[1:],\n",
        "    y_pred = naive_forecast\n",
        ")\n",
        "naive_results"
      ],
      "metadata": {
        "colab": {
          "base_uri": "https://localhost:8080/"
        },
        "id": "nkEcJWCRJIzs",
        "outputId": "000d3701-e964-4acb-eb7d-b43a8fd757f2"
      },
      "execution_count": 13,
      "outputs": [
        {
          "output_type": "execute_result",
          "data": {
            "text/plain": [
              "{'mae': 567.9802,\n",
              " 'mape': 2.516525,\n",
              " 'mase': 0.99957,\n",
              " 'mse': 1147547.0,\n",
              " 'rmse': 1071.2362}"
            ]
          },
          "metadata": {},
          "execution_count": 13
        }
      ]
    },
    {
      "cell_type": "markdown",
      "source": [
        "~ $567 different than the actual price of Bitcoin"
      ],
      "metadata": {
        "id": "EgunO4abLDrc"
      }
    },
    {
      "cell_type": "markdown",
      "source": [
        "## Window Data\n",
        "\n",
        "- To get the model ready for Deep Learning using Tensorflow, I setup a window to predict one step at a time using a weeks worth of timesteps"
      ],
      "metadata": {
        "id": "E5D79ZJzMVbi"
      }
    },
    {
      "cell_type": "code",
      "source": [
        "HORIZON = 1\n",
        "WINDOW_SIZE = 7"
      ],
      "metadata": {
        "id": "lLB_0PqZLDcY"
      },
      "execution_count": 14,
      "outputs": []
    },
    {
      "cell_type": "code",
      "source": [
        "# Create function to label windowed data\n",
        "def get_labelled_windows(x, horizon=1):\n",
        "  \"\"\"\n",
        "  Creates labels for windowed dataset.\n",
        "\n",
        "  E.g. if horizon=1 (default)\n",
        "  Input: [1, 2, 3, 4, 5, 6] -> Output: ([1, 2, 3, 4, 5], [6])\n",
        "  \"\"\"\n",
        "  return x[:, :-horizon], x[:, -horizon:]"
      ],
      "metadata": {
        "id": "lstOpsLMK_WA"
      },
      "execution_count": 15,
      "outputs": []
    },
    {
      "cell_type": "code",
      "source": [
        "# Test out the window labelling function\n",
        "test_window, test_label = get_labelled_windows(tf.expand_dims(tf.range(8)+1, axis=0), horizon=HORIZON)\n",
        "print(f\"Window: {tf.squeeze(test_window).numpy()} -> Label: {tf.squeeze(test_label).numpy()}\")\n",
        "\n"
      ],
      "metadata": {
        "colab": {
          "base_uri": "https://localhost:8080/"
        },
        "id": "CmneEPakMyJL",
        "outputId": "eee77fea-fd6a-433f-b49c-94ee34281370"
      },
      "execution_count": 16,
      "outputs": [
        {
          "output_type": "stream",
          "name": "stdout",
          "text": [
            "Window: [1 2 3 4 5 6 7] -> Label: 8\n"
          ]
        }
      ]
    },
    {
      "cell_type": "code",
      "source": [
        "import numpy as np\n",
        "# Create function to view NumPy arrays as windows \n",
        "def make_windows(x, window_size: int, horizon: int):\n",
        "  \"\"\"\n",
        "  Turns a 1D array into a 2D array of sequential windows of window_size.\n",
        "  \"\"\"\n",
        "  # 1. Create a window of specific window_size (add the horizon on the end for later labelling)\n",
        "  window_step = np.expand_dims(np.arange(window_size+horizon), axis=0)\n",
        "  # print(f\"Window step:\\n {window_step}\")\n",
        "\n",
        "  # 2. Create a 2D array of multiple window steps (minus 1 to account for 0 indexing)\n",
        "  window_indexes = window_step + np.expand_dims(np.arange(len(x)-(window_size+horizon-1)), axis=0).T # create 2D array of windows of size window_size\n",
        "  # print(f\"Window indexes:\\n {window_indexes[:3], window_indexes[-3:], window_indexes.shape}\")\n",
        "\n",
        "  # 3. Index on the target array (time series) with 2D array of multiple window steps\n",
        "  windowed_array = x[window_indexes]\n",
        "\n",
        "  # 4. Get the labelled windows\n",
        "  windows, labels = get_labelled_windows(windowed_array, horizon=horizon)\n",
        "\n",
        "  return windows, labels"
      ],
      "metadata": {
        "id": "tn_DGfRsNABW"
      },
      "execution_count": 17,
      "outputs": []
    },
    {
      "cell_type": "code",
      "source": [
        "full_windows, full_labels = make_windows(prices, window_size=WINDOW_SIZE, horizon=HORIZON)\n",
        "len(full_windows), len(full_labels)"
      ],
      "metadata": {
        "colab": {
          "base_uri": "https://localhost:8080/"
        },
        "id": "x1zikWXLNYva",
        "outputId": "39535864-fd97-42dd-f8bc-f71b73c2c311"
      },
      "execution_count": 18,
      "outputs": [
        {
          "output_type": "execute_result",
          "data": {
            "text/plain": [
              "(2780, 2780)"
            ]
          },
          "metadata": {},
          "execution_count": 18
        }
      ]
    },
    {
      "cell_type": "code",
      "source": [
        "# Make the train/test splits\n",
        "def make_train_test_splits(windows, labels, test_split=0.2):\n",
        "  \"\"\"\n",
        "  Splits matching pairs of windows and labels into train and test splits.\n",
        "  \"\"\"\n",
        "  split_size = int(len(windows) * (1-test_split)) # this will default to 80% train/20% test\n",
        "  train_windows = windows[:split_size]\n",
        "  train_labels = labels[:split_size]\n",
        "  test_windows = windows[split_size:]\n",
        "  test_labels = labels[split_size:]\n",
        "  return train_windows, test_windows, train_labels, test_labels"
      ],
      "metadata": {
        "id": "y4lxvPf7Nf7V"
      },
      "execution_count": 19,
      "outputs": []
    },
    {
      "cell_type": "code",
      "source": [
        "train_windows, test_windows, train_labels, test_labels = make_train_test_splits(full_windows, full_labels)\n",
        "len(train_windows), len(test_windows), len(train_labels), len(test_labels)"
      ],
      "metadata": {
        "colab": {
          "base_uri": "https://localhost:8080/"
        },
        "id": "NOG8LCLEN3Bc",
        "outputId": "767240f5-8c25-4cb4-9555-8565cb95d07b"
      },
      "execution_count": 20,
      "outputs": [
        {
          "output_type": "execute_result",
          "data": {
            "text/plain": [
              "(2224, 556, 2224, 556)"
            ]
          },
          "metadata": {},
          "execution_count": 20
        }
      ]
    },
    {
      "cell_type": "markdown",
      "source": [
        "## Model CheckPoints"
      ],
      "metadata": {
        "id": "LuNRAkn4N7Ug"
      }
    },
    {
      "cell_type": "code",
      "source": [
        "import os\n",
        "\n",
        "# Create a function to implement a ModelCheckpoint callback with a specific filename \n",
        "def create_model_checkpoint(model_name, save_path=\"model_experiments\"):\n",
        "  return tf.keras.callbacks.ModelCheckpoint(filepath=os.path.join(save_path, model_name), # create filepath to save model\n",
        "                                            verbose=0, # only output a limited amount of text\n",
        "                                            save_best_only=True) # save only the best model to file\n"
      ],
      "metadata": {
        "id": "Ic-5QajeOGM2"
      },
      "execution_count": 21,
      "outputs": []
    },
    {
      "cell_type": "code",
      "source": [
        "# Make Predictions\n",
        "def make_preds(model, input_data):\n",
        "  \"\"\"\n",
        "  Uses model to make predictions on input_data.\n",
        "\n",
        "  Parameters\n",
        "  ----------\n",
        "  model: trained model \n",
        "  input_data: windowed input data (same kind of data model was trained on)\n",
        "\n",
        "  Returns model predictions on input_data.\n",
        "  \"\"\"\n",
        "  forecast = model.predict(input_data)\n",
        "  return tf.squeeze(forecast) # return 1D array of predictions"
      ],
      "metadata": {
        "id": "jEitPNk5QhvR"
      },
      "execution_count": 22,
      "outputs": []
    },
    {
      "cell_type": "markdown",
      "source": [
        "## Model 1: DenseNet Model  \n",
        "\n",
        "- Window = 7\n",
        "- Horizon = 1"
      ],
      "metadata": {
        "id": "5eAWf5SaOasQ"
      }
    },
    {
      "cell_type": "code",
      "source": [
        "import tensorflow as tf\n",
        "from tensorflow.keras import layers\n",
        "\n",
        "tf.random.set_seed(42)\n",
        "\n",
        "model_1 = tf.keras.Sequential([\n",
        "                               layers.Dense(128, activation = \"relu\"),\n",
        "                               layers.Dense(HORIZON, activation = \"linear\")\n",
        "], name = \"model_1_dense\")\n",
        "\n",
        "model_1.compile(loss = \"mae\",\n",
        "                optimizer = tf.keras.optimizers.Adam(),\n",
        "                metrics = [\"mae\"])\n",
        "\n",
        "model_1.fit(x = train_windows,\n",
        "            y = train_labels,\n",
        "            epochs = 100,\n",
        "            verbose = 0,\n",
        "            batch_size = 128,\n",
        "            validation_data = (test_windows, test_labels),\n",
        "            callbacks = [create_model_checkpoint(\n",
        "                model_name=model_1.name)])"
      ],
      "metadata": {
        "colab": {
          "base_uri": "https://localhost:8080/"
        },
        "id": "GIECylLOOf_l",
        "outputId": "ad70ed12-8fb5-4963-a349-10e4000ae230"
      },
      "execution_count": 23,
      "outputs": [
        {
          "output_type": "stream",
          "name": "stdout",
          "text": [
            "INFO:tensorflow:Assets written to: model_experiments/model_1_dense/assets\n",
            "INFO:tensorflow:Assets written to: model_experiments/model_1_dense/assets\n",
            "INFO:tensorflow:Assets written to: model_experiments/model_1_dense/assets\n",
            "INFO:tensorflow:Assets written to: model_experiments/model_1_dense/assets\n",
            "INFO:tensorflow:Assets written to: model_experiments/model_1_dense/assets\n",
            "INFO:tensorflow:Assets written to: model_experiments/model_1_dense/assets\n",
            "INFO:tensorflow:Assets written to: model_experiments/model_1_dense/assets\n",
            "INFO:tensorflow:Assets written to: model_experiments/model_1_dense/assets\n",
            "INFO:tensorflow:Assets written to: model_experiments/model_1_dense/assets\n",
            "INFO:tensorflow:Assets written to: model_experiments/model_1_dense/assets\n",
            "INFO:tensorflow:Assets written to: model_experiments/model_1_dense/assets\n",
            "INFO:tensorflow:Assets written to: model_experiments/model_1_dense/assets\n",
            "INFO:tensorflow:Assets written to: model_experiments/model_1_dense/assets\n",
            "INFO:tensorflow:Assets written to: model_experiments/model_1_dense/assets\n",
            "INFO:tensorflow:Assets written to: model_experiments/model_1_dense/assets\n",
            "INFO:tensorflow:Assets written to: model_experiments/model_1_dense/assets\n",
            "INFO:tensorflow:Assets written to: model_experiments/model_1_dense/assets\n",
            "INFO:tensorflow:Assets written to: model_experiments/model_1_dense/assets\n",
            "INFO:tensorflow:Assets written to: model_experiments/model_1_dense/assets\n",
            "INFO:tensorflow:Assets written to: model_experiments/model_1_dense/assets\n",
            "INFO:tensorflow:Assets written to: model_experiments/model_1_dense/assets\n",
            "INFO:tensorflow:Assets written to: model_experiments/model_1_dense/assets\n",
            "INFO:tensorflow:Assets written to: model_experiments/model_1_dense/assets\n",
            "INFO:tensorflow:Assets written to: model_experiments/model_1_dense/assets\n",
            "INFO:tensorflow:Assets written to: model_experiments/model_1_dense/assets\n",
            "INFO:tensorflow:Assets written to: model_experiments/model_1_dense/assets\n",
            "INFO:tensorflow:Assets written to: model_experiments/model_1_dense/assets\n",
            "INFO:tensorflow:Assets written to: model_experiments/model_1_dense/assets\n",
            "INFO:tensorflow:Assets written to: model_experiments/model_1_dense/assets\n",
            "INFO:tensorflow:Assets written to: model_experiments/model_1_dense/assets\n",
            "INFO:tensorflow:Assets written to: model_experiments/model_1_dense/assets\n",
            "INFO:tensorflow:Assets written to: model_experiments/model_1_dense/assets\n",
            "INFO:tensorflow:Assets written to: model_experiments/model_1_dense/assets\n"
          ]
        },
        {
          "output_type": "execute_result",
          "data": {
            "text/plain": [
              "<keras.callbacks.History at 0x7f7a620582d0>"
            ]
          },
          "metadata": {},
          "execution_count": 23
        }
      ]
    },
    {
      "cell_type": "code",
      "source": [
        "# Evaluate the model\n",
        "model_1.evaluate(test_windows, test_labels)"
      ],
      "metadata": {
        "colab": {
          "base_uri": "https://localhost:8080/"
        },
        "id": "1Qyp6GYrPunD",
        "outputId": "d6785bf1-365c-4de8-cf0b-45dc346e4af2"
      },
      "execution_count": 24,
      "outputs": [
        {
          "output_type": "stream",
          "name": "stdout",
          "text": [
            "18/18 [==============================] - 0s 2ms/step - loss: 585.9758 - mae: 585.9758\n"
          ]
        },
        {
          "output_type": "execute_result",
          "data": {
            "text/plain": [
              "[585.9757690429688, 585.9757690429688]"
            ]
          },
          "metadata": {},
          "execution_count": 24
        }
      ]
    },
    {
      "cell_type": "code",
      "source": [
        "# Load in saved best performing model_1 and evaluate on test data\n",
        "model_1 = tf.keras.models.load_model(\"model_experiments/model_1_dense\")\n",
        "model_1.evaluate(test_windows, test_labels)"
      ],
      "metadata": {
        "colab": {
          "base_uri": "https://localhost:8080/"
        },
        "id": "RK-Q6oYaQOdX",
        "outputId": "bd5793c8-d176-47e2-c261-bce0f29eda36"
      },
      "execution_count": 25,
      "outputs": [
        {
          "output_type": "stream",
          "name": "stdout",
          "text": [
            "18/18 [==============================] - 0s 2ms/step - loss: 568.9510 - mae: 568.9510\n"
          ]
        },
        {
          "output_type": "execute_result",
          "data": {
            "text/plain": [
              "[568.9510498046875, 568.9510498046875]"
            ]
          },
          "metadata": {},
          "execution_count": 25
        }
      ]
    },
    {
      "cell_type": "code",
      "source": [
        "# Preds\n",
        "model_1_preds = make_preds(model_1, test_windows)"
      ],
      "metadata": {
        "id": "Kh7ZOWlgQadH"
      },
      "execution_count": 26,
      "outputs": []
    },
    {
      "cell_type": "code",
      "source": [
        "# Evaluate preds\n",
        "model_1_results = evaluate_preds(y_true=tf.squeeze(test_labels), # reduce to right shape\n",
        "                                 y_pred=model_1_preds)\n",
        "model_1_results"
      ],
      "metadata": {
        "colab": {
          "base_uri": "https://localhost:8080/"
        },
        "id": "gyrKLI8HQsdZ",
        "outputId": "5d8b1779-13d2-4bcd-ed12-590dd8fb943b"
      },
      "execution_count": 27,
      "outputs": [
        {
          "output_type": "execute_result",
          "data": {
            "text/plain": [
              "{'mae': 568.9511,\n",
              " 'mape': 2.5448983,\n",
              " 'mase': 0.99948955,\n",
              " 'mse': 1171743.8,\n",
              " 'rmse': 1082.4711}"
            ]
          },
          "metadata": {},
          "execution_count": 27
        }
      ]
    },
    {
      "cell_type": "code",
      "source": [
        "naive_results"
      ],
      "metadata": {
        "colab": {
          "base_uri": "https://localhost:8080/"
        },
        "id": "Ar3mJjVxQvqY",
        "outputId": "35a77519-d785-4f88-b11c-8a14b9f061f4"
      },
      "execution_count": 28,
      "outputs": [
        {
          "output_type": "execute_result",
          "data": {
            "text/plain": [
              "{'mae': 567.9802,\n",
              " 'mape': 2.516525,\n",
              " 'mase': 0.99957,\n",
              " 'mse': 1147547.0,\n",
              " 'rmse': 1071.2362}"
            ]
          },
          "metadata": {},
          "execution_count": 28
        }
      ]
    },
    {
      "cell_type": "code",
      "source": [
        "offset = 300\n",
        "plt.figure(figsize=(10, 7))\n",
        "# Account for the test_window offset and index into test_labels to ensure correct plotting\n",
        "plot_time_series(timesteps=X_test[-len(test_windows):], values=test_labels[:, 0], start=offset, label=\"Test_data\")\n",
        "plot_time_series(timesteps=X_test[-len(test_windows):], values=model_1_preds, start=offset, format=\"-\", label=\"model_1_preds\")"
      ],
      "metadata": {
        "colab": {
          "base_uri": "https://localhost:8080/",
          "height": 442
        },
        "id": "A2dVRkTfQ1Ir",
        "outputId": "4c1d6a4c-8331-495b-be61-9a03074beb54"
      },
      "execution_count": 29,
      "outputs": [
        {
          "output_type": "display_data",
          "data": {
            "text/plain": [
              "<Figure size 720x504 with 1 Axes>"
            ],
            "image/png": "[encoded data removed]"
          },
          "metadata": {
            "needs_background": "light"
          }
        }
      ]
    },
    {
      "cell_type": "markdown",
      "source": [
        "## Model 2: DenseNet\n",
        "\n",
        "- Window = 30\n",
        "- Horizon = 1"
      ],
      "metadata": {
        "id": "gf9qu4S3RCDB"
      }
    },
    {
      "cell_type": "code",
      "source": [
        "WINDOW = 30\n",
        "HORIZON = 1"
      ],
      "metadata": {
        "id": "qJa3-5t2RZwx"
      },
      "execution_count": 30,
      "outputs": []
    },
    {
      "cell_type": "code",
      "source": [
        "# Make windowed data with appropriate horizon and window sizes\n",
        "full_windows, full_labels = make_windows(prices, window_size=WINDOW_SIZE, horizon=HORIZON)\n",
        "len(full_windows), len(full_labels)"
      ],
      "metadata": {
        "colab": {
          "base_uri": "https://localhost:8080/"
        },
        "id": "OR-EIEu7RdOg",
        "outputId": "ea5ea122-da93-46bf-e0f6-08318aa9e95b"
      },
      "execution_count": 31,
      "outputs": [
        {
          "output_type": "execute_result",
          "data": {
            "text/plain": [
              "(2780, 2780)"
            ]
          },
          "metadata": {},
          "execution_count": 31
        }
      ]
    },
    {
      "cell_type": "code",
      "source": [
        "# Make train and testing windows\n",
        "train_windows, test_windows, train_labels, test_labels = make_train_test_splits(windows=full_windows, labels=full_labels)\n",
        "len(train_windows), len(test_windows), len(train_labels), len(test_labels)"
      ],
      "metadata": {
        "colab": {
          "base_uri": "https://localhost:8080/"
        },
        "id": "MY6f2lb3Rgik",
        "outputId": "362fb883-a612-4ce6-9483-ceeaa5110c6d"
      },
      "execution_count": 32,
      "outputs": [
        {
          "output_type": "execute_result",
          "data": {
            "text/plain": [
              "(2224, 556, 2224, 556)"
            ]
          },
          "metadata": {},
          "execution_count": 32
        }
      ]
    },
    {
      "cell_type": "code",
      "source": [
        "%%capture\n",
        "import tensorflow as tf\n",
        "from tensorflow.keras import layers\n",
        "\n",
        "tf.random.set_seed(42)\n",
        "\n",
        "model_2 = tf.keras.Sequential([\n",
        "                             layers.Dense(128, activation = \"relu\"),\n",
        "                             layers.Dense(HORIZON, activation = \"linear\")\n",
        "], name = \"model_2_dense\")\n",
        "\n",
        "model_2.compile(loss = \"mae\",\n",
        "                optimizer = tf.keras.optimizers.Adam(),\n",
        "                metrics = [\"mae\"])\n",
        "\n",
        "model_2.fit(x = train_windows,\n",
        "            y = train_labels,\n",
        "            epochs = 100,\n",
        "            batch_size = 128,\n",
        "            verbose = 0,\n",
        "            validation_data = (test_windows, test_labels),\n",
        "            callbacks = [create_model_checkpoint(\n",
        "                model_name = model_2.name\n",
        "            )])"
      ],
      "metadata": {
        "colab": {
          "base_uri": "https://localhost:8080/"
        },
        "id": "6m3fvJWtRle6",
        "outputId": "63bfb7d8-2939-458c-be43-3a361acb8c82"
      },
      "execution_count": 33,
      "outputs": [
        {
          "output_type": "stream",
          "name": "stdout",
          "text": [
            "INFO:tensorflow:Assets written to: model_experiments/model_2_dense/assets\n",
            "INFO:tensorflow:Assets written to: model_experiments/model_2_dense/assets\n",
            "INFO:tensorflow:Assets written to: model_experiments/model_2_dense/assets\n",
            "INFO:tensorflow:Assets written to: model_experiments/model_2_dense/assets\n",
            "INFO:tensorflow:Assets written to: model_experiments/model_2_dense/assets\n",
            "INFO:tensorflow:Assets written to: model_experiments/model_2_dense/assets\n",
            "INFO:tensorflow:Assets written to: model_experiments/model_2_dense/assets\n",
            "INFO:tensorflow:Assets written to: model_experiments/model_2_dense/assets\n",
            "INFO:tensorflow:Assets written to: model_experiments/model_2_dense/assets\n",
            "INFO:tensorflow:Assets written to: model_experiments/model_2_dense/assets\n",
            "INFO:tensorflow:Assets written to: model_experiments/model_2_dense/assets\n",
            "INFO:tensorflow:Assets written to: model_experiments/model_2_dense/assets\n",
            "INFO:tensorflow:Assets written to: model_experiments/model_2_dense/assets\n",
            "INFO:tensorflow:Assets written to: model_experiments/model_2_dense/assets\n",
            "INFO:tensorflow:Assets written to: model_experiments/model_2_dense/assets\n",
            "INFO:tensorflow:Assets written to: model_experiments/model_2_dense/assets\n",
            "INFO:tensorflow:Assets written to: model_experiments/model_2_dense/assets\n",
            "INFO:tensorflow:Assets written to: model_experiments/model_2_dense/assets\n",
            "INFO:tensorflow:Assets written to: model_experiments/model_2_dense/assets\n",
            "INFO:tensorflow:Assets written to: model_experiments/model_2_dense/assets\n",
            "INFO:tensorflow:Assets written to: model_experiments/model_2_dense/assets\n",
            "INFO:tensorflow:Assets written to: model_experiments/model_2_dense/assets\n",
            "INFO:tensorflow:Assets written to: model_experiments/model_2_dense/assets\n",
            "INFO:tensorflow:Assets written to: model_experiments/model_2_dense/assets\n",
            "INFO:tensorflow:Assets written to: model_experiments/model_2_dense/assets\n",
            "INFO:tensorflow:Assets written to: model_experiments/model_2_dense/assets\n",
            "INFO:tensorflow:Assets written to: model_experiments/model_2_dense/assets\n",
            "INFO:tensorflow:Assets written to: model_experiments/model_2_dense/assets\n",
            "INFO:tensorflow:Assets written to: model_experiments/model_2_dense/assets\n",
            "INFO:tensorflow:Assets written to: model_experiments/model_2_dense/assets\n",
            "INFO:tensorflow:Assets written to: model_experiments/model_2_dense/assets\n",
            "INFO:tensorflow:Assets written to: model_experiments/model_2_dense/assets\n",
            "INFO:tensorflow:Assets written to: model_experiments/model_2_dense/assets\n"
          ]
        }
      ]
    },
    {
      "cell_type": "code",
      "source": [
        "# Evaluate the model\n",
        "\n",
        "model_2_results = evaluate_preds(\n",
        "    y_true = tf.squeeze(test_labels),\n",
        "    y_pred = make_preds(model_2, test_windows)\n",
        ")\n",
        "model_2_results"
      ],
      "metadata": {
        "colab": {
          "base_uri": "https://localhost:8080/"
        },
        "id": "Eie-ceBdSpC0",
        "outputId": "697376c2-34ae-4c6f-800f-b168927b06e2"
      },
      "execution_count": 34,
      "outputs": [
        {
          "output_type": "execute_result",
          "data": {
            "text/plain": [
              "{'mae': 585.97577,\n",
              " 'mape': 2.6149104,\n",
              " 'mase': 1.0293971,\n",
              " 'mse': 1197802.1,\n",
              " 'rmse': 1094.4414}"
            ]
          },
          "metadata": {},
          "execution_count": 34
        }
      ]
    },
    {
      "cell_type": "markdown",
      "source": [
        "This model is comparatively worse than the others"
      ],
      "metadata": {
        "id": "P_DmEifhVVOs"
      }
    },
    {
      "cell_type": "markdown",
      "source": [
        "## Model 3: DenseNet\n",
        "\n",
        "- Window = 30\n",
        "- Horizon = 7"
      ],
      "metadata": {
        "id": "bprWwj4dTMFO"
      }
    },
    {
      "cell_type": "code",
      "source": [
        "HORIZON = 7\n",
        "WINDOW = 30\n",
        "\n",
        "full_windows, full_labels = make_windows(prices, window_size=WINDOW_SIZE, horizon=HORIZON)\n",
        "len(full_windows), len(full_labels)"
      ],
      "metadata": {
        "colab": {
          "base_uri": "https://localhost:8080/"
        },
        "id": "wL6lNsJuVUQ4",
        "outputId": "8a01437a-ce1b-4dea-bce9-49ef6467d1a2"
      },
      "execution_count": 35,
      "outputs": [
        {
          "output_type": "execute_result",
          "data": {
            "text/plain": [
              "(2774, 2774)"
            ]
          },
          "metadata": {},
          "execution_count": 35
        }
      ]
    },
    {
      "cell_type": "code",
      "source": [
        "train_windows, test_windows, train_labels, test_labels = make_train_test_splits(windows=full_windows, labels=full_labels, test_split=0.2)\n",
        "len(train_windows), len(test_windows), len(train_labels), len(test_labels)\n"
      ],
      "metadata": {
        "colab": {
          "base_uri": "https://localhost:8080/"
        },
        "id": "lVRJ6iBnVfUX",
        "outputId": "6fa1425c-f5d5-4b13-afb3-d1a691b8a574"
      },
      "execution_count": 36,
      "outputs": [
        {
          "output_type": "execute_result",
          "data": {
            "text/plain": [
              "(2219, 555, 2219, 555)"
            ]
          },
          "metadata": {},
          "execution_count": 36
        }
      ]
    },
    {
      "cell_type": "code",
      "source": [
        "tf.random.set_seed(42)\n",
        "\n",
        "# Create model (same as model_1 except with different data input size)\n",
        "model_3 = tf.keras.Sequential([\n",
        "  layers.Dense(128, activation=\"relu\"),\n",
        "  layers.Dense(HORIZON)\n",
        "], name=\"model_3_dense\")\n",
        "\n",
        "model_3.compile(loss=\"mae\",\n",
        "                optimizer=tf.keras.optimizers.Adam())\n",
        "\n",
        "model_3.fit(train_windows,\n",
        "            train_labels,\n",
        "            batch_size=128,\n",
        "            epochs=100,\n",
        "            verbose=0,\n",
        "            validation_data=(test_windows, test_labels),\n",
        "            callbacks=[create_model_checkpoint(model_name=model_3.name)])\n"
      ],
      "metadata": {
        "colab": {
          "base_uri": "https://localhost:8080/"
        },
        "id": "As0w-EP-VhtZ",
        "outputId": "214e0974-2477-4ede-f0d4-2afb8ba5bfcb"
      },
      "execution_count": 37,
      "outputs": [
        {
          "output_type": "stream",
          "name": "stdout",
          "text": [
            "INFO:tensorflow:Assets written to: model_experiments/model_3_dense/assets\n",
            "INFO:tensorflow:Assets written to: model_experiments/model_3_dense/assets\n",
            "INFO:tensorflow:Assets written to: model_experiments/model_3_dense/assets\n",
            "INFO:tensorflow:Assets written to: model_experiments/model_3_dense/assets\n",
            "INFO:tensorflow:Assets written to: model_experiments/model_3_dense/assets\n",
            "INFO:tensorflow:Assets written to: model_experiments/model_3_dense/assets\n",
            "INFO:tensorflow:Assets written to: model_experiments/model_3_dense/assets\n",
            "INFO:tensorflow:Assets written to: model_experiments/model_3_dense/assets\n",
            "INFO:tensorflow:Assets written to: model_experiments/model_3_dense/assets\n",
            "INFO:tensorflow:Assets written to: model_experiments/model_3_dense/assets\n",
            "INFO:tensorflow:Assets written to: model_experiments/model_3_dense/assets\n",
            "INFO:tensorflow:Assets written to: model_experiments/model_3_dense/assets\n",
            "INFO:tensorflow:Assets written to: model_experiments/model_3_dense/assets\n",
            "INFO:tensorflow:Assets written to: model_experiments/model_3_dense/assets\n",
            "INFO:tensorflow:Assets written to: model_experiments/model_3_dense/assets\n",
            "INFO:tensorflow:Assets written to: model_experiments/model_3_dense/assets\n",
            "INFO:tensorflow:Assets written to: model_experiments/model_3_dense/assets\n",
            "INFO:tensorflow:Assets written to: model_experiments/model_3_dense/assets\n",
            "INFO:tensorflow:Assets written to: model_experiments/model_3_dense/assets\n",
            "INFO:tensorflow:Assets written to: model_experiments/model_3_dense/assets\n",
            "INFO:tensorflow:Assets written to: model_experiments/model_3_dense/assets\n",
            "INFO:tensorflow:Assets written to: model_experiments/model_3_dense/assets\n",
            "INFO:tensorflow:Assets written to: model_experiments/model_3_dense/assets\n",
            "INFO:tensorflow:Assets written to: model_experiments/model_3_dense/assets\n",
            "INFO:tensorflow:Assets written to: model_experiments/model_3_dense/assets\n",
            "INFO:tensorflow:Assets written to: model_experiments/model_3_dense/assets\n",
            "INFO:tensorflow:Assets written to: model_experiments/model_3_dense/assets\n",
            "INFO:tensorflow:Assets written to: model_experiments/model_3_dense/assets\n",
            "INFO:tensorflow:Assets written to: model_experiments/model_3_dense/assets\n",
            "INFO:tensorflow:Assets written to: model_experiments/model_3_dense/assets\n"
          ]
        },
        {
          "output_type": "execute_result",
          "data": {
            "text/plain": [
              "<keras.callbacks.History at 0x7f7a495dda10>"
            ]
          },
          "metadata": {},
          "execution_count": 37
        }
      ]
    },
    {
      "cell_type": "code",
      "source": [
        "# Model 3 results\n",
        "model_3_results = evaluate_preds(\n",
        "    y_true = tf.squeeze(test_labels),\n",
        "    y_pred = make_preds(model_3, test_windows)\n",
        ")\n",
        "model_3_results"
      ],
      "metadata": {
        "colab": {
          "base_uri": "https://localhost:8080/"
        },
        "id": "-MF1AzWSVlRR",
        "outputId": "54e2449b-a4e9-40c8-c135-3d73d6b1dc7a"
      },
      "execution_count": 38,
      "outputs": [
        {
          "output_type": "execute_result",
          "data": {
            "text/plain": [
              "{'mae': array([ 259.97574 ,  291.12137 ,  326.6921  ,  373.23843 ,  359.3164  ,\n",
              "         157.85783 ,  198.05916 ,  247.7207  ,  204.95076 ,  235.4518  ,\n",
              "         272.71625 ,  356.28592 ,  451.94092 ,  532.02875 ,  744.8007  ,\n",
              "         647.3494  ,  657.48505 ,  643.8253  ,  324.49442 ,  184.03377 ,\n",
              "         250.76514 ,  434.96735 ,  384.7578  ,  413.07812 ,  149.47092 ,\n",
              "         156.69539 ,  220.68959 ,  151.84885 ,   88.61042 ,  184.6702  ,\n",
              "         218.9423  ,  284.21988 ,  185.27979 ,  172.40088 ,  238.54088 ,\n",
              "         284.73325 ,  165.31055 ,  191.50613 ,  174.43652 ,  187.64404 ,\n",
              "         172.64719 ,  195.5616  ,  230.68896 ,  369.56348 ,  692.95154 ,\n",
              "          69.57708 ,   91.39593 ,  133.78844 ,   47.9232  ,   70.57875 ,\n",
              "         147.26018 ,  142.51584 ,  136.37953 ,  187.22342 ,  144.7456  ,\n",
              "          83.467   ,   91.6808  ,  127.49163 ,  332.34445 ,  484.70844 ,\n",
              "         753.575   ,  650.3965  ,  623.3125  ,  698.43134 ,  467.51312 ,\n",
              "         235.52867 ,  260.66867 ,  561.5173  ,  560.13965 ,  621.6768  ,\n",
              "         629.14703 ,  730.21936 ,  241.25711 ,  175.90584 ,  189.82283 ,\n",
              "         237.41685 ,  319.57785 ,  175.15598 ,  125.25042 ,  181.7299  ,\n",
              "         272.86176 ,  565.0741  ,  721.3929  ,  921.67303 ,  876.3507  ,\n",
              "         609.2079  ,  315.3577  ,  175.76102 ,  103.07366 ,  164.7341  ,\n",
              "         270.08707 ,  399.86606 ,  552.48035 ,  809.61914 ,  584.4898  ,\n",
              "         477.62164 ,  439.35883 ,  345.99023 ,  270.84262 ,  375.93527 ,\n",
              "         240.38742 ,  307.8358  ,  360.62164 ,  437.8432  ,  240.84123 ,\n",
              "         111.375   ,  279.02078 ,  270.0646  ,  269.94238 ,  390.22867 ,\n",
              "         474.72852 ,  560.3146  ,  834.72687 ,  759.75824 ,  575.57745 ,\n",
              "         135.5286  ,  169.59402 ,  234.2539  ,  347.33942 ,  518.8854  ,\n",
              "         402.72427 ,  498.56647 ,  599.6229  , 1023.0202  , 1567.8878  ,\n",
              "        1945.3573  , 1642.8348  , 1771.2668  , 2036.5432  , 2409.8884  ,\n",
              "         764.29083 ,  545.44324 ,  457.98383 ,  525.45605 ,  970.20087 ,\n",
              "         859.3013  , 1033.9628  ,  380.29437 ,  337.05978 ,  399.76346 ,\n",
              "         591.6416  ,  337.26926 ,  281.96436 ,  309.5683  ,  259.69748 ,\n",
              "         231.7781  ,  379.13058 ,  793.9196  ,  563.39044 ,  512.88135 ,\n",
              "         534.5591  ,  347.3406  ,  338.82275 ,  312.27832 ,  376.18765 ,\n",
              "         211.62277 ,  255.71986 ,  364.27545 ,  362.18723 ,   99.842   ,\n",
              "         263.38428 ,  178.07555 ,  246.95662 ,  250.02002 ,  429.16986 ,\n",
              "         199.20676 ,  225.53459 ,  215.10275 ,  281.95465 ,  580.14325 ,\n",
              "         762.37115 ,  824.3608  ,  547.9432  ,  665.73773 ,  862.5426  ,\n",
              "         990.711   , 1011.75244 , 1159.243   ,  443.45883 ,  331.00488 ,\n",
              "         413.7355  ,  459.46094 ,  561.77747 ,  613.5815  ,  572.44586 ,\n",
              "         480.0219  ,  542.47406 ,  726.7433  ,  541.9554  ,  472.38043 ,\n",
              "         941.45184 ,  970.88196 ,  512.22766 ,  231.39816 ,  295.12625 ,\n",
              "         290.72656 ,  308.68945 ,  420.99777 ,  524.14954 ,  408.55078 ,\n",
              "         132.58049 ,  198.17188 ,  242.20201 ,  342.85434 ,  662.846   ,\n",
              "         858.0699  ,  711.64606 ,  342.46094 ,  321.98312 ,  192.26186 ,\n",
              "         350.07465 ,  325.2115  ,  127.9753  ,  227.42662 ,  184.18387 ,\n",
              "         258.30844 ,  264.54437 ,  253.84793 ,  267.23062 ,  274.89816 ,\n",
              "         332.9113  ,  198.08371 ,  197.4089  ,  143.42062 ,  181.60002 ,\n",
              "         137.5198  ,   77.261856,  152.6649  ,  164.3489  ,  253.13992 ,\n",
              "         239.68387 ,  251.2885  ,  297.3238  ,  379.04047 ,  133.03125 ,\n",
              "          90.53167 ,  117.11035 ,  218.11844 ,  204.85756 ,  110.796036,\n",
              "         101.47475 ,   92.993164,  187.43848 ,  246.69656 ,  244.66072 ,\n",
              "         321.6479  ,  163.3619  ,  139.41225 ,  100.69099 ,  109.83663 ,\n",
              "         127.19657 ,  123.82966 ,   79.89718 ,   84.252235,   58.32017 ,\n",
              "         135.2627  ,  280.16086 ,  338.53363 ,  393.14047 ,  476.77594 ,\n",
              "         775.2399  ,  820.5272  ,  896.34375 , 1000.809   , 1286.4753  ,\n",
              "        1495.2911  , 1447.9628  ,  380.88754 ,  279.36816 ,  198.46178 ,\n",
              "         349.51074 ,  276.5441  ,  191.96484 ,  382.12863 ,  545.263   ,\n",
              "         597.1208  ,  271.84375 ,  156.83426 ,  169.45633 ,  150.41797 ,\n",
              "         208.1356  ,  229.256   ,  593.1257  ,  594.2409  ,  386.43848 ,\n",
              "         339.57324 ,  283.70703 ,  246.04102 ,  435.90445 ,  399.08594 ,\n",
              "         187.25545 ,  171.66727 ,  195.93289 ,  134.90877 ,  108.30134 ,\n",
              "         101.76493 ,  256.47125 ,  317.55832 ,  510.619   ,  504.74023 ,\n",
              "         638.15265 ,  772.97235 ,  939.8379  , 1317.0714  , 1122.5188  ,\n",
              "         431.63824 ,  179.70117 ,  311.04254 ,  316.77777 ,  217.63518 ,\n",
              "         485.8206  ,  484.8365  ,  460.85812 ,  456.23535 ,  494.82047 ,\n",
              "         672.6694  ,  424.4139  ,  300.8552  ,  297.61523 ,  317.113   ,\n",
              "         271.64273 ,  300.55356 ,  185.69727 ,  232.64592 ,  343.31012 ,\n",
              "         604.42914 ,  312.80386 ,  198.42996 ,  167.98117 ,  150.74246 ,\n",
              "          97.36049 ,   96.69015 ,   75.58008 ,  147.74289 ,  295.53754 ,\n",
              "         433.7087  ,  443.0491  ,  455.44196 ,  682.7344  ,  794.8294  ,\n",
              "         668.583   ,  505.53738 ,  227.35547 ,  187.191   ,   88.23842 ,\n",
              "         152.79924 ,  487.66684 ,  670.2485  ,  990.2655  , 1264.803   ,\n",
              "        1407.1721  , 1294.1355  , 1325.8102  ,  365.62082 ,  161.69629 ,\n",
              "         329.8372  ,  463.23257 ,  627.9079  ,  702.8927  ,  222.92899 ,\n",
              "         473.7468  ,  719.0201  ,  909.7574  ,  739.0967  , 1029.1315  ,\n",
              "        1419.3358  , 1516.2626  , 1430.6083  ,  484.75082 ,  349.9227  ,\n",
              "         870.3851  ,  647.4442  ,  879.28723 , 1143.8632  , 1098.401   ,\n",
              "         873.6952  , 1095.7767  , 1655.5802  , 2237.9934  , 1846.2789  ,\n",
              "        1122.0931  ,  809.24414 ,  881.60016 ,  691.56726 ,  708.3482  ,\n",
              "         769.96484 ,  711.8005  ,  743.3326  ,  764.2676  , 1318.3965  ,\n",
              "        2077.7048  , 1703.5957  , 1287.983   ,  192.4548  ,  276.73215 ,\n",
              "         314.3393  ,  470.0586  ,  417.21902 ,  346.74918 ,  254.19084 ,\n",
              "         261.0346  ,  352.60687 ,  931.8722  , 1727.5013  , 2636.389   ,\n",
              "        2790.5542  , 3058.859   , 3381.168   , 3776.3582  , 2502.8638  ,\n",
              "         791.9227  ,  484.75363 ,  619.2419  ,  980.1928  , 1755.4818  ,\n",
              "        2280.451   , 3215.4312  , 3701.2449  , 3517.3472  , 2588.2852  ,\n",
              "        3017.8997  , 3493.5242  , 4388.131   , 3986.6375  , 4750.11    ,\n",
              "        6135.763   , 5051.452   , 4845.618   , 5910.0493  , 4127.1025  ,\n",
              "        2944.057   , 2359.1858  , 3602.731   , 4111.1587  , 3008.0496  ,\n",
              "        1637.1133  , 3153.0999  , 1085.2299  , 2389.1702  , 2054.9448  ,\n",
              "        2226.524   , 2449.809   , 2924.0623  , 3523.9976  , 2905.4368  ,\n",
              "        1315.5927  ,  935.0536  , 1441.0616  , 1577.9294  , 1632.2971  ,\n",
              "        2157.3535  , 4099.199   , 2917.039   , 1744.6439  , 2397.066   ,\n",
              "        3994.2231  , 5745.651   , 5525.5195  , 4600.2275  , 5694.336   ,\n",
              "        6816.331   , 6039.534   , 8109.538   , 4103.806   , 1563.9392  ,\n",
              "        2654.5105  , 2212.701   , 2966.2327  , 4446.2383  , 4345.7705  ,\n",
              "        5579.443   , 5438.443   , 3637.6003  , 3851.0386  , 4627.346   ,\n",
              "        5767.4595  , 8373.411   , 7096.314   , 1770.6172  , 1528.0592  ,\n",
              "        1558.7428  , 2540.784   , 2973.9106  , 4587.4404  , 1821.6914  ,\n",
              "        2672.442   , 2236.9666  , 4205.4995  , 5428.5503  , 7188.341   ,\n",
              "        7275.5386  , 6671.1157  , 4404.2725  , 1914.6428  , 1467.0312  ,\n",
              "        1545.082   , 1797.534   , 2360.6892  , 1929.7455  , 2473.6753  ,\n",
              "        2106.543   , 2868.4397  , 3199.6233  , 3264.1736  , 3063.182   ,\n",
              "        1309.0558  , 2272.519   , 3925.4387  , 5719.3174  , 4697.3857  ,\n",
              "        2675.4739  , 3109.5105  , 1816.0413  ,  770.55914 ,  980.7489  ,\n",
              "         840.596   ,  752.32367 , 1163.4269  , 1188.6178  ,  904.91125 ,\n",
              "        1902.2924  , 4048.5247  , 4212.357   , 4064.4744  , 3141.658   ,\n",
              "        3003.0044  , 3367.9827  , 3152.1328  , 4417.6284  , 6042.024   ,\n",
              "        6412.772   , 6200.9307  , 4013.494   , 3338.303   , 3360.3616  ,\n",
              "        2027.5011  , 1868.9587  , 3600.644   , 4891.1562  , 7213.7334  ,\n",
              "        4294.1055  , 1971.01    , 2149.059   , 3375.9001  , 1353.8131  ,\n",
              "         824.7271  , 1147.3041  , 1474.2014  , 3456.4692  , 2009.0692  ,\n",
              "        2773.7517  , 3373.5078  , 5178.5312  , 6658.0635  , 6764.9766  ],\n",
              "       dtype=float32),\n",
              " 'mape': array([ 2.8556943 ,  3.2802634 ,  3.7083972 ,  4.250289  ,  4.114592  ,\n",
              "         1.8065069 ,  2.2618375 ,  2.8937724 ,  2.4401908 ,  2.841751  ,\n",
              "         3.3316412 ,  4.5100474 ,  5.92367   ,  7.076229  , 10.1200285 ,\n",
              "         8.933877  ,  9.09486   ,  8.883987  ,  4.497563  ,  2.4729524 ,\n",
              "         3.341931  ,  5.8006115 ,  5.118587  ,  5.495023  ,  1.9933316 ,\n",
              "         2.089494  ,  3.0035706 ,  2.0680602 ,  1.1884018 ,  2.4699006 ,\n",
              "         2.9293559 ,  3.811272  ,  2.4900262 ,  2.3626356 ,  3.3131468 ,\n",
              "         3.9730084 ,  2.3576972 ,  2.822975  ,  2.522972  ,  2.6902432 ,\n",
              "         2.4979305 ,  2.77751   ,  3.2576904 ,  5.133112  ,  9.566269  ,\n",
              "         0.96019906,  1.2635813 ,  1.850413  ,  0.66243196,  0.97096497,\n",
              "         2.0228407 ,  1.9569216 ,  1.8724445 ,  2.596154  ,  2.0018835 ,\n",
              "         1.1630946 ,  1.2935053 ,  1.7257998 ,  4.359715  ,  6.2423654 ,\n",
              "         9.702637  ,  8.239679  ,  7.8196363 ,  8.710703  ,  5.798782  ,\n",
              "         2.8233025 ,  3.0590675 ,  6.571517  ,  6.44354   ,  7.079432  ,\n",
              "         7.141897  ,  8.298306  ,  2.729178  ,  2.0101552 ,  2.1935613 ,\n",
              "         2.7790768 ,  3.773421  ,  2.0634549 ,  1.4555327 ,  2.0776002 ,\n",
              "         3.0370026 ,  6.1747937 ,  7.8101716 ,  9.9463    ,  9.395034  ,\n",
              "         6.502185  ,  3.353041  ,  1.8629031 ,  1.1044356 ,  1.7265337 ,\n",
              "         2.780089  ,  4.06373   ,  5.6002617 ,  8.156638  ,  5.8066106 ,\n",
              "         4.70944   ,  4.3030825 ,  3.375392  ,  2.662649  ,  3.6995385 ,\n",
              "         2.3865936 ,  3.1372712 ,  3.6931057 ,  4.5061684 ,  2.4618242 ,\n",
              "         1.1139553 ,  2.8174417 ,  2.8220308 ,  2.966845  ,  4.268983  ,\n",
              "         5.247945  ,  6.3098855 ,  9.548512  ,  8.683244  ,  6.5930324 ,\n",
              "         1.550871  ,  1.9122694 ,  2.6150157 ,  3.8732796 ,  5.858535  ,\n",
              "         4.781921  ,  6.0182247 ,  7.2538605 , 14.949572  , 24.4213    ,\n",
              "        32.25395   , 29.334398  , 32.774925  , 37.771782  , 44.82257   ,\n",
              "        14.402115  ,  9.935461  ,  7.9585843 ,  8.947663  , 15.89849   ,\n",
              "        13.520795  , 16.116278  ,  5.7757673 ,  5.1395326 ,  6.089447  ,\n",
              "         8.936372  ,  5.1272726 ,  4.544608  ,  4.976756  ,  4.181912  ,\n",
              "         3.7267187 ,  5.7297053 , 11.839706  ,  8.178396  ,  7.35196   ,\n",
              "         7.5450125 ,  4.815765  ,  4.671807  ,  4.305025  ,  5.1981573 ,\n",
              "         2.997924  ,  3.6562114 ,  5.3108053 ,  5.2665925 ,  1.4205605 ,\n",
              "         3.7188444 ,  2.496448  ,  3.4667115 ,  3.4954753 ,  6.0223107 ,\n",
              "         2.736523  ,  3.079036  ,  2.9546416 ,  3.8258176 ,  7.6858044 ,\n",
              "        10.034435  , 10.374881  ,  6.540321  ,  7.7785296 ,  9.950166  ,\n",
              "        11.302658  , 11.43891   , 13.059439  ,  4.917004  ,  3.519056  ,\n",
              "         4.2950444 ,  4.734979  ,  5.8271213 ,  6.4056106 ,  5.956501  ,\n",
              "         5.142186  ,  6.093711  ,  8.108293  ,  6.051669  ,  4.9920807 ,\n",
              "         9.876398  , 10.116206  ,  5.3136444 ,  2.4629657 ,  3.114568  ,\n",
              "         3.045391  ,  3.3339314 ,  4.63266   ,  5.8173776 ,  4.531471  ,\n",
              "         1.4550492 ,  2.1382256 ,  2.578153  ,  3.6229675 ,  6.8513336 ,\n",
              "         8.872731  ,  7.306614  ,  3.4655192 ,  3.2444842 ,  1.9221803 ,\n",
              "         3.537308  ,  3.3623137 ,  1.3137167 ,  2.3291967 ,  1.926882  ,\n",
              "         2.6809573 ,  2.7488773 ,  2.6555789 ,  2.821534  ,  2.9069858 ,\n",
              "         3.5397065 ,  2.0957227 ,  2.0944748 ,  1.52133   ,  1.9281665 ,\n",
              "         1.4500958 ,  0.8083069 ,  1.608346  ,  1.7288764 ,  2.669962  ,\n",
              "         2.543967  ,  2.6669319 ,  3.2419047 ,  4.1438785 ,  1.4552357 ,\n",
              "         0.9917839 ,  1.2769388 ,  2.3825045 ,  2.2369242 ,  1.209081  ,\n",
              "         1.1047164 ,  1.0028089 ,  2.0197284 ,  2.6539948 ,  2.6306732 ,\n",
              "         3.4560506 ,  1.752807  ,  1.4943517 ,  1.0904863 ,  1.1919901 ,\n",
              "         1.3779002 ,  1.3409308 ,  0.86704844,  0.9160252 ,  0.632617  ,\n",
              "         1.4518331 ,  2.9827302 ,  3.5821888 ,  4.1267796 ,  4.9485054 ,\n",
              "         7.630678  ,  7.824973  ,  8.278697  ,  9.1189785 , 11.623831  ,\n",
              "        13.299617  , 12.822509  ,  3.3355181 ,  2.4396088 ,  1.7194738 ,\n",
              "         3.0158362 ,  2.3650587 ,  1.6932869 ,  3.276446  ,  4.66011   ,\n",
              "         5.0958796 ,  2.3205295 ,  1.3530983 ,  1.4527928 ,  1.2871702 ,\n",
              "         1.7710241 ,  1.927336  ,  4.9502115 ,  4.9426284 ,  3.201643  ,\n",
              "         2.8200562 ,  2.3598373 ,  2.0467153 ,  3.7243073 ,  3.44454   ,\n",
              "         1.6217606 ,  1.5029246 ,  1.6916977 ,  1.1653898 ,  0.9391225 ,\n",
              "         0.88922334,  2.2006598 ,  2.7149827 ,  4.443218  ,  4.499621  ,\n",
              "         5.935336  ,  7.3717065 ,  9.00711   , 12.7811775 , 10.942164  ,\n",
              "         4.228424  ,  1.7704139 ,  3.010867  ,  3.0618157 ,  2.0872164 ,\n",
              "         4.625385  ,  4.544414  ,  4.277169  ,  4.2032776 ,  4.5327806 ,\n",
              "         6.158083  ,  3.8817909 ,  2.7756674 ,  2.8345199 ,  3.0049129 ,\n",
              "         2.5668924 ,  2.858675  ,  1.7676708 ,  2.1787333 ,  3.1946144 ,\n",
              "         5.6183686 ,  2.9042742 ,  1.8463304 ,  1.5690826 ,  1.4056765 ,\n",
              "         0.91334283,  0.9104835 ,  0.70800245,  1.3819101 ,  2.739635  ,\n",
              "         3.9610434 ,  3.9948053 ,  4.0241203 ,  6.0289316 ,  6.991304  ,\n",
              "         5.849294  ,  4.4091487 ,  1.9764636 ,  1.6267174 ,  0.77169687,\n",
              "         1.3095436 ,  3.9633565 ,  5.28169   ,  7.7836356 ,  9.87852   ,\n",
              "        10.906473  ,  9.9504385 , 10.067165  ,  2.7513201 ,  1.2026982 ,\n",
              "         2.4575672 ,  3.40813   ,  4.6081038 ,  5.147159  ,  1.6262561 ,\n",
              "         3.431064  ,  4.9947953 ,  6.1383824 ,  4.880097  ,  6.778374  ,\n",
              "         9.346092  ,  9.918971  ,  9.272061  ,  3.0877466 ,  2.232738  ,\n",
              "         5.4646244 ,  4.034903  ,  5.423329  ,  6.8973565 ,  6.4506335 ,\n",
              "         4.97291   ,  6.1564007 ,  9.181023  , 12.33418   , 10.082226  ,\n",
              "         6.0461617 ,  4.3362703 ,  4.780091  ,  3.9043121 ,  4.0201077 ,\n",
              "         4.353672  ,  3.9658449 ,  4.223274  ,  4.3053694 ,  6.946927  ,\n",
              "        10.948314  ,  8.918698  ,  6.715907  ,  0.99873376,  1.4513547 ,\n",
              "         1.667111  ,  2.5284243 ,  2.2444432 ,  1.8594682 ,  1.3735558 ,\n",
              "         1.4177712 ,  1.8542787 ,  4.6678805 ,  8.239458  , 12.296924  ,\n",
              "        12.475134  , 13.395737  , 14.68273   , 16.303562  , 10.719921  ,\n",
              "         3.3661752 ,  2.0307152 ,  2.4861445 ,  3.8171244 ,  6.7692146 ,\n",
              "         8.69555   , 11.984911  , 13.497628  , 12.5604105 ,  8.737535  ,\n",
              "         9.812344  , 11.24139   , 13.754918  , 11.907845  , 13.387348  ,\n",
              "        16.689184  , 13.088054  , 12.518348  , 15.254919  , 10.504846  ,\n",
              "         7.589857  ,  6.560889  , 10.052649  , 11.48585   ,  8.44739   ,\n",
              "         4.425998  ,  8.529927  ,  2.938867  ,  7.1841383 ,  6.3290877 ,\n",
              "         6.813007  ,  7.600032  ,  9.078442  , 10.97509   ,  9.209161  ,\n",
              "         4.0266623 ,  2.8368647 ,  4.298409  ,  4.692989  ,  4.86181   ,\n",
              "         6.3355594 , 11.718633  ,  8.125389  ,  4.7634716 ,  6.3919864 ,\n",
              "        10.50468   , 14.440513  , 13.100365  , 10.446911  , 12.651038  ,\n",
              "        14.872053  , 13.013609  , 17.241474  ,  8.616896  ,  3.2555912 ,\n",
              "         5.394061  ,  4.383684  ,  5.649484  ,  8.407362  ,  7.9472847 ,\n",
              "        10.227186  ,  9.9662895 ,  6.786298  ,  7.322367  ,  9.595205  ,\n",
              "        12.058347  , 17.791328  , 15.076078  ,  3.8100774 ,  3.220813  ,\n",
              "         3.2559016 ,  5.166122  ,  6.0496287 ,  9.274542  ,  3.6184173 ,\n",
              "         5.1837835 ,  4.1626215 ,  7.6585307 ,  9.7430315 , 12.641562  ,\n",
              "        12.542807  , 11.46421   ,  7.5186796 ,  3.2163727 ,  2.4717379 ,\n",
              "         2.5961726 ,  3.1210265 ,  4.1090794 ,  3.3852623 ,  4.2939014 ,\n",
              "         3.8293111 ,  5.3279204 ,  5.9526    ,  6.07219   ,  5.6938863 ,\n",
              "         2.3815901 ,  4.0288286 ,  6.850974  ,  9.936142  ,  8.083666  ,\n",
              "         4.57068   ,  5.3156266 ,  3.095879  ,  1.3177681 ,  1.7045722 ,\n",
              "         1.4630971 ,  1.3025835 ,  1.9984368 ,  2.0231524 ,  1.541038  ,\n",
              "         3.1511302 ,  6.6514664 ,  6.822747  ,  6.5485992 ,  5.0356617 ,\n",
              "         4.8738027 ,  5.5457277 ,  5.4713755 ,  7.863398  , 11.012911  ,\n",
              "        11.989838  , 11.785717  ,  7.959906  ,  6.553821  ,  6.606727  ,\n",
              "         4.012782  ,  3.5331726 ,  6.5993085 ,  8.8436985 , 12.948232  ,\n",
              "         7.6108685 ,  3.4875875 ,  3.795569  ,  5.91901   ,  2.404635  ,\n",
              "         1.4951863 ,  2.026646  ,  2.6106534 ,  6.0165024 ,  3.597355  ,\n",
              "         5.2008653 ,  6.5032296 , 10.337494  , 13.671676  , 14.466853  ],\n",
              "       dtype=float32),\n",
              " 'mase': 2.2326643,\n",
              " 'mse': array([7.23695547e+04, 1.26666273e+05, 1.58924125e+05, 1.81298750e+05,\n",
              "        1.62887547e+05, 5.44718945e+04, 6.01149688e+04, 8.44408359e+04,\n",
              "        8.18056250e+04, 1.05429328e+05, 1.32084016e+05, 2.59500766e+05,\n",
              "        3.90851000e+05, 4.63900562e+05, 7.90465312e+05, 6.12995312e+05,\n",
              "        5.22772438e+05, 4.45622719e+05, 1.22846836e+05, 4.58635391e+04,\n",
              "        9.17516016e+04, 2.32262750e+05, 1.87532219e+05, 2.05786375e+05,\n",
              "        4.11848164e+04, 3.92256602e+04, 5.69616250e+04, 3.01445469e+04,\n",
              "        1.49409512e+04, 4.68921328e+04, 6.61520078e+04, 9.99325000e+04,\n",
              "        4.80718477e+04, 3.71942617e+04, 7.57616641e+04, 9.83712031e+04,\n",
              "        5.92423555e+04, 9.27739219e+04, 5.31626953e+04, 5.60598828e+04,\n",
              "        6.24810234e+04, 5.41482109e+04, 7.25254766e+04, 1.56598844e+05,\n",
              "        4.92189156e+05, 9.33070996e+03, 1.16331416e+04, 2.06604102e+04,\n",
              "        5.24042822e+03, 6.93378271e+03, 2.61632949e+04, 2.56897676e+04,\n",
              "        2.47641523e+04, 4.45849023e+04, 2.88187559e+04, 1.31953389e+04,\n",
              "        1.99424023e+04, 2.88303535e+04, 1.66887578e+05, 3.31952781e+05,\n",
              "        6.57477875e+05, 5.02991594e+05, 4.47529938e+05, 5.08667000e+05,\n",
              "        2.23753516e+05, 9.42278594e+04, 1.23041180e+05, 4.04320969e+05,\n",
              "        4.12546781e+05, 4.77170688e+05, 4.71751812e+05, 5.59022625e+05,\n",
              "        7.93315000e+04, 3.66032695e+04, 6.68866797e+04, 8.34776953e+04,\n",
              "        1.36617172e+05, 3.88763711e+04, 1.88017773e+04, 4.81782617e+04,\n",
              "        1.22610180e+05, 4.53862938e+05, 6.72300938e+05, 9.44441500e+05,\n",
              "        8.07549188e+05, 3.95105562e+05, 1.28855414e+05, 3.78564922e+04,\n",
              "        1.81386934e+04, 3.97542227e+04, 1.06844461e+05, 2.18587828e+05,\n",
              "        3.78077062e+05, 6.82458938e+05, 3.77775000e+05, 2.61751266e+05,\n",
              "        2.15519344e+05, 1.53415016e+05, 8.50744609e+04, 1.78456922e+05,\n",
              "        7.63907344e+04, 1.49334250e+05, 1.84933219e+05, 2.39387391e+05,\n",
              "        7.35688047e+04, 3.72572305e+04, 1.16195047e+05, 1.05863250e+05,\n",
              "        2.13378016e+05, 2.47953891e+05, 3.04421562e+05, 4.30089219e+05,\n",
              "        8.79046875e+05, 6.49067625e+05, 3.50211594e+05, 2.70019844e+04,\n",
              "        3.74080664e+04, 7.85514141e+04, 1.55913453e+05, 2.83602594e+05,\n",
              "        2.45744203e+05, 3.46517438e+05, 3.99289750e+05, 1.99844400e+06,\n",
              "        3.92701950e+06, 5.36992450e+06, 4.27968600e+06, 4.24888300e+06,\n",
              "        4.82711850e+06, 5.87243050e+06, 7.08099812e+05, 3.29866594e+05,\n",
              "        2.51153547e+05, 3.61914156e+05, 1.07525588e+06, 9.16229438e+05,\n",
              "        1.13184475e+06, 1.97046625e+05, 1.35884438e+05, 1.79286828e+05,\n",
              "        4.19423500e+05, 1.42413203e+05, 1.42341094e+05, 1.58216891e+05,\n",
              "        1.13891992e+05, 1.00444180e+05, 1.67121203e+05, 6.54937125e+05,\n",
              "        3.74919656e+05, 3.00651469e+05, 3.18906156e+05, 1.58929344e+05,\n",
              "        1.74430109e+05, 1.46864953e+05, 1.89241922e+05, 5.25112227e+04,\n",
              "        7.52627109e+04, 1.65770797e+05, 1.48421094e+05, 2.01689277e+04,\n",
              "        8.56970234e+04, 4.84888320e+04, 8.16820000e+04, 9.51857422e+04,\n",
              "        2.07993156e+05, 6.02751055e+04, 6.70607734e+04, 6.11030820e+04,\n",
              "        9.16287656e+04, 4.01513969e+05, 6.14540062e+05, 8.19999938e+05,\n",
              "        5.23499156e+05, 7.00897500e+05, 1.00232900e+06, 1.20397025e+06,\n",
              "        1.17074412e+06, 1.34742225e+06, 2.22249047e+05, 1.91508906e+05,\n",
              "        3.05933438e+05, 3.57829500e+05, 4.72230844e+05, 5.31258625e+05,\n",
              "        4.87618594e+05, 2.81593031e+05, 4.51639344e+05, 6.65773188e+05,\n",
              "        3.64716219e+05, 2.85928938e+05, 9.83259500e+05, 9.71049688e+05,\n",
              "        2.86646312e+05, 7.84199531e+04, 1.03640789e+05, 1.04818102e+05,\n",
              "        1.20705570e+05, 2.54799531e+05, 3.56161312e+05, 1.95651344e+05,\n",
              "        2.27147285e+04, 5.92814766e+04, 9.00356797e+04, 1.75738359e+05,\n",
              "        5.68516125e+05, 8.40710500e+05, 5.89523000e+05, 1.89226875e+05,\n",
              "        1.85845969e+05, 9.57159219e+04, 1.81356031e+05, 1.14492641e+05,\n",
              "        2.07857324e+04, 5.75999922e+04, 5.75502383e+04, 7.44691328e+04,\n",
              "        7.47608203e+04, 7.63157031e+04, 8.15364453e+04, 8.20195000e+04,\n",
              "        1.21213820e+05, 4.30245977e+04, 4.07867578e+04, 2.49636445e+04,\n",
              "        3.87802500e+04, 2.56995273e+04, 1.19162578e+04, 3.60982539e+04,\n",
              "        4.75980664e+04, 9.09399609e+04, 8.97039922e+04, 9.15665469e+04,\n",
              "        1.07060891e+05, 1.60964641e+05, 2.68421875e+04, 1.23554238e+04,\n",
              "        2.09319785e+04, 5.78983711e+04, 4.95652461e+04, 1.50656455e+04,\n",
              "        1.49950703e+04, 1.31559697e+04, 5.02076992e+04, 8.26391953e+04,\n",
              "        7.75576797e+04, 1.18509820e+05, 3.57617305e+04, 2.88234727e+04,\n",
              "        1.73688184e+04, 1.85940645e+04, 1.96884199e+04, 2.01097461e+04,\n",
              "        9.09166406e+03, 1.01097900e+04, 4.63162939e+03, 2.36522148e+04,\n",
              "        9.56300703e+04, 1.37471797e+05, 1.81102172e+05, 2.56934797e+05,\n",
              "        8.45238000e+05, 1.02034256e+06, 1.25596288e+06, 1.43081100e+06,\n",
              "        2.01255125e+06, 2.46934675e+06, 2.15798775e+06, 2.09939734e+05,\n",
              "        1.32615938e+05, 7.82919297e+04, 1.65016609e+05, 1.30021023e+05,\n",
              "        5.67797852e+04, 1.87470719e+05, 3.28355219e+05, 4.01426438e+05,\n",
              "        8.88301953e+04, 3.24974531e+04, 3.98436172e+04, 2.71486035e+04,\n",
              "        5.14038633e+04, 6.96805078e+04, 3.99465188e+05, 4.24651219e+05,\n",
              "        2.12312766e+05, 1.62861516e+05, 1.23487078e+05, 1.01055812e+05,\n",
              "        2.24690109e+05, 2.13320375e+05, 6.22540391e+04, 5.82848438e+04,\n",
              "        4.63720195e+04, 2.96506387e+04, 1.85040293e+04, 1.48208975e+04,\n",
              "        8.02018047e+04, 1.42582734e+05, 3.02392188e+05, 3.14712750e+05,\n",
              "        6.07067875e+05, 8.94684500e+05, 1.13280288e+06, 1.98342712e+06,\n",
              "        1.34170975e+06, 2.21807078e+05, 5.19282578e+04, 1.13172492e+05,\n",
              "        1.16332680e+05, 6.15885820e+04, 2.49492719e+05, 2.74277562e+05,\n",
              "        2.60253031e+05, 2.61409750e+05, 2.88091000e+05, 4.76925250e+05,\n",
              "        2.01791016e+05, 9.37115078e+04, 1.62789516e+05, 1.37522000e+05,\n",
              "        8.92587031e+04, 1.25282453e+05, 5.11723945e+04, 6.12308945e+04,\n",
              "        1.39939578e+05, 3.78792500e+05, 1.15224445e+05, 4.66524023e+04,\n",
              "        3.72184023e+04, 2.87578242e+04, 1.20039580e+04, 1.95455918e+04,\n",
              "        1.16666855e+04, 2.53038398e+04, 9.95074922e+04, 2.21051578e+05,\n",
              "        2.51317875e+05, 3.03773062e+05, 5.48553188e+05, 6.88912938e+05,\n",
              "        4.74921500e+05, 2.81924844e+05, 7.43954062e+04, 5.36192266e+04,\n",
              "        1.00598350e+04, 3.34323594e+04, 4.65398188e+05, 8.74279625e+05,\n",
              "        1.45897538e+06, 1.99618512e+06, 2.26300175e+06, 1.83491000e+06,\n",
              "        1.78512188e+06, 1.70334781e+05, 6.62482109e+04, 1.38531094e+05,\n",
              "        2.91526688e+05, 4.59294500e+05, 5.36702438e+05, 6.63141641e+04,\n",
              "        2.47238359e+05, 7.52654375e+05, 1.26554788e+06, 1.06511138e+06,\n",
              "        1.53408188e+06, 2.38277450e+06, 2.52322800e+06, 2.09830950e+06,\n",
              "        2.99200125e+05, 1.79350859e+05, 8.86246000e+05, 5.47587938e+05,\n",
              "        8.98841812e+05, 1.51725138e+06, 1.57188388e+06, 1.29351838e+06,\n",
              "        1.66056000e+06, 3.41407550e+06, 5.36343300e+06, 3.55030775e+06,\n",
              "        1.38613588e+06, 7.29889438e+05, 8.24428688e+05, 7.39994375e+05,\n",
              "        8.07021312e+05, 8.03868312e+05, 6.27682562e+05, 8.77208125e+05,\n",
              "        8.26213188e+05, 2.20495775e+06, 4.70631300e+06, 3.11218200e+06,\n",
              "        1.73965738e+06, 8.37792109e+04, 1.32740578e+05, 1.82851766e+05,\n",
              "        3.70877062e+05, 2.68355469e+05, 1.46154375e+05, 9.98510859e+04,\n",
              "        1.18669586e+05, 1.69053625e+05, 1.49735988e+06, 4.93281300e+06,\n",
              "        9.47753100e+06, 1.09990210e+07, 1.22594990e+07, 1.34028180e+07,\n",
              "        1.47929170e+07, 6.39314550e+06, 7.67312562e+05, 3.33160281e+05,\n",
              "        8.28949688e+05, 1.95149762e+06, 4.84251100e+06, 6.99520100e+06,\n",
              "        1.23887410e+07, 1.53755130e+07, 1.36068710e+07, 9.70034700e+06,\n",
              "        1.30494230e+07, 1.57557150e+07, 2.26597300e+07, 2.10231020e+07,\n",
              "        3.13811040e+07, 4.74002800e+07, 3.63436720e+07, 2.92310080e+07,\n",
              "        4.18632080e+07, 2.41117760e+07, 1.09671280e+07, 8.53024000e+06,\n",
              "        1.75105660e+07, 1.98329560e+07, 1.05306290e+07, 3.71064925e+06,\n",
              "        1.07790510e+07, 1.56507338e+06, 1.08691840e+07, 9.76396200e+06,\n",
              "        7.56981850e+06, 9.07249800e+06, 1.09405710e+07, 1.41774550e+07,\n",
              "        9.84825600e+06, 2.08528888e+06, 1.55118900e+06, 2.77556825e+06,\n",
              "        3.46933575e+06, 3.35241350e+06, 5.20832900e+06, 1.81230440e+07,\n",
              "        1.05304330e+07, 4.37703150e+06, 7.42563650e+06, 1.92515840e+07,\n",
              "        3.96062360e+07, 4.16943800e+07, 3.30088120e+07, 4.40474240e+07,\n",
              "        5.63912040e+07, 4.16673960e+07, 6.70919640e+07, 1.78770400e+07,\n",
              "        3.07374925e+06, 8.13569750e+06, 7.43863450e+06, 1.47372080e+07,\n",
              "        2.58448840e+07, 2.74800600e+07, 3.71708440e+07, 3.56031440e+07,\n",
              "        1.56196410e+07, 1.58934480e+07, 3.30778260e+07, 4.29234120e+07,\n",
              "        7.91131040e+07, 5.28564280e+07, 4.81435950e+06, 3.00898225e+06,\n",
              "        3.40175425e+06, 9.09166400e+06, 1.06252150e+07, 2.21787140e+07,\n",
              "        4.60293150e+06, 9.58281000e+06, 9.18584000e+06, 2.63927360e+07,\n",
              "        3.96265160e+07, 6.10180200e+07, 6.08493360e+07, 4.87118440e+07,\n",
              "        2.27155300e+07, 6.51273300e+06, 3.94684000e+06, 4.29036300e+06,\n",
              "        3.82105025e+06, 6.53316250e+06, 4.94538900e+06, 6.59798850e+06,\n",
              "        6.41902300e+06, 1.23425900e+07, 1.36128010e+07, 1.33770420e+07,\n",
              "        1.08824690e+07, 2.18313550e+06, 6.76320150e+06, 1.96772140e+07,\n",
              "        3.51334200e+07, 2.36843240e+07, 8.96553000e+06, 1.05021310e+07,\n",
              "        3.70061750e+06, 7.02996688e+05, 1.80866888e+06, 1.29870062e+06,\n",
              "        7.35895938e+05, 1.49053488e+06, 1.71955825e+06, 1.14399575e+06,\n",
              "        5.07272700e+06, 1.90379380e+07, 2.10847220e+07, 1.89947880e+07,\n",
              "        1.26379810e+07, 1.09409180e+07, 1.23584780e+07, 1.56440300e+07,\n",
              "        3.02105460e+07, 4.99897320e+07, 5.35591640e+07, 4.67749200e+07,\n",
              "        2.64141000e+07, 1.46219540e+07, 1.47135760e+07, 6.66890050e+06,\n",
              "        5.07036250e+06, 1.66237140e+07, 2.77361880e+07, 5.44869160e+07,\n",
              "        2.04914980e+07, 5.22083550e+06, 5.48716650e+06, 1.32190980e+07,\n",
              "        2.27600925e+06, 1.65049225e+06, 2.01155962e+06, 2.84135850e+06,\n",
              "        1.34964100e+07, 6.02143650e+06, 1.27551580e+07, 1.87859080e+07,\n",
              "        4.17823360e+07, 6.08509680e+07, 6.15301760e+07], dtype=float32),\n",
              " 'rmse': array([ 269.0159  ,  355.90204 ,  398.6529  ,  425.7919  ,  403.5933  ,\n",
              "         233.39215 ,  245.18353 ,  290.58704 ,  286.01685 ,  324.69882 ,\n",
              "         363.43362 ,  509.41217 ,  625.1808  ,  681.1025  ,  889.0812  ,\n",
              "         782.9402  ,  723.03    ,  667.5498  ,  350.49512 ,  214.15775 ,\n",
              "         302.90527 ,  481.93646 ,  433.0499  ,  453.63684 ,  202.94043 ,\n",
              "         198.05469 ,  238.66634 ,  173.62184 ,  122.233185,  216.54591 ,\n",
              "         257.20032 ,  316.12103 ,  219.25293 ,  192.85814 ,  275.24835 ,\n",
              "         313.6418  ,  243.39752 ,  304.5881  ,  230.57037 ,  236.76968 ,\n",
              "         249.96204 ,  232.69768 ,  269.30554 ,  395.7257  ,  701.56195 ,\n",
              "          96.595604,  107.85704 ,  143.73729 ,   72.3908  ,   83.26933 ,\n",
              "         161.75072 ,  160.28027 ,  157.3663  ,  211.15137 ,  169.76088 ,\n",
              "         114.870964,  141.21758 ,  169.79503 ,  408.51877 ,  576.15344 ,\n",
              "         810.8501  ,  709.219   ,  668.97675 ,  713.2089  ,  473.0259  ,\n",
              "         306.96558 ,  350.77225 ,  635.86237 ,  642.29803 ,  690.7754  ,\n",
              "         686.8419  ,  747.67816 ,  281.65848 ,  191.31981 ,  258.62457 ,\n",
              "         288.92505 ,  369.6176  ,  197.17091 ,  137.11957 ,  219.49547 ,\n",
              "         350.15735 ,  673.6935  ,  819.9396  ,  971.8238  ,  898.6374  ,\n",
              "         628.5742  ,  358.96436 ,  194.56746 ,  134.67996 ,  199.38461 ,\n",
              "         326.8707  ,  467.53378 ,  614.8797  ,  826.1107  ,  614.63403 ,\n",
              "         511.61633 ,  464.2406  ,  391.68228 ,  291.67526 ,  422.44162 ,\n",
              "         276.38873 ,  386.4379  ,  430.0386  ,  489.2723  ,  271.2357  ,\n",
              "         193.02132 ,  340.87393 ,  325.36633 ,  461.9286  ,  497.94968 ,\n",
              "         551.7441  ,  655.8119  ,  937.57495 ,  805.64734 ,  591.7868  ,\n",
              "         164.3228  ,  193.41165 ,  280.27026 ,  394.85876 ,  532.5435  ,\n",
              "         495.72592 ,  588.6573  ,  631.8938  , 1413.6633  , 1981.6709  ,\n",
              "        2317.3098  , 2068.7402  , 2061.2817  , 2197.0703  , 2423.3098  ,\n",
              "         841.48663 ,  574.34015 ,  501.15222 ,  601.593   , 1036.9454  ,\n",
              "         957.1987  , 1063.882   ,  443.89932 ,  368.62506 ,  423.42276 ,\n",
              "         647.62915 ,  377.37674 ,  377.2812  ,  397.76486 ,  337.47888 ,\n",
              "         316.9293  ,  408.8046  ,  809.28186 ,  612.3068  ,  548.31696 ,\n",
              "         564.7178  ,  398.65942 ,  417.6483  ,  383.22964 ,  435.01944 ,\n",
              "         229.15327 ,  274.34048 ,  407.1496  ,  385.25458 ,  142.01735 ,\n",
              "         292.74054 ,  220.2018  ,  285.80063 ,  308.52185 ,  456.06265 ,\n",
              "         245.50989 ,  258.96094 ,  247.19037 ,  302.70242 ,  633.6513  ,\n",
              "         783.926   ,  905.53845 ,  723.5324  ,  837.1962  , 1001.1638  ,\n",
              "        1097.2557  , 1082.0093  , 1160.7852  ,  471.43295 ,  437.61728 ,\n",
              "         553.1125  ,  598.1885  ,  687.19055 ,  728.87494 ,  698.29694 ,\n",
              "         530.6534  ,  672.04114 ,  815.9492  ,  603.91736 ,  534.72327 ,\n",
              "         991.5944  ,  985.4185  ,  535.3936  ,  280.0356  ,  321.9329  ,\n",
              "         323.75623 ,  347.42706 ,  504.7767  ,  596.79254 ,  442.32492 ,\n",
              "         150.71407 ,  243.47787 ,  300.05948 ,  419.21158 ,  754.00006 ,\n",
              "         916.90265 ,  767.804   ,  435.00214 ,  431.09857 ,  309.37988 ,\n",
              "         425.85916 ,  338.3676  ,  144.17258 ,  239.99998 ,  239.8963  ,\n",
              "         272.89032 ,  273.42426 ,  276.25296 ,  285.54587 ,  286.39044 ,\n",
              "         348.15775 ,  207.4237  ,  201.95732 ,  157.99887 ,  196.92702 ,\n",
              "         160.31071 ,  109.16161 ,  189.9954  ,  218.16982 ,  301.56253 ,\n",
              "         299.50626 ,  302.59964 ,  327.2016  ,  401.20398 ,  163.83586 ,\n",
              "         111.15495 ,  144.67888 ,  240.6208  ,  222.63254 ,  122.74219 ,\n",
              "         122.45436 ,  114.69948 ,  224.07074 ,  287.47034 ,  278.4918  ,\n",
              "         344.25253 ,  189.10773 ,  169.77477 ,  131.79082 ,  136.36005 ,\n",
              "         140.31543 ,  141.80884 ,   95.35021 ,  100.547455,   68.056076,\n",
              "         153.79276 ,  309.24112 ,  370.77188 ,  425.561   ,  506.88736 ,\n",
              "         919.3682  , 1010.12006 , 1120.6975  , 1196.165   , 1418.6442  ,\n",
              "        1571.4155  , 1469.0092  ,  458.1918  ,  364.1647  ,  279.80695 ,\n",
              "         406.22235 ,  360.5843  ,  238.2851  ,  432.97888 ,  573.0228  ,\n",
              "         633.5822  ,  298.04395 ,  180.2705  ,  199.60866 ,  164.76833 ,\n",
              "         226.7242  ,  263.97064 ,  632.0326  ,  651.6527  ,  460.77408 ,\n",
              "         403.56104 ,  351.4073  ,  317.89276 ,  474.0149  ,  461.86618 ,\n",
              "         249.50758 ,  241.42255 ,  215.34163 ,  172.1936  ,  136.02951 ,\n",
              "         121.741104,  283.19922 ,  377.6013  ,  549.902   ,  560.9926  ,\n",
              "         779.14557 ,  945.8776  , 1064.3322  , 1408.3419  , 1158.3219  ,\n",
              "         470.964   ,  227.87773 ,  336.4112  ,  341.07578 ,  248.17047 ,\n",
              "         499.49246 ,  523.71515 ,  510.15    ,  511.28244 ,  536.7411  ,\n",
              "         690.5977  ,  449.21155 ,  306.12335 ,  403.47183 ,  370.83957 ,\n",
              "         298.76193 ,  353.9526  ,  226.21317 ,  247.44876 ,  374.085   ,\n",
              "         615.4612  ,  339.44727 ,  215.99167 ,  192.92072 ,  169.58131 ,\n",
              "         109.56258 ,  139.80554 ,  108.01243 ,  159.07181 ,  315.4481  ,\n",
              "         470.16122 ,  501.31613 ,  551.15607 ,  740.6438  ,  830.0078  ,\n",
              "         689.14545 ,  530.96594 ,  272.75522 ,  231.55826 ,  100.29873 ,\n",
              "         182.84517 ,  682.201   ,  935.02924 , 1207.8805  , 1412.8641  ,\n",
              "        1504.3276  , 1354.5885  , 1336.0845  ,  412.71634 ,  257.38727 ,\n",
              "         372.19766 ,  539.9321  ,  677.7127  ,  732.5998  ,  257.51535 ,\n",
              "         497.23068 ,  867.5566  , 1124.9657  , 1032.0424  , 1238.5806  ,\n",
              "        1543.6238  , 1588.4672  , 1448.5542  ,  546.9919  ,  423.49835 ,\n",
              "         941.4064  ,  739.9919  ,  948.0727  , 1231.7676  , 1253.7479  ,\n",
              "        1137.3295  , 1288.6272  , 1847.7217  , 2315.9087  , 1884.226   ,\n",
              "        1177.3427  ,  854.33563 ,  907.9805  ,  860.22925 ,  898.3436  ,\n",
              "         896.58704 ,  792.2642  ,  936.5939  ,  908.9627  , 1484.91    ,\n",
              "        2169.4038  , 1764.1378  , 1318.9607  ,  289.44638 ,  364.33582 ,\n",
              "         427.6117  ,  608.99677 ,  518.0304  ,  382.30142 ,  315.99222 ,\n",
              "         344.48453 ,  411.16132 , 1223.6665  , 2220.9937  , 3078.5598  ,\n",
              "        3316.4773  , 3501.3567  , 3660.9858  , 3846.156   , 2528.467   ,\n",
              "         875.96375 ,  577.2004  ,  910.46674 , 1396.9601  , 2200.5706  ,\n",
              "        2644.8442  , 3519.7642  , 3921.162   , 3688.7493  , 3114.5378  ,\n",
              "        3612.3984  , 3969.347   , 4760.2236  , 4585.0957  , 5601.884   ,\n",
              "        6884.786   , 6028.5713  , 5406.571   , 6470.178   , 4910.3745  ,\n",
              "        3311.6655  , 2920.6575  , 4184.563   , 4453.421   , 3245.093   ,\n",
              "        1926.3046  , 3283.1465  , 1251.0289  , 3296.8445  , 3124.734   ,\n",
              "        2751.3303  , 3012.0588  , 3307.6533  , 3765.2961  , 3138.193   ,\n",
              "        1444.053   , 1245.4674  , 1666.0037  , 1862.6154  , 1830.9597  ,\n",
              "        2282.1763  , 4257.1167  , 3245.0627  , 2092.1357  , 2725.002   ,\n",
              "        4387.6626  , 6293.3486  , 6457.1187  , 5745.3296  , 6636.823   ,\n",
              "        7509.4077  , 6455.029   , 8190.9683  , 4228.1245  , 1753.211   ,\n",
              "        2852.3145  , 2727.386   , 3838.907   , 5083.786   , 5242.1426  ,\n",
              "        6096.7896  , 5966.837   , 3952.1692  , 3986.6587  , 5751.3325  ,\n",
              "        6551.596   , 8894.555   , 7270.2427  , 2194.1648  , 1734.6418  ,\n",
              "        1844.3845  , 3015.2385  , 3259.634   , 4709.428   , 2145.4443  ,\n",
              "        3095.6113  , 3030.815   , 5137.386   , 6294.9595  , 7811.403   ,\n",
              "        7800.598   , 6979.387   , 4766.081   , 2552.0056  , 1986.6655  ,\n",
              "        2071.319   , 1954.7506  , 2556.0051  , 2223.823   , 2568.655   ,\n",
              "        2533.579   , 3513.2021  , 3689.553   , 3657.4639  , 3298.8586  ,\n",
              "        1477.5437  , 2600.6155  , 4435.9004  , 5927.345   , 4866.6543  ,\n",
              "        2994.2495  , 3240.6992  , 1923.6989  ,  838.449   , 1344.8676  ,\n",
              "        1139.6055  ,  857.84375 , 1220.8746  , 1311.3193  , 1069.5774  ,\n",
              "        2252.2715  , 4363.2485  , 4591.81    , 4358.301   , 3554.9937  ,\n",
              "        3307.7058  , 3515.4626  , 3955.2534  , 5496.412   , 7070.342   ,\n",
              "        7318.4126  , 6839.219   , 5139.465   , 3823.8665  , 3835.828   ,\n",
              "        2582.4214  , 2251.7466  , 4077.2188  , 5266.5156  , 7381.5254  ,\n",
              "        4526.7534  , 2284.9148  , 2342.4702  , 3635.8076  , 1508.6448  ,\n",
              "        1284.7148  , 1418.2946  , 1685.6329  , 3673.746   , 2453.8616  ,\n",
              "        3571.4363  , 4334.2715  , 6463.926   , 7800.703   , 7844.117   ],\n",
              "       dtype=float32)}"
            ]
          },
          "metadata": {},
          "execution_count": 38
        }
      ]
    },
    {
      "cell_type": "markdown",
      "source": [
        "Since Horizon = 7, we get a multi-dimensional output"
      ],
      "metadata": {
        "id": "gxPKgwy1VyKO"
      }
    },
    {
      "cell_type": "code",
      "source": [
        "def evaluate_preds(y_true, y_pred):\n",
        "  # Make sure float32 (for metric calculations)\n",
        "  y_true = tf.cast(y_true, dtype=tf.float32)\n",
        "  y_pred = tf.cast(y_pred, dtype=tf.float32)\n",
        "\n",
        "  # Calculate various metrics\n",
        "  mae = tf.keras.metrics.mean_absolute_error(y_true, y_pred)\n",
        "  mse = tf.keras.metrics.mean_squared_error(y_true, y_pred)\n",
        "  rmse = tf.sqrt(mse)\n",
        "  mape = tf.keras.metrics.mean_absolute_percentage_error(y_true, y_pred)\n",
        "  mase = mean_absolute_scaled_error(y_true, y_pred)\n",
        "\n",
        "  # Account for different sized metrics (for longer horizons, reduce to single number)\n",
        "  if mae.ndim > 0: # if mae isn't already a scalar, reduce it to one by aggregating tensors to mean\n",
        "    mae = tf.reduce_mean(mae)\n",
        "    mse = tf.reduce_mean(mse)\n",
        "    rmse = tf.reduce_mean(rmse)\n",
        "    mape = tf.reduce_mean(mape)\n",
        "    mase = tf.reduce_mean(mase)\n",
        "\n",
        "  return {\"mae\": mae.numpy(),\n",
        "          \"mse\": mse.numpy(),\n",
        "          \"rmse\": rmse.numpy(),\n",
        "          \"mape\": mape.numpy(),\n",
        "          \"mase\": mase.numpy()}"
      ],
      "metadata": {
        "id": "NNzauAwtWGIr"
      },
      "execution_count": 39,
      "outputs": []
    },
    {
      "cell_type": "code",
      "source": [
        "# Model 3 results\n",
        "model_3_results = evaluate_preds(\n",
        "    y_true = tf.squeeze(test_labels),\n",
        "    y_pred = make_preds(model_3, test_windows)\n",
        ")\n",
        "model_3_results"
      ],
      "metadata": {
        "colab": {
          "base_uri": "https://localhost:8080/"
        },
        "id": "0SWht0OMWTGa",
        "outputId": "5d1b10ea-4362-4daa-e55a-c80013eec6f6"
      },
      "execution_count": 40,
      "outputs": [
        {
          "output_type": "execute_result",
          "data": {
            "text/plain": [
              "{'mae': 1248.5212,\n",
              " 'mape': 5.604532,\n",
              " 'mase': 2.2326643,\n",
              " 'mse': 5154449.5,\n",
              " 'rmse': 1415.2478}"
            ]
          },
          "metadata": {},
          "execution_count": 40
        }
      ]
    },
    {
      "cell_type": "code",
      "source": [
        "# The predictions are going to be 7 steps at a time (this is the HORIZON size)\n",
        "model_3_preds = make_preds(model_3,\n",
        "                           input_data=test_windows)\n",
        "offset = 300\n",
        "plt.figure(figsize=(10, 7))\n",
        "# Plot model_3_preds by aggregating them (note: this condenses information so the preds will look fruther ahead than the test data)\n",
        "plot_time_series(timesteps=X_test[-len(test_windows):], \n",
        "                 values=test_labels[:, 0], \n",
        "                 start=offset, \n",
        "                 label=\"Test_data\")\n",
        "plot_time_series(timesteps=X_test[-len(test_windows):], \n",
        "                 values=tf.reduce_mean(model_3_preds, axis=1), \n",
        "                 format=\"-\",\n",
        "                 start=offset, \n",
        "                 label=\"model_3_preds\")"
      ],
      "metadata": {
        "colab": {
          "base_uri": "https://localhost:8080/",
          "height": 442
        },
        "id": "hwuj_pHCWbtT",
        "outputId": "459bd3de-ca23-4887-f859-0476d4216b07"
      },
      "execution_count": 42,
      "outputs": [
        {
          "output_type": "display_data",
          "data": {
            "text/plain": [
              "<Figure size 720x504 with 1 Axes>"
            ],
            "image/png": "[encoded data removed]"
          },
          "metadata": {
            "needs_background": "light"
          }
        }
      ]
    },
    {
      "cell_type": "markdown",
      "source": [
        "## Compare Models - Navie and DenseNets with different windows and horizons"
      ],
      "metadata": {
        "id": "g1s2S99vW6oN"
      }
    },
    {
      "cell_type": "code",
      "source": [
        "dense_results = pd.DataFrame({\"naive\": naive_results[\"mae\"], \n",
        "              \"horizon_1_window_7\": model_1_results[\"mae\"], \n",
        "              \"horizon_1_window_30\": model_2_results[\"mae\"], \n",
        "              \"horizon_7_window_30\": model_3_results[\"mae\"]}, index=[\"mae\"]).plot(figsize=(10, 7), kind=\"bar\");\n",
        "\n",
        "dense_results\n"
      ],
      "metadata": {
        "colab": {
          "base_uri": "https://localhost:8080/",
          "height": 457
        },
        "id": "g73VI4-XWoAc",
        "outputId": "ab89457c-6d8b-4210-bcbd-132f0e154a64"
      },
      "execution_count": 43,
      "outputs": [
        {
          "output_type": "execute_result",
          "data": {
            "text/plain": [
              "<matplotlib.axes._subplots.AxesSubplot at 0x7f7a484c2f10>"
            ]
          },
          "metadata": {},
          "execution_count": 43
        },
        {
          "output_type": "display_data",
          "data": {
            "text/plain": [
              "<Figure size 720x504 with 1 Axes>"
            ],
            "image/png": "[encoded data removed]"
          },
          "metadata": {
            "needs_background": "light"
          }
        }
      ]
    },
    {
      "cell_type": "markdown",
      "source": [
        "## Model 4: Conv1D"
      ],
      "metadata": {
        "id": "SYC757-LXKq0"
      }
    },
    {
      "cell_type": "code",
      "source": [
        "HORIZON = 1\n",
        "WINDOW_SIZE = 7"
      ],
      "metadata": {
        "id": "LDTayr3HXiGX"
      },
      "execution_count": 44,
      "outputs": []
    },
    {
      "cell_type": "code",
      "source": [
        "# Create windowed dataset\n",
        "full_windows, full_labels = make_windows(prices, window_size=WINDOW_SIZE, horizon=HORIZON)\n",
        "len(full_windows), len(full_labels)"
      ],
      "metadata": {
        "colab": {
          "base_uri": "https://localhost:8080/"
        },
        "id": "qBNOkwbxXmmE",
        "outputId": "f1f50a47-7a73-4c53-8790-2350aebd7738"
      },
      "execution_count": 45,
      "outputs": [
        {
          "output_type": "execute_result",
          "data": {
            "text/plain": [
              "(2780, 2780)"
            ]
          },
          "metadata": {},
          "execution_count": 45
        }
      ]
    },
    {
      "cell_type": "code",
      "source": [
        "# Create train/test splits\n",
        "train_windows, test_windows, train_labels, test_labels = make_train_test_splits(full_windows, full_labels)\n",
        "len(train_windows), len(test_windows), len(train_labels), len(test_labels)\n"
      ],
      "metadata": {
        "colab": {
          "base_uri": "https://localhost:8080/"
        },
        "id": "MExEc_yiXrtO",
        "outputId": "1f31fafb-0d77-4d16-f1fa-ad750566aeb1"
      },
      "execution_count": 46,
      "outputs": [
        {
          "output_type": "execute_result",
          "data": {
            "text/plain": [
              "(2224, 556, 2224, 556)"
            ]
          },
          "metadata": {},
          "execution_count": 46
        }
      ]
    },
    {
      "cell_type": "code",
      "source": [
        "tf.random.set_seed(42)\n",
        "\n",
        "# Create model\n",
        "model_4 = tf.keras.Sequential([\n",
        "  # Create Lambda layer to reshape inputs, without this layer, the model will error\n",
        "  layers.Lambda(lambda x: tf.expand_dims(x, axis=1)), # resize the inputs to adjust for window size / Conv1D 3D input requirements\n",
        "  layers.Conv1D(filters=128, kernel_size=5, padding=\"causal\", activation=\"relu\"),\n",
        "  layers.Dense(HORIZON)\n",
        "], name=\"model_4_conv1D\")\n",
        "\n",
        "# Compile model\n",
        "model_4.compile(loss=\"mae\",\n",
        "                optimizer=tf.keras.optimizers.Adam(),\n",
        "                metrics = [\"mae\"])\n",
        "\n",
        "# Fit model\n",
        "model_4.fit(x = train_windows,\n",
        "            y = train_labels,\n",
        "            batch_size=128, \n",
        "            epochs=100,\n",
        "            verbose=0,\n",
        "            validation_data=(test_windows, test_labels),\n",
        "            callbacks=[create_model_checkpoint(model_name=model_4.name)])"
      ],
      "metadata": {
        "colab": {
          "base_uri": "https://localhost:8080/"
        },
        "id": "WSVzCjG3XwZG",
        "outputId": "e66b36ca-3e77-4515-86d3-48a69c929ec1"
      },
      "execution_count": 47,
      "outputs": [
        {
          "output_type": "stream",
          "name": "stdout",
          "text": [
            "INFO:tensorflow:Assets written to: model_experiments/model_4_conv1D/assets\n",
            "INFO:tensorflow:Assets written to: model_experiments/model_4_conv1D/assets\n",
            "INFO:tensorflow:Assets written to: model_experiments/model_4_conv1D/assets\n",
            "INFO:tensorflow:Assets written to: model_experiments/model_4_conv1D/assets\n",
            "INFO:tensorflow:Assets written to: model_experiments/model_4_conv1D/assets\n",
            "INFO:tensorflow:Assets written to: model_experiments/model_4_conv1D/assets\n",
            "INFO:tensorflow:Assets written to: model_experiments/model_4_conv1D/assets\n",
            "INFO:tensorflow:Assets written to: model_experiments/model_4_conv1D/assets\n",
            "INFO:tensorflow:Assets written to: model_experiments/model_4_conv1D/assets\n",
            "INFO:tensorflow:Assets written to: model_experiments/model_4_conv1D/assets\n",
            "INFO:tensorflow:Assets written to: model_experiments/model_4_conv1D/assets\n",
            "INFO:tensorflow:Assets written to: model_experiments/model_4_conv1D/assets\n",
            "INFO:tensorflow:Assets written to: model_experiments/model_4_conv1D/assets\n",
            "INFO:tensorflow:Assets written to: model_experiments/model_4_conv1D/assets\n",
            "INFO:tensorflow:Assets written to: model_experiments/model_4_conv1D/assets\n",
            "INFO:tensorflow:Assets written to: model_experiments/model_4_conv1D/assets\n",
            "INFO:tensorflow:Assets written to: model_experiments/model_4_conv1D/assets\n",
            "INFO:tensorflow:Assets written to: model_experiments/model_4_conv1D/assets\n",
            "INFO:tensorflow:Assets written to: model_experiments/model_4_conv1D/assets\n",
            "INFO:tensorflow:Assets written to: model_experiments/model_4_conv1D/assets\n",
            "INFO:tensorflow:Assets written to: model_experiments/model_4_conv1D/assets\n",
            "INFO:tensorflow:Assets written to: model_experiments/model_4_conv1D/assets\n",
            "INFO:tensorflow:Assets written to: model_experiments/model_4_conv1D/assets\n",
            "INFO:tensorflow:Assets written to: model_experiments/model_4_conv1D/assets\n",
            "INFO:tensorflow:Assets written to: model_experiments/model_4_conv1D/assets\n",
            "INFO:tensorflow:Assets written to: model_experiments/model_4_conv1D/assets\n",
            "INFO:tensorflow:Assets written to: model_experiments/model_4_conv1D/assets\n",
            "INFO:tensorflow:Assets written to: model_experiments/model_4_conv1D/assets\n",
            "INFO:tensorflow:Assets written to: model_experiments/model_4_conv1D/assets\n",
            "INFO:tensorflow:Assets written to: model_experiments/model_4_conv1D/assets\n",
            "INFO:tensorflow:Assets written to: model_experiments/model_4_conv1D/assets\n",
            "INFO:tensorflow:Assets written to: model_experiments/model_4_conv1D/assets\n",
            "INFO:tensorflow:Assets written to: model_experiments/model_4_conv1D/assets\n",
            "INFO:tensorflow:Assets written to: model_experiments/model_4_conv1D/assets\n",
            "INFO:tensorflow:Assets written to: model_experiments/model_4_conv1D/assets\n",
            "INFO:tensorflow:Assets written to: model_experiments/model_4_conv1D/assets\n",
            "INFO:tensorflow:Assets written to: model_experiments/model_4_conv1D/assets\n",
            "INFO:tensorflow:Assets written to: model_experiments/model_4_conv1D/assets\n",
            "INFO:tensorflow:Assets written to: model_experiments/model_4_conv1D/assets\n"
          ]
        },
        {
          "output_type": "execute_result",
          "data": {
            "text/plain": [
              "<keras.callbacks.History at 0x7f7a4a4b4110>"
            ]
          },
          "metadata": {},
          "execution_count": 47
        }
      ]
    },
    {
      "cell_type": "code",
      "source": [
        "# Load in best performing Conv1D model and evaluate it on the test data\n",
        "model_4 = tf.keras.models.load_model(\"model_experiments/model_4_conv1D\")\n",
        "model_4.evaluate(test_windows, test_labels)\n",
        "\n",
        "# Model 4 results\n",
        "model_4_results = evaluate_preds(\n",
        "    y_true = tf.squeeze(test_labels),\n",
        "    y_pred = make_preds(model_4, test_windows)\n",
        ")\n",
        "model_4_results"
      ],
      "metadata": {
        "colab": {
          "base_uri": "https://localhost:8080/"
        },
        "id": "Cfqr7Nk1Y7NL",
        "outputId": "bbd67771-d349-474c-fdf1-e4363e469ae0"
      },
      "execution_count": 49,
      "outputs": [
        {
          "output_type": "stream",
          "name": "stdout",
          "text": [
            "18/18 [==============================] - 0s 3ms/step - loss: 570.8284 - mae: 570.8284\n"
          ]
        },
        {
          "output_type": "execute_result",
          "data": {
            "text/plain": [
              "{'mae': 570.82837,\n",
              " 'mape': 2.5593357,\n",
              " 'mase': 1.0027874,\n",
              " 'mse': 1176671.2,\n",
              " 'rmse': 1084.7448}"
            ]
          },
          "metadata": {},
          "execution_count": 49
        }
      ]
    },
    {
      "cell_type": "markdown",
      "source": [
        "## Model 5: RNN LSTM"
      ],
      "metadata": {
        "id": "DPxh2tLpZQls"
      }
    },
    {
      "cell_type": "code",
      "source": [
        "tf.random.set_seed(42)\n",
        "\n",
        "# Let's build an LSTM model with the Functional API\n",
        "inputs = layers.Input(shape=(WINDOW_SIZE))\n",
        "x = layers.Lambda(lambda x: tf.expand_dims(x, axis=1))(inputs) # expand input dimension to be compatible with LSTM\n",
        "# print(x.shape)\n",
        "x = layers.LSTM(128, activation=\"relu\", return_sequences=True)(x) # this layer will error if the inputs are not the right shape\n",
        "x = layers.LSTM(128, activation=\"relu\")(x) # using the tanh loss function results in a massive error\n",
        "# print(x.shape)\n",
        "# Add another optional dense layer (you could add more of these to see if they improve model performance)\n",
        "x = layers.Dense(32, activation=\"relu\")(x)\n",
        "output = layers.Dense(HORIZON, activation = \"linear\")(x)\n",
        "model_5 = tf.keras.Model(inputs=inputs, outputs=output, name=\"model_5_lstm\")\n",
        "\n",
        "# Compile model\n",
        "model_5.compile(loss=\"mae\",\n",
        "                optimizer=tf.keras.optimizers.Adam(),\n",
        "                metrics = [\"mae\"])\n",
        "\n",
        "# Seems when saving the model several warnings are appearing: https://github.com/tensorflow/tensorflow/issues/47554 \n",
        "model_5.fit(train_windows,\n",
        "            train_labels,\n",
        "            epochs=100,\n",
        "            verbose=0,\n",
        "            batch_size=128,\n",
        "            validation_data=(test_windows, test_labels),\n",
        "            callbacks=[create_model_checkpoint(model_name=model_5.name)])\n"
      ],
      "metadata": {
        "colab": {
          "base_uri": "https://localhost:8080/"
        },
        "id": "0LIw4sOBZhFp",
        "outputId": "7582b44a-07be-4fd9-94ed-932a97dfb832"
      },
      "execution_count": 50,
      "outputs": [
        {
          "output_type": "stream",
          "name": "stdout",
          "text": [
            "WARNING:tensorflow:Layer lstm will not use cuDNN kernels since it doesn't meet the criteria. It will use a generic GPU kernel as fallback when running on GPU.\n",
            "WARNING:tensorflow:Layer lstm_1 will not use cuDNN kernels since it doesn't meet the criteria. It will use a generic GPU kernel as fallback when running on GPU.\n",
            "INFO:tensorflow:Assets written to: model_experiments/model_5_lstm/assets\n"
          ]
        },
        {
          "output_type": "stream",
          "name": "stderr",
          "text": [
            "WARNING:absl:<keras.layers.recurrent.LSTMCell object at 0x7f7a4c3246d0> has the same name 'LSTMCell' as a built-in Keras object. Consider renaming <class 'keras.layers.recurrent.LSTMCell'> to avoid naming conflicts when loading with `tf.keras.models.load_model`. If renaming is not possible, pass the object in the `custom_objects` parameter of the load function.\n",
            "WARNING:absl:<keras.layers.recurrent.LSTMCell object at 0x7f7a4c3d9650> has the same name 'LSTMCell' as a built-in Keras object. Consider renaming <class 'keras.layers.recurrent.LSTMCell'> to avoid naming conflicts when loading with `tf.keras.models.load_model`. If renaming is not possible, pass the object in the `custom_objects` parameter of the load function.\n"
          ]
        },
        {
          "output_type": "stream",
          "name": "stdout",
          "text": [
            "INFO:tensorflow:Assets written to: model_experiments/model_5_lstm/assets\n"
          ]
        },
        {
          "output_type": "stream",
          "name": "stderr",
          "text": [
            "INFO:tensorflow:Assets written to: model_experiments/model_5_lstm/assets\n",
            "WARNING:absl:<keras.layers.recurrent.LSTMCell object at 0x7f7a4c3246d0> has the same name 'LSTMCell' as a built-in Keras object. Consider renaming <class 'keras.layers.recurrent.LSTMCell'> to avoid naming conflicts when loading with `tf.keras.models.load_model`. If renaming is not possible, pass the object in the `custom_objects` parameter of the load function.\n",
            "WARNING:absl:<keras.layers.recurrent.LSTMCell object at 0x7f7a4c3d9650> has the same name 'LSTMCell' as a built-in Keras object. Consider renaming <class 'keras.layers.recurrent.LSTMCell'> to avoid naming conflicts when loading with `tf.keras.models.load_model`. If renaming is not possible, pass the object in the `custom_objects` parameter of the load function.\n"
          ]
        },
        {
          "output_type": "stream",
          "name": "stdout",
          "text": [
            "INFO:tensorflow:Assets written to: model_experiments/model_5_lstm/assets\n"
          ]
        },
        {
          "output_type": "stream",
          "name": "stderr",
          "text": [
            "INFO:tensorflow:Assets written to: model_experiments/model_5_lstm/assets\n",
            "WARNING:absl:<keras.layers.recurrent.LSTMCell object at 0x7f7a4c3246d0> has the same name 'LSTMCell' as a built-in Keras object. Consider renaming <class 'keras.layers.recurrent.LSTMCell'> to avoid naming conflicts when loading with `tf.keras.models.load_model`. If renaming is not possible, pass the object in the `custom_objects` parameter of the load function.\n",
            "WARNING:absl:<keras.layers.recurrent.LSTMCell object at 0x7f7a4c3d9650> has the same name 'LSTMCell' as a built-in Keras object. Consider renaming <class 'keras.layers.recurrent.LSTMCell'> to avoid naming conflicts when loading with `tf.keras.models.load_model`. If renaming is not possible, pass the object in the `custom_objects` parameter of the load function.\n"
          ]
        },
        {
          "output_type": "stream",
          "name": "stdout",
          "text": [
            "INFO:tensorflow:Assets written to: model_experiments/model_5_lstm/assets\n"
          ]
        },
        {
          "output_type": "stream",
          "name": "stderr",
          "text": [
            "INFO:tensorflow:Assets written to: model_experiments/model_5_lstm/assets\n",
            "WARNING:absl:<keras.layers.recurrent.LSTMCell object at 0x7f7a4c3246d0> has the same name 'LSTMCell' as a built-in Keras object. Consider renaming <class 'keras.layers.recurrent.LSTMCell'> to avoid naming conflicts when loading with `tf.keras.models.load_model`. If renaming is not possible, pass the object in the `custom_objects` parameter of the load function.\n",
            "WARNING:absl:<keras.layers.recurrent.LSTMCell object at 0x7f7a4c3d9650> has the same name 'LSTMCell' as a built-in Keras object. Consider renaming <class 'keras.layers.recurrent.LSTMCell'> to avoid naming conflicts when loading with `tf.keras.models.load_model`. If renaming is not possible, pass the object in the `custom_objects` parameter of the load function.\n"
          ]
        },
        {
          "output_type": "stream",
          "name": "stdout",
          "text": [
            "INFO:tensorflow:Assets written to: model_experiments/model_5_lstm/assets\n"
          ]
        },
        {
          "output_type": "stream",
          "name": "stderr",
          "text": [
            "INFO:tensorflow:Assets written to: model_experiments/model_5_lstm/assets\n",
            "WARNING:absl:<keras.layers.recurrent.LSTMCell object at 0x7f7a4c3246d0> has the same name 'LSTMCell' as a built-in Keras object. Consider renaming <class 'keras.layers.recurrent.LSTMCell'> to avoid naming conflicts when loading with `tf.keras.models.load_model`. If renaming is not possible, pass the object in the `custom_objects` parameter of the load function.\n",
            "WARNING:absl:<keras.layers.recurrent.LSTMCell object at 0x7f7a4c3d9650> has the same name 'LSTMCell' as a built-in Keras object. Consider renaming <class 'keras.layers.recurrent.LSTMCell'> to avoid naming conflicts when loading with `tf.keras.models.load_model`. If renaming is not possible, pass the object in the `custom_objects` parameter of the load function.\n"
          ]
        },
        {
          "output_type": "stream",
          "name": "stdout",
          "text": [
            "INFO:tensorflow:Assets written to: model_experiments/model_5_lstm/assets\n"
          ]
        },
        {
          "output_type": "stream",
          "name": "stderr",
          "text": [
            "INFO:tensorflow:Assets written to: model_experiments/model_5_lstm/assets\n",
            "WARNING:absl:<keras.layers.recurrent.LSTMCell object at 0x7f7a4c3246d0> has the same name 'LSTMCell' as a built-in Keras object. Consider renaming <class 'keras.layers.recurrent.LSTMCell'> to avoid naming conflicts when loading with `tf.keras.models.load_model`. If renaming is not possible, pass the object in the `custom_objects` parameter of the load function.\n",
            "WARNING:absl:<keras.layers.recurrent.LSTMCell object at 0x7f7a4c3d9650> has the same name 'LSTMCell' as a built-in Keras object. Consider renaming <class 'keras.layers.recurrent.LSTMCell'> to avoid naming conflicts when loading with `tf.keras.models.load_model`. If renaming is not possible, pass the object in the `custom_objects` parameter of the load function.\n"
          ]
        },
        {
          "output_type": "stream",
          "name": "stdout",
          "text": [
            "INFO:tensorflow:Assets written to: model_experiments/model_5_lstm/assets\n"
          ]
        },
        {
          "output_type": "stream",
          "name": "stderr",
          "text": [
            "INFO:tensorflow:Assets written to: model_experiments/model_5_lstm/assets\n",
            "WARNING:absl:<keras.layers.recurrent.LSTMCell object at 0x7f7a4c3246d0> has the same name 'LSTMCell' as a built-in Keras object. Consider renaming <class 'keras.layers.recurrent.LSTMCell'> to avoid naming conflicts when loading with `tf.keras.models.load_model`. If renaming is not possible, pass the object in the `custom_objects` parameter of the load function.\n",
            "WARNING:absl:<keras.layers.recurrent.LSTMCell object at 0x7f7a4c3d9650> has the same name 'LSTMCell' as a built-in Keras object. Consider renaming <class 'keras.layers.recurrent.LSTMCell'> to avoid naming conflicts when loading with `tf.keras.models.load_model`. If renaming is not possible, pass the object in the `custom_objects` parameter of the load function.\n"
          ]
        },
        {
          "output_type": "stream",
          "name": "stdout",
          "text": [
            "INFO:tensorflow:Assets written to: model_experiments/model_5_lstm/assets\n"
          ]
        },
        {
          "output_type": "stream",
          "name": "stderr",
          "text": [
            "INFO:tensorflow:Assets written to: model_experiments/model_5_lstm/assets\n",
            "WARNING:absl:<keras.layers.recurrent.LSTMCell object at 0x7f7a4c3246d0> has the same name 'LSTMCell' as a built-in Keras object. Consider renaming <class 'keras.layers.recurrent.LSTMCell'> to avoid naming conflicts when loading with `tf.keras.models.load_model`. If renaming is not possible, pass the object in the `custom_objects` parameter of the load function.\n",
            "WARNING:absl:<keras.layers.recurrent.LSTMCell object at 0x7f7a4c3d9650> has the same name 'LSTMCell' as a built-in Keras object. Consider renaming <class 'keras.layers.recurrent.LSTMCell'> to avoid naming conflicts when loading with `tf.keras.models.load_model`. If renaming is not possible, pass the object in the `custom_objects` parameter of the load function.\n"
          ]
        },
        {
          "output_type": "stream",
          "name": "stdout",
          "text": [
            "INFO:tensorflow:Assets written to: model_experiments/model_5_lstm/assets\n"
          ]
        },
        {
          "output_type": "stream",
          "name": "stderr",
          "text": [
            "INFO:tensorflow:Assets written to: model_experiments/model_5_lstm/assets\n",
            "WARNING:absl:<keras.layers.recurrent.LSTMCell object at 0x7f7a4c3246d0> has the same name 'LSTMCell' as a built-in Keras object. Consider renaming <class 'keras.layers.recurrent.LSTMCell'> to avoid naming conflicts when loading with `tf.keras.models.load_model`. If renaming is not possible, pass the object in the `custom_objects` parameter of the load function.\n",
            "WARNING:absl:<keras.layers.recurrent.LSTMCell object at 0x7f7a4c3d9650> has the same name 'LSTMCell' as a built-in Keras object. Consider renaming <class 'keras.layers.recurrent.LSTMCell'> to avoid naming conflicts when loading with `tf.keras.models.load_model`. If renaming is not possible, pass the object in the `custom_objects` parameter of the load function.\n"
          ]
        },
        {
          "output_type": "stream",
          "name": "stdout",
          "text": [
            "INFO:tensorflow:Assets written to: model_experiments/model_5_lstm/assets\n"
          ]
        },
        {
          "output_type": "stream",
          "name": "stderr",
          "text": [
            "INFO:tensorflow:Assets written to: model_experiments/model_5_lstm/assets\n",
            "WARNING:absl:<keras.layers.recurrent.LSTMCell object at 0x7f7a4c3246d0> has the same name 'LSTMCell' as a built-in Keras object. Consider renaming <class 'keras.layers.recurrent.LSTMCell'> to avoid naming conflicts when loading with `tf.keras.models.load_model`. If renaming is not possible, pass the object in the `custom_objects` parameter of the load function.\n",
            "WARNING:absl:<keras.layers.recurrent.LSTMCell object at 0x7f7a4c3d9650> has the same name 'LSTMCell' as a built-in Keras object. Consider renaming <class 'keras.layers.recurrent.LSTMCell'> to avoid naming conflicts when loading with `tf.keras.models.load_model`. If renaming is not possible, pass the object in the `custom_objects` parameter of the load function.\n"
          ]
        },
        {
          "output_type": "stream",
          "name": "stdout",
          "text": [
            "INFO:tensorflow:Assets written to: model_experiments/model_5_lstm/assets\n"
          ]
        },
        {
          "output_type": "stream",
          "name": "stderr",
          "text": [
            "INFO:tensorflow:Assets written to: model_experiments/model_5_lstm/assets\n",
            "WARNING:absl:<keras.layers.recurrent.LSTMCell object at 0x7f7a4c3246d0> has the same name 'LSTMCell' as a built-in Keras object. Consider renaming <class 'keras.layers.recurrent.LSTMCell'> to avoid naming conflicts when loading with `tf.keras.models.load_model`. If renaming is not possible, pass the object in the `custom_objects` parameter of the load function.\n",
            "WARNING:absl:<keras.layers.recurrent.LSTMCell object at 0x7f7a4c3d9650> has the same name 'LSTMCell' as a built-in Keras object. Consider renaming <class 'keras.layers.recurrent.LSTMCell'> to avoid naming conflicts when loading with `tf.keras.models.load_model`. If renaming is not possible, pass the object in the `custom_objects` parameter of the load function.\n"
          ]
        },
        {
          "output_type": "stream",
          "name": "stdout",
          "text": [
            "INFO:tensorflow:Assets written to: model_experiments/model_5_lstm/assets\n"
          ]
        },
        {
          "output_type": "stream",
          "name": "stderr",
          "text": [
            "INFO:tensorflow:Assets written to: model_experiments/model_5_lstm/assets\n",
            "WARNING:absl:<keras.layers.recurrent.LSTMCell object at 0x7f7a4c3246d0> has the same name 'LSTMCell' as a built-in Keras object. Consider renaming <class 'keras.layers.recurrent.LSTMCell'> to avoid naming conflicts when loading with `tf.keras.models.load_model`. If renaming is not possible, pass the object in the `custom_objects` parameter of the load function.\n",
            "WARNING:absl:<keras.layers.recurrent.LSTMCell object at 0x7f7a4c3d9650> has the same name 'LSTMCell' as a built-in Keras object. Consider renaming <class 'keras.layers.recurrent.LSTMCell'> to avoid naming conflicts when loading with `tf.keras.models.load_model`. If renaming is not possible, pass the object in the `custom_objects` parameter of the load function.\n"
          ]
        },
        {
          "output_type": "stream",
          "name": "stdout",
          "text": [
            "INFO:tensorflow:Assets written to: model_experiments/model_5_lstm/assets\n"
          ]
        },
        {
          "output_type": "stream",
          "name": "stderr",
          "text": [
            "INFO:tensorflow:Assets written to: model_experiments/model_5_lstm/assets\n",
            "WARNING:absl:<keras.layers.recurrent.LSTMCell object at 0x7f7a4c3246d0> has the same name 'LSTMCell' as a built-in Keras object. Consider renaming <class 'keras.layers.recurrent.LSTMCell'> to avoid naming conflicts when loading with `tf.keras.models.load_model`. If renaming is not possible, pass the object in the `custom_objects` parameter of the load function.\n",
            "WARNING:absl:<keras.layers.recurrent.LSTMCell object at 0x7f7a4c3d9650> has the same name 'LSTMCell' as a built-in Keras object. Consider renaming <class 'keras.layers.recurrent.LSTMCell'> to avoid naming conflicts when loading with `tf.keras.models.load_model`. If renaming is not possible, pass the object in the `custom_objects` parameter of the load function.\n"
          ]
        },
        {
          "output_type": "stream",
          "name": "stdout",
          "text": [
            "INFO:tensorflow:Assets written to: model_experiments/model_5_lstm/assets\n"
          ]
        },
        {
          "output_type": "stream",
          "name": "stderr",
          "text": [
            "INFO:tensorflow:Assets written to: model_experiments/model_5_lstm/assets\n",
            "WARNING:absl:<keras.layers.recurrent.LSTMCell object at 0x7f7a4c3246d0> has the same name 'LSTMCell' as a built-in Keras object. Consider renaming <class 'keras.layers.recurrent.LSTMCell'> to avoid naming conflicts when loading with `tf.keras.models.load_model`. If renaming is not possible, pass the object in the `custom_objects` parameter of the load function.\n",
            "WARNING:absl:<keras.layers.recurrent.LSTMCell object at 0x7f7a4c3d9650> has the same name 'LSTMCell' as a built-in Keras object. Consider renaming <class 'keras.layers.recurrent.LSTMCell'> to avoid naming conflicts when loading with `tf.keras.models.load_model`. If renaming is not possible, pass the object in the `custom_objects` parameter of the load function.\n"
          ]
        },
        {
          "output_type": "stream",
          "name": "stdout",
          "text": [
            "INFO:tensorflow:Assets written to: model_experiments/model_5_lstm/assets\n"
          ]
        },
        {
          "output_type": "stream",
          "name": "stderr",
          "text": [
            "INFO:tensorflow:Assets written to: model_experiments/model_5_lstm/assets\n",
            "WARNING:absl:<keras.layers.recurrent.LSTMCell object at 0x7f7a4c3246d0> has the same name 'LSTMCell' as a built-in Keras object. Consider renaming <class 'keras.layers.recurrent.LSTMCell'> to avoid naming conflicts when loading with `tf.keras.models.load_model`. If renaming is not possible, pass the object in the `custom_objects` parameter of the load function.\n",
            "WARNING:absl:<keras.layers.recurrent.LSTMCell object at 0x7f7a4c3d9650> has the same name 'LSTMCell' as a built-in Keras object. Consider renaming <class 'keras.layers.recurrent.LSTMCell'> to avoid naming conflicts when loading with `tf.keras.models.load_model`. If renaming is not possible, pass the object in the `custom_objects` parameter of the load function.\n"
          ]
        },
        {
          "output_type": "stream",
          "name": "stdout",
          "text": [
            "INFO:tensorflow:Assets written to: model_experiments/model_5_lstm/assets\n"
          ]
        },
        {
          "output_type": "stream",
          "name": "stderr",
          "text": [
            "INFO:tensorflow:Assets written to: model_experiments/model_5_lstm/assets\n",
            "WARNING:absl:<keras.layers.recurrent.LSTMCell object at 0x7f7a4c3246d0> has the same name 'LSTMCell' as a built-in Keras object. Consider renaming <class 'keras.layers.recurrent.LSTMCell'> to avoid naming conflicts when loading with `tf.keras.models.load_model`. If renaming is not possible, pass the object in the `custom_objects` parameter of the load function.\n",
            "WARNING:absl:<keras.layers.recurrent.LSTMCell object at 0x7f7a4c3d9650> has the same name 'LSTMCell' as a built-in Keras object. Consider renaming <class 'keras.layers.recurrent.LSTMCell'> to avoid naming conflicts when loading with `tf.keras.models.load_model`. If renaming is not possible, pass the object in the `custom_objects` parameter of the load function.\n"
          ]
        },
        {
          "output_type": "stream",
          "name": "stdout",
          "text": [
            "INFO:tensorflow:Assets written to: model_experiments/model_5_lstm/assets\n"
          ]
        },
        {
          "output_type": "stream",
          "name": "stderr",
          "text": [
            "INFO:tensorflow:Assets written to: model_experiments/model_5_lstm/assets\n",
            "WARNING:absl:<keras.layers.recurrent.LSTMCell object at 0x7f7a4c3246d0> has the same name 'LSTMCell' as a built-in Keras object. Consider renaming <class 'keras.layers.recurrent.LSTMCell'> to avoid naming conflicts when loading with `tf.keras.models.load_model`. If renaming is not possible, pass the object in the `custom_objects` parameter of the load function.\n",
            "WARNING:absl:<keras.layers.recurrent.LSTMCell object at 0x7f7a4c3d9650> has the same name 'LSTMCell' as a built-in Keras object. Consider renaming <class 'keras.layers.recurrent.LSTMCell'> to avoid naming conflicts when loading with `tf.keras.models.load_model`. If renaming is not possible, pass the object in the `custom_objects` parameter of the load function.\n"
          ]
        },
        {
          "output_type": "stream",
          "name": "stdout",
          "text": [
            "INFO:tensorflow:Assets written to: model_experiments/model_5_lstm/assets\n"
          ]
        },
        {
          "output_type": "stream",
          "name": "stderr",
          "text": [
            "INFO:tensorflow:Assets written to: model_experiments/model_5_lstm/assets\n",
            "WARNING:absl:<keras.layers.recurrent.LSTMCell object at 0x7f7a4c3246d0> has the same name 'LSTMCell' as a built-in Keras object. Consider renaming <class 'keras.layers.recurrent.LSTMCell'> to avoid naming conflicts when loading with `tf.keras.models.load_model`. If renaming is not possible, pass the object in the `custom_objects` parameter of the load function.\n",
            "WARNING:absl:<keras.layers.recurrent.LSTMCell object at 0x7f7a4c3d9650> has the same name 'LSTMCell' as a built-in Keras object. Consider renaming <class 'keras.layers.recurrent.LSTMCell'> to avoid naming conflicts when loading with `tf.keras.models.load_model`. If renaming is not possible, pass the object in the `custom_objects` parameter of the load function.\n"
          ]
        },
        {
          "output_type": "stream",
          "name": "stdout",
          "text": [
            "INFO:tensorflow:Assets written to: model_experiments/model_5_lstm/assets\n"
          ]
        },
        {
          "output_type": "stream",
          "name": "stderr",
          "text": [
            "INFO:tensorflow:Assets written to: model_experiments/model_5_lstm/assets\n",
            "WARNING:absl:<keras.layers.recurrent.LSTMCell object at 0x7f7a4c3246d0> has the same name 'LSTMCell' as a built-in Keras object. Consider renaming <class 'keras.layers.recurrent.LSTMCell'> to avoid naming conflicts when loading with `tf.keras.models.load_model`. If renaming is not possible, pass the object in the `custom_objects` parameter of the load function.\n",
            "WARNING:absl:<keras.layers.recurrent.LSTMCell object at 0x7f7a4c3d9650> has the same name 'LSTMCell' as a built-in Keras object. Consider renaming <class 'keras.layers.recurrent.LSTMCell'> to avoid naming conflicts when loading with `tf.keras.models.load_model`. If renaming is not possible, pass the object in the `custom_objects` parameter of the load function.\n"
          ]
        },
        {
          "output_type": "stream",
          "name": "stdout",
          "text": [
            "INFO:tensorflow:Assets written to: model_experiments/model_5_lstm/assets\n"
          ]
        },
        {
          "output_type": "stream",
          "name": "stderr",
          "text": [
            "INFO:tensorflow:Assets written to: model_experiments/model_5_lstm/assets\n",
            "WARNING:absl:<keras.layers.recurrent.LSTMCell object at 0x7f7a4c3246d0> has the same name 'LSTMCell' as a built-in Keras object. Consider renaming <class 'keras.layers.recurrent.LSTMCell'> to avoid naming conflicts when loading with `tf.keras.models.load_model`. If renaming is not possible, pass the object in the `custom_objects` parameter of the load function.\n",
            "WARNING:absl:<keras.layers.recurrent.LSTMCell object at 0x7f7a4c3d9650> has the same name 'LSTMCell' as a built-in Keras object. Consider renaming <class 'keras.layers.recurrent.LSTMCell'> to avoid naming conflicts when loading with `tf.keras.models.load_model`. If renaming is not possible, pass the object in the `custom_objects` parameter of the load function.\n"
          ]
        },
        {
          "output_type": "stream",
          "name": "stdout",
          "text": [
            "INFO:tensorflow:Assets written to: model_experiments/model_5_lstm/assets\n"
          ]
        },
        {
          "output_type": "stream",
          "name": "stderr",
          "text": [
            "INFO:tensorflow:Assets written to: model_experiments/model_5_lstm/assets\n",
            "WARNING:absl:<keras.layers.recurrent.LSTMCell object at 0x7f7a4c3246d0> has the same name 'LSTMCell' as a built-in Keras object. Consider renaming <class 'keras.layers.recurrent.LSTMCell'> to avoid naming conflicts when loading with `tf.keras.models.load_model`. If renaming is not possible, pass the object in the `custom_objects` parameter of the load function.\n",
            "WARNING:absl:<keras.layers.recurrent.LSTMCell object at 0x7f7a4c3d9650> has the same name 'LSTMCell' as a built-in Keras object. Consider renaming <class 'keras.layers.recurrent.LSTMCell'> to avoid naming conflicts when loading with `tf.keras.models.load_model`. If renaming is not possible, pass the object in the `custom_objects` parameter of the load function.\n"
          ]
        },
        {
          "output_type": "stream",
          "name": "stdout",
          "text": [
            "INFO:tensorflow:Assets written to: model_experiments/model_5_lstm/assets\n"
          ]
        },
        {
          "output_type": "stream",
          "name": "stderr",
          "text": [
            "INFO:tensorflow:Assets written to: model_experiments/model_5_lstm/assets\n",
            "WARNING:absl:<keras.layers.recurrent.LSTMCell object at 0x7f7a4c3246d0> has the same name 'LSTMCell' as a built-in Keras object. Consider renaming <class 'keras.layers.recurrent.LSTMCell'> to avoid naming conflicts when loading with `tf.keras.models.load_model`. If renaming is not possible, pass the object in the `custom_objects` parameter of the load function.\n",
            "WARNING:absl:<keras.layers.recurrent.LSTMCell object at 0x7f7a4c3d9650> has the same name 'LSTMCell' as a built-in Keras object. Consider renaming <class 'keras.layers.recurrent.LSTMCell'> to avoid naming conflicts when loading with `tf.keras.models.load_model`. If renaming is not possible, pass the object in the `custom_objects` parameter of the load function.\n"
          ]
        },
        {
          "output_type": "stream",
          "name": "stdout",
          "text": [
            "INFO:tensorflow:Assets written to: model_experiments/model_5_lstm/assets\n"
          ]
        },
        {
          "output_type": "stream",
          "name": "stderr",
          "text": [
            "INFO:tensorflow:Assets written to: model_experiments/model_5_lstm/assets\n",
            "WARNING:absl:<keras.layers.recurrent.LSTMCell object at 0x7f7a4c3246d0> has the same name 'LSTMCell' as a built-in Keras object. Consider renaming <class 'keras.layers.recurrent.LSTMCell'> to avoid naming conflicts when loading with `tf.keras.models.load_model`. If renaming is not possible, pass the object in the `custom_objects` parameter of the load function.\n",
            "WARNING:absl:<keras.layers.recurrent.LSTMCell object at 0x7f7a4c3d9650> has the same name 'LSTMCell' as a built-in Keras object. Consider renaming <class 'keras.layers.recurrent.LSTMCell'> to avoid naming conflicts when loading with `tf.keras.models.load_model`. If renaming is not possible, pass the object in the `custom_objects` parameter of the load function.\n"
          ]
        },
        {
          "output_type": "stream",
          "name": "stdout",
          "text": [
            "INFO:tensorflow:Assets written to: model_experiments/model_5_lstm/assets\n"
          ]
        },
        {
          "output_type": "stream",
          "name": "stderr",
          "text": [
            "INFO:tensorflow:Assets written to: model_experiments/model_5_lstm/assets\n",
            "WARNING:absl:<keras.layers.recurrent.LSTMCell object at 0x7f7a4c3246d0> has the same name 'LSTMCell' as a built-in Keras object. Consider renaming <class 'keras.layers.recurrent.LSTMCell'> to avoid naming conflicts when loading with `tf.keras.models.load_model`. If renaming is not possible, pass the object in the `custom_objects` parameter of the load function.\n",
            "WARNING:absl:<keras.layers.recurrent.LSTMCell object at 0x7f7a4c3d9650> has the same name 'LSTMCell' as a built-in Keras object. Consider renaming <class 'keras.layers.recurrent.LSTMCell'> to avoid naming conflicts when loading with `tf.keras.models.load_model`. If renaming is not possible, pass the object in the `custom_objects` parameter of the load function.\n"
          ]
        },
        {
          "output_type": "stream",
          "name": "stdout",
          "text": [
            "INFO:tensorflow:Assets written to: model_experiments/model_5_lstm/assets\n"
          ]
        },
        {
          "output_type": "stream",
          "name": "stderr",
          "text": [
            "INFO:tensorflow:Assets written to: model_experiments/model_5_lstm/assets\n",
            "WARNING:absl:<keras.layers.recurrent.LSTMCell object at 0x7f7a4c3246d0> has the same name 'LSTMCell' as a built-in Keras object. Consider renaming <class 'keras.layers.recurrent.LSTMCell'> to avoid naming conflicts when loading with `tf.keras.models.load_model`. If renaming is not possible, pass the object in the `custom_objects` parameter of the load function.\n",
            "WARNING:absl:<keras.layers.recurrent.LSTMCell object at 0x7f7a4c3d9650> has the same name 'LSTMCell' as a built-in Keras object. Consider renaming <class 'keras.layers.recurrent.LSTMCell'> to avoid naming conflicts when loading with `tf.keras.models.load_model`. If renaming is not possible, pass the object in the `custom_objects` parameter of the load function.\n"
          ]
        },
        {
          "output_type": "stream",
          "name": "stdout",
          "text": [
            "INFO:tensorflow:Assets written to: model_experiments/model_5_lstm/assets\n"
          ]
        },
        {
          "output_type": "stream",
          "name": "stderr",
          "text": [
            "INFO:tensorflow:Assets written to: model_experiments/model_5_lstm/assets\n",
            "WARNING:absl:<keras.layers.recurrent.LSTMCell object at 0x7f7a4c3246d0> has the same name 'LSTMCell' as a built-in Keras object. Consider renaming <class 'keras.layers.recurrent.LSTMCell'> to avoid naming conflicts when loading with `tf.keras.models.load_model`. If renaming is not possible, pass the object in the `custom_objects` parameter of the load function.\n",
            "WARNING:absl:<keras.layers.recurrent.LSTMCell object at 0x7f7a4c3d9650> has the same name 'LSTMCell' as a built-in Keras object. Consider renaming <class 'keras.layers.recurrent.LSTMCell'> to avoid naming conflicts when loading with `tf.keras.models.load_model`. If renaming is not possible, pass the object in the `custom_objects` parameter of the load function.\n"
          ]
        },
        {
          "output_type": "stream",
          "name": "stdout",
          "text": [
            "INFO:tensorflow:Assets written to: model_experiments/model_5_lstm/assets\n"
          ]
        },
        {
          "output_type": "stream",
          "name": "stderr",
          "text": [
            "INFO:tensorflow:Assets written to: model_experiments/model_5_lstm/assets\n",
            "WARNING:absl:<keras.layers.recurrent.LSTMCell object at 0x7f7a4c3246d0> has the same name 'LSTMCell' as a built-in Keras object. Consider renaming <class 'keras.layers.recurrent.LSTMCell'> to avoid naming conflicts when loading with `tf.keras.models.load_model`. If renaming is not possible, pass the object in the `custom_objects` parameter of the load function.\n",
            "WARNING:absl:<keras.layers.recurrent.LSTMCell object at 0x7f7a4c3d9650> has the same name 'LSTMCell' as a built-in Keras object. Consider renaming <class 'keras.layers.recurrent.LSTMCell'> to avoid naming conflicts when loading with `tf.keras.models.load_model`. If renaming is not possible, pass the object in the `custom_objects` parameter of the load function.\n"
          ]
        },
        {
          "output_type": "stream",
          "name": "stdout",
          "text": [
            "INFO:tensorflow:Assets written to: model_experiments/model_5_lstm/assets\n"
          ]
        },
        {
          "output_type": "stream",
          "name": "stderr",
          "text": [
            "INFO:tensorflow:Assets written to: model_experiments/model_5_lstm/assets\n",
            "WARNING:absl:<keras.layers.recurrent.LSTMCell object at 0x7f7a4c3246d0> has the same name 'LSTMCell' as a built-in Keras object. Consider renaming <class 'keras.layers.recurrent.LSTMCell'> to avoid naming conflicts when loading with `tf.keras.models.load_model`. If renaming is not possible, pass the object in the `custom_objects` parameter of the load function.\n",
            "WARNING:absl:<keras.layers.recurrent.LSTMCell object at 0x7f7a4c3d9650> has the same name 'LSTMCell' as a built-in Keras object. Consider renaming <class 'keras.layers.recurrent.LSTMCell'> to avoid naming conflicts when loading with `tf.keras.models.load_model`. If renaming is not possible, pass the object in the `custom_objects` parameter of the load function.\n"
          ]
        },
        {
          "output_type": "stream",
          "name": "stdout",
          "text": [
            "INFO:tensorflow:Assets written to: model_experiments/model_5_lstm/assets\n"
          ]
        },
        {
          "output_type": "stream",
          "name": "stderr",
          "text": [
            "INFO:tensorflow:Assets written to: model_experiments/model_5_lstm/assets\n",
            "WARNING:absl:<keras.layers.recurrent.LSTMCell object at 0x7f7a4c3246d0> has the same name 'LSTMCell' as a built-in Keras object. Consider renaming <class 'keras.layers.recurrent.LSTMCell'> to avoid naming conflicts when loading with `tf.keras.models.load_model`. If renaming is not possible, pass the object in the `custom_objects` parameter of the load function.\n",
            "WARNING:absl:<keras.layers.recurrent.LSTMCell object at 0x7f7a4c3d9650> has the same name 'LSTMCell' as a built-in Keras object. Consider renaming <class 'keras.layers.recurrent.LSTMCell'> to avoid naming conflicts when loading with `tf.keras.models.load_model`. If renaming is not possible, pass the object in the `custom_objects` parameter of the load function.\n"
          ]
        },
        {
          "output_type": "stream",
          "name": "stdout",
          "text": [
            "INFO:tensorflow:Assets written to: model_experiments/model_5_lstm/assets\n"
          ]
        },
        {
          "output_type": "stream",
          "name": "stderr",
          "text": [
            "INFO:tensorflow:Assets written to: model_experiments/model_5_lstm/assets\n",
            "WARNING:absl:<keras.layers.recurrent.LSTMCell object at 0x7f7a4c3246d0> has the same name 'LSTMCell' as a built-in Keras object. Consider renaming <class 'keras.layers.recurrent.LSTMCell'> to avoid naming conflicts when loading with `tf.keras.models.load_model`. If renaming is not possible, pass the object in the `custom_objects` parameter of the load function.\n",
            "WARNING:absl:<keras.layers.recurrent.LSTMCell object at 0x7f7a4c3d9650> has the same name 'LSTMCell' as a built-in Keras object. Consider renaming <class 'keras.layers.recurrent.LSTMCell'> to avoid naming conflicts when loading with `tf.keras.models.load_model`. If renaming is not possible, pass the object in the `custom_objects` parameter of the load function.\n"
          ]
        },
        {
          "output_type": "stream",
          "name": "stdout",
          "text": [
            "INFO:tensorflow:Assets written to: model_experiments/model_5_lstm/assets\n"
          ]
        },
        {
          "output_type": "stream",
          "name": "stderr",
          "text": [
            "INFO:tensorflow:Assets written to: model_experiments/model_5_lstm/assets\n",
            "WARNING:absl:<keras.layers.recurrent.LSTMCell object at 0x7f7a4c3246d0> has the same name 'LSTMCell' as a built-in Keras object. Consider renaming <class 'keras.layers.recurrent.LSTMCell'> to avoid naming conflicts when loading with `tf.keras.models.load_model`. If renaming is not possible, pass the object in the `custom_objects` parameter of the load function.\n",
            "WARNING:absl:<keras.layers.recurrent.LSTMCell object at 0x7f7a4c3d9650> has the same name 'LSTMCell' as a built-in Keras object. Consider renaming <class 'keras.layers.recurrent.LSTMCell'> to avoid naming conflicts when loading with `tf.keras.models.load_model`. If renaming is not possible, pass the object in the `custom_objects` parameter of the load function.\n"
          ]
        },
        {
          "output_type": "execute_result",
          "data": {
            "text/plain": [
              "<keras.callbacks.History at 0x7f7a4c3036d0>"
            ]
          },
          "metadata": {},
          "execution_count": 50
        }
      ]
    },
    {
      "cell_type": "code",
      "source": [
        "# Model 5 results\n",
        "model_5_results = evaluate_preds(\n",
        "    y_true = tf.squeeze(test_labels),\n",
        "    y_pred = make_preds(model_5, test_windows)\n",
        ")\n",
        "model_5_results"
      ],
      "metadata": {
        "colab": {
          "base_uri": "https://localhost:8080/"
        },
        "id": "2Nte3jiZZ2yN",
        "outputId": "8511aa75-6212-4e95-b0bc-9e5f16e78145"
      },
      "execution_count": 51,
      "outputs": [
        {
          "output_type": "execute_result",
          "data": {
            "text/plain": [
              "{'mae': 585.9274,\n",
              " 'mape': 2.6383657,\n",
              " 'mase': 1.0293123,\n",
              " 'mse': 1220494.2,\n",
              " 'rmse': 1104.7598}"
            ]
          },
          "metadata": {},
          "execution_count": 51
        }
      ]
    },
    {
      "cell_type": "code",
      "source": [
        "## All Univariate Results\n",
        "uni_results = pd.DataFrame({\"naive\": naive_results[\"mae\"], \n",
        "              \"horizon_1_window_7\": model_1_results[\"mae\"], \n",
        "              \"horizon_1_window_30\": model_2_results[\"mae\"], \n",
        "              \"horizon_7_window_30\": model_3_results[\"mae\"],\n",
        "              \"hor_1_window_30_Conv1D\": model_4_results[\"mae\"],\n",
        "              \"hor_1_window_30_LSTM\": model_5_results[\"mae\"]}, index=[\"mae\"]).plot(figsize=(10, 7), kind=\"bar\");\n",
        "\n",
        "uni_results\n"
      ],
      "metadata": {
        "colab": {
          "base_uri": "https://localhost:8080/",
          "height": 457
        },
        "id": "lm2YHUaTamzT",
        "outputId": "6b4cb644-9f92-4427-a25b-721205abcbd1"
      },
      "execution_count": 52,
      "outputs": [
        {
          "output_type": "execute_result",
          "data": {
            "text/plain": [
              "<matplotlib.axes._subplots.AxesSubplot at 0x7f7a4c0c7fd0>"
            ]
          },
          "metadata": {},
          "execution_count": 52
        },
        {
          "output_type": "display_data",
          "data": {
            "text/plain": [
              "<Figure size 720x504 with 1 Axes>"
            ],
            "image/png": "[encoded data removed]"
          },
          "metadata": {
            "needs_background": "light"
          }
        }
      ]
    },
    {
      "cell_type": "markdown",
      "source": [
        "## Multivariate Time Series\n",
        "\n",
        "- Create variables for the different block reward sizes\n",
        "\n",
        "- The following block rewards and dates were sourced from cmcmarkets.com."
      ],
      "metadata": {
        "id": "AzQQ2cxSbd81"
      }
    },
    {
      "cell_type": "code",
      "source": [
        "# Block reward values\n",
        "block_reward_1 = 50 # 3 January 2009 (2009-01-03) - this block reward isn't in our dataset (it starts from 01 October 2013)\n",
        "block_reward_2 = 25 # 28 November 2012 \n",
        "block_reward_3 = 12.5 # 9 July 2016\n",
        "block_reward_4 = 6.25 # 11 May 2020\n",
        "\n",
        "# Block reward dates (datetime form of the above date stamps)\n",
        "block_reward_2_datetime = np.datetime64(\"2012-11-28\")\n",
        "block_reward_3_datetime = np.datetime64(\"2016-07-09\")\n",
        "block_reward_4_datetime = np.datetime64(\"2020-05-11\")"
      ],
      "metadata": {
        "id": "HpyjMZ67bqwX"
      },
      "execution_count": 53,
      "outputs": []
    },
    {
      "cell_type": "code",
      "source": [
        "# Get date indexes for when to add in different block dates\n",
        "block_reward_2_days = (block_reward_3_datetime - bitcoin_prices.index[0]).days\n",
        "block_reward_3_days = (block_reward_4_datetime - bitcoin_prices.index[0]).days\n",
        "block_reward_2_days, block_reward_3_days"
      ],
      "metadata": {
        "colab": {
          "base_uri": "https://localhost:8080/"
        },
        "id": "rbv_1IjOcTGR",
        "outputId": "d7bcfb44-d931-4681-8b9b-d3b530a04985"
      },
      "execution_count": 54,
      "outputs": [
        {
          "output_type": "execute_result",
          "data": {
            "text/plain": [
              "(1012, 2414)"
            ]
          },
          "metadata": {},
          "execution_count": 54
        }
      ]
    },
    {
      "cell_type": "code",
      "source": [
        "# Add block_reward column\n",
        "bitcoin_prices_block = bitcoin_prices.copy()\n",
        "bitcoin_prices_block[\"block_reward\"] = None\n",
        "\n",
        "# Set values of block_reward column (it's the last column hence -1 indexing on iloc)\n",
        "bitcoin_prices_block.iloc[:block_reward_2_days, -1] = block_reward_2\n",
        "bitcoin_prices_block.iloc[block_reward_2_days:block_reward_3_days, -1] = block_reward_3\n",
        "bitcoin_prices_block.iloc[block_reward_3_days:, -1] = block_reward_4\n",
        "bitcoin_prices_block.head()"
      ],
      "metadata": {
        "colab": {
          "base_uri": "https://localhost:8080/",
          "height": 235
        },
        "id": "JpucQoGFcc_v",
        "outputId": "fa54d307-4fa4-4d1c-d70b-90f57def9a9c"
      },
      "execution_count": 55,
      "outputs": [
        {
          "output_type": "execute_result",
          "data": {
            "text/plain": [
              "                Price block_reward\n",
              "Date                              \n",
              "2013-10-01  123.65499           25\n",
              "2013-10-02  125.45500           25\n",
              "2013-10-03  108.58483           25\n",
              "2013-10-04  118.67466           25\n",
              "2013-10-05  121.33866           25"
            ],
            "text/html": [
              "\n",
              "  <div id=\"df-49109f6e-0765-44af-8c91-59a3a412ec29\">\n",
              "    <div class=\"colab-df-container\">\n",
              "      <div>\n",
              "<style scoped>\n",
              "    .dataframe tbody tr th:only-of-type {\n",
              "        vertical-align: middle;\n",
              "    }\n",
              "\n",
              "    .dataframe tbody tr th {\n",
              "        vertical-align: top;\n",
              "    }\n",
              "\n",
              "    .dataframe thead th {\n",
              "        text-align: right;\n",
              "    }\n",
              "</style>\n",
              "<table border=\"1\" class=\"dataframe\">\n",
              "  <thead>\n",
              "    <tr style=\"text-align: right;\">\n",
              "      <th></th>\n",
              "      <th>Price</th>\n",
              "      <th>block_reward</th>\n",
              "    </tr>\n",
              "    <tr>\n",
              "      <th>Date</th>\n",
              "      <th></th>\n",
              "      <th></th>\n",
              "    </tr>\n",
              "  </thead>\n",
              "  <tbody>\n",
              "    <tr>\n",
              "      <th>2013-10-01</th>\n",
              "      <td>123.65499</td>\n",
              "      <td>25</td>\n",
              "    </tr>\n",
              "    <tr>\n",
              "      <th>2013-10-02</th>\n",
              "      <td>125.45500</td>\n",
              "      <td>25</td>\n",
              "    </tr>\n",
              "    <tr>\n",
              "      <th>2013-10-03</th>\n",
              "      <td>108.58483</td>\n",
              "      <td>25</td>\n",
              "    </tr>\n",
              "    <tr>\n",
              "      <th>2013-10-04</th>\n",
              "      <td>118.67466</td>\n",
              "      <td>25</td>\n",
              "    </tr>\n",
              "    <tr>\n",
              "      <th>2013-10-05</th>\n",
              "      <td>121.33866</td>\n",
              "      <td>25</td>\n",
              "    </tr>\n",
              "  </tbody>\n",
              "</table>\n",
              "</div>\n",
              "      <button class=\"colab-df-convert\" onclick=\"convertToInteractive('df-49109f6e-0765-44af-8c91-59a3a412ec29')\"\n",
              "              title=\"Convert this dataframe to an interactive table.\"\n",
              "              style=\"display:none;\">\n",
              "        \n",
              "  <svg xmlns=\"http://www.w3.org/2000/svg\" height=\"24px\"viewBox=\"0 0 24 24\"\n",
              "       width=\"24px\">\n",
              "    <path d=\"M0 0h24v24H0V0z\" fill=\"none\"/>\n",
              "    <path d=\"M18.56 5.44l.94 2.06.94-2.06 2.06-.94-2.06-.94-.94-2.06-.94 2.06-2.06.94zm-11 1L8.5 8.5l.94-2.06 2.06-.94-2.06-.94L8.5 2.5l-.94 2.06-2.06.94zm10 10l.94 2.06.94-2.06 2.06-.94-2.06-.94-.94-2.06-.94 2.06-2.06.94z\"/><path d=\"M17.41 7.96l-1.37-1.37c-.4-.4-.92-.59-1.43-.59-.52 0-1.04.2-1.43.59L10.3 9.45l-7.72 7.72c-.78.78-.78 2.05 0 2.83L4 21.41c.39.39.9.59 1.41.59.51 0 1.02-.2 1.41-.59l7.78-7.78 2.81-2.81c.8-.78.8-2.07 0-2.86zM5.41 20L4 18.59l7.72-7.72 1.47 1.35L5.41 20z\"/>\n",
              "  </svg>\n",
              "      </button>\n",
              "      \n",
              "  <style>\n",
              "    .colab-df-container {\n",
              "      display:flex;\n",
              "      flex-wrap:wrap;\n",
              "      gap: 12px;\n",
              "    }\n",
              "\n",
              "    .colab-df-convert {\n",
              "      background-color: #E8F0FE;\n",
              "      border: none;\n",
              "      border-radius: 50%;\n",
              "      cursor: pointer;\n",
              "      display: none;\n",
              "      fill: #1967D2;\n",
              "      height: 32px;\n",
              "      padding: 0 0 0 0;\n",
              "      width: 32px;\n",
              "    }\n",
              "\n",
              "    .colab-df-convert:hover {\n",
              "      background-color: #E2EBFA;\n",
              "      box-shadow: 0px 1px 2px rgba(60, 64, 67, 0.3), 0px 1px 3px 1px rgba(60, 64, 67, 0.15);\n",
              "      fill: #174EA6;\n",
              "    }\n",
              "\n",
              "    [theme=dark] .colab-df-convert {\n",
              "      background-color: #3B4455;\n",
              "      fill: #D2E3FC;\n",
              "    }\n",
              "\n",
              "    [theme=dark] .colab-df-convert:hover {\n",
              "      background-color: #434B5C;\n",
              "      box-shadow: 0px 1px 3px 1px rgba(0, 0, 0, 0.15);\n",
              "      filter: drop-shadow(0px 1px 2px rgba(0, 0, 0, 0.3));\n",
              "      fill: #FFFFFF;\n",
              "    }\n",
              "  </style>\n",
              "\n",
              "      <script>\n",
              "        const buttonEl =\n",
              "          document.querySelector('#df-49109f6e-0765-44af-8c91-59a3a412ec29 button.colab-df-convert');\n",
              "        buttonEl.style.display =\n",
              "          google.colab.kernel.accessAllowed ? 'block' : 'none';\n",
              "\n",
              "        async function convertToInteractive(key) {\n",
              "          const element = document.querySelector('#df-49109f6e-0765-44af-8c91-59a3a412ec29');\n",
              "          const dataTable =\n",
              "            await google.colab.kernel.invokeFunction('convertToInteractive',\n",
              "                                                     [key], {});\n",
              "          if (!dataTable) return;\n",
              "\n",
              "          const docLinkHtml = 'Like what you see? Visit the ' +\n",
              "            '<a target=\"_blank\" href=https://colab.research.google.com/notebooks/data_table.ipynb>data table notebook</a>'\n",
              "            + ' to learn more about interactive tables.';\n",
              "          element.innerHTML = '';\n",
              "          dataTable['output_type'] = 'display_data';\n",
              "          await google.colab.output.renderOutput(dataTable, element);\n",
              "          const docLink = document.createElement('div');\n",
              "          docLink.innerHTML = docLinkHtml;\n",
              "          element.appendChild(docLink);\n",
              "        }\n",
              "      </script>\n",
              "    </div>\n",
              "  </div>\n",
              "  "
            ]
          },
          "metadata": {},
          "execution_count": 55
        }
      ]
    },
    {
      "cell_type": "code",
      "source": [
        "# Plot the block reward/price over time\n",
        "# Note: Because of the different scales of our values we'll scale them to be between 0 and 1.\n",
        "from sklearn.preprocessing import minmax_scale\n",
        "scaled_price_block_df = pd.DataFrame(minmax_scale(bitcoin_prices_block[[\"Price\", \"block_reward\"]]), # we need to scale the data first\n",
        "                                     columns=bitcoin_prices_block.columns,\n",
        "                                     index=bitcoin_prices_block.index)\n",
        "scaled_price_block_df.plot(figsize=(10, 7));"
      ],
      "metadata": {
        "colab": {
          "base_uri": "https://localhost:8080/",
          "height": 442
        },
        "id": "3_ZX8wGNcg5S",
        "outputId": "e4948a2e-a4b0-4614-fb67-824850d9a401"
      },
      "execution_count": 56,
      "outputs": [
        {
          "output_type": "display_data",
          "data": {
            "text/plain": [
              "<Figure size 720x504 with 1 Axes>"
            ],
            "image/png": "[encoded data removed]"
          },
          "metadata": {
            "needs_background": "light"
          }
        }
      ]
    },
    {
      "cell_type": "code",
      "source": [
        "# Setup dataset hyperparameters\n",
        "HORIZON = 1\n",
        "WINDOW_SIZE = 7"
      ],
      "metadata": {
        "id": "ERQSXSnFckEy"
      },
      "execution_count": 57,
      "outputs": []
    },
    {
      "cell_type": "code",
      "source": [
        "# Make a copy of the Bitcoin historical data with block reward feature\n",
        "bitcoin_prices_windowed = bitcoin_prices_block.copy()\n",
        "\n",
        "# Add windowed columns\n",
        "for i in range(WINDOW_SIZE): # Shift values for each step in WINDOW_SIZE\n",
        "  bitcoin_prices_windowed[f\"Price+{i+1}\"] = bitcoin_prices_windowed[\"Price\"].shift(periods=i+1)\n",
        "bitcoin_prices_windowed.head(10)"
      ],
      "metadata": {
        "colab": {
          "base_uri": "https://localhost:8080/",
          "height": 624
        },
        "id": "LNv0m8GQdA3W",
        "outputId": "23824b22-67bc-4ac5-c1f7-d241fb7d1784"
      },
      "execution_count": 58,
      "outputs": [
        {
          "output_type": "execute_result",
          "data": {
            "text/plain": [
              "                Price block_reward    Price+1    Price+2    Price+3  \\\n",
              "Date                                                                  \n",
              "2013-10-01  123.65499           25        NaN        NaN        NaN   \n",
              "2013-10-02  125.45500           25  123.65499        NaN        NaN   \n",
              "2013-10-03  108.58483           25  125.45500  123.65499        NaN   \n",
              "2013-10-04  118.67466           25  108.58483  125.45500  123.65499   \n",
              "2013-10-05  121.33866           25  118.67466  108.58483  125.45500   \n",
              "2013-10-06  120.65533           25  121.33866  118.67466  108.58483   \n",
              "2013-10-07  121.79500           25  120.65533  121.33866  118.67466   \n",
              "2013-10-08  123.03300           25  121.79500  120.65533  121.33866   \n",
              "2013-10-09  124.04900           25  123.03300  121.79500  120.65533   \n",
              "2013-10-10  125.96116           25  124.04900  123.03300  121.79500   \n",
              "\n",
              "              Price+4    Price+5    Price+6    Price+7  \n",
              "Date                                                    \n",
              "2013-10-01        NaN        NaN        NaN        NaN  \n",
              "2013-10-02        NaN        NaN        NaN        NaN  \n",
              "2013-10-03        NaN        NaN        NaN        NaN  \n",
              "2013-10-04        NaN        NaN        NaN        NaN  \n",
              "2013-10-05  123.65499        NaN        NaN        NaN  \n",
              "2013-10-06  125.45500  123.65499        NaN        NaN  \n",
              "2013-10-07  108.58483  125.45500  123.65499        NaN  \n",
              "2013-10-08  118.67466  108.58483  125.45500  123.65499  \n",
              "2013-10-09  121.33866  118.67466  108.58483  125.45500  \n",
              "2013-10-10  120.65533  121.33866  118.67466  108.58483  "
            ],
            "text/html": [
              "\n",
              "  <div id=\"df-d51e78f2-2498-4740-9aa6-5b7fb331bb46\">\n",
              "    <div class=\"colab-df-container\">\n",
              "      <div>\n",
              "<style scoped>\n",
              "    .dataframe tbody tr th:only-of-type {\n",
              "        vertical-align: middle;\n",
              "    }\n",
              "\n",
              "    .dataframe tbody tr th {\n",
              "        vertical-align: top;\n",
              "    }\n",
              "\n",
              "    .dataframe thead th {\n",
              "        text-align: right;\n",
              "    }\n",
              "</style>\n",
              "<table border=\"1\" class=\"dataframe\">\n",
              "  <thead>\n",
              "    <tr style=\"text-align: right;\">\n",
              "      <th></th>\n",
              "      <th>Price</th>\n",
              "      <th>block_reward</th>\n",
              "      <th>Price+1</th>\n",
              "      <th>Price+2</th>\n",
              "      <th>Price+3</th>\n",
              "      <th>Price+4</th>\n",
              "      <th>Price+5</th>\n",
              "      <th>Price+6</th>\n",
              "      <th>Price+7</th>\n",
              "    </tr>\n",
              "    <tr>\n",
              "      <th>Date</th>\n",
              "      <th></th>\n",
              "      <th></th>\n",
              "      <th></th>\n",
              "      <th></th>\n",
              "      <th></th>\n",
              "      <th></th>\n",
              "      <th></th>\n",
              "      <th></th>\n",
              "      <th></th>\n",
              "    </tr>\n",
              "  </thead>\n",
              "  <tbody>\n",
              "    <tr>\n",
              "      <th>2013-10-01</th>\n",
              "      <td>123.65499</td>\n",
              "      <td>25</td>\n",
              "      <td>NaN</td>\n",
              "      <td>NaN</td>\n",
              "      <td>NaN</td>\n",
              "      <td>NaN</td>\n",
              "      <td>NaN</td>\n",
              "      <td>NaN</td>\n",
              "      <td>NaN</td>\n",
              "    </tr>\n",
              "    <tr>\n",
              "      <th>2013-10-02</th>\n",
              "      <td>125.45500</td>\n",
              "      <td>25</td>\n",
              "      <td>123.65499</td>\n",
              "      <td>NaN</td>\n",
              "      <td>NaN</td>\n",
              "      <td>NaN</td>\n",
              "      <td>NaN</td>\n",
              "      <td>NaN</td>\n",
              "      <td>NaN</td>\n",
              "    </tr>\n",
              "    <tr>\n",
              "      <th>2013-10-03</th>\n",
              "      <td>108.58483</td>\n",
              "      <td>25</td>\n",
              "      <td>125.45500</td>\n",
              "      <td>123.65499</td>\n",
              "      <td>NaN</td>\n",
              "      <td>NaN</td>\n",
              "      <td>NaN</td>\n",
              "      <td>NaN</td>\n",
              "      <td>NaN</td>\n",
              "    </tr>\n",
              "    <tr>\n",
              "      <th>2013-10-04</th>\n",
              "      <td>118.67466</td>\n",
              "      <td>25</td>\n",
              "      <td>108.58483</td>\n",
              "      <td>125.45500</td>\n",
              "      <td>123.65499</td>\n",
              "      <td>NaN</td>\n",
              "      <td>NaN</td>\n",
              "      <td>NaN</td>\n",
              "      <td>NaN</td>\n",
              "    </tr>\n",
              "    <tr>\n",
              "      <th>2013-10-05</th>\n",
              "      <td>121.33866</td>\n",
              "      <td>25</td>\n",
              "      <td>118.67466</td>\n",
              "      <td>108.58483</td>\n",
              "      <td>125.45500</td>\n",
              "      <td>123.65499</td>\n",
              "      <td>NaN</td>\n",
              "      <td>NaN</td>\n",
              "      <td>NaN</td>\n",
              "    </tr>\n",
              "    <tr>\n",
              "      <th>2013-10-06</th>\n",
              "      <td>120.65533</td>\n",
              "      <td>25</td>\n",
              "      <td>121.33866</td>\n",
              "      <td>118.67466</td>\n",
              "      <td>108.58483</td>\n",
              "      <td>125.45500</td>\n",
              "      <td>123.65499</td>\n",
              "      <td>NaN</td>\n",
              "      <td>NaN</td>\n",
              "    </tr>\n",
              "    <tr>\n",
              "      <th>2013-10-07</th>\n",
              "      <td>121.79500</td>\n",
              "      <td>25</td>\n",
              "      <td>120.65533</td>\n",
              "      <td>121.33866</td>\n",
              "      <td>118.67466</td>\n",
              "      <td>108.58483</td>\n",
              "      <td>125.45500</td>\n",
              "      <td>123.65499</td>\n",
              "      <td>NaN</td>\n",
              "    </tr>\n",
              "    <tr>\n",
              "      <th>2013-10-08</th>\n",
              "      <td>123.03300</td>\n",
              "      <td>25</td>\n",
              "      <td>121.79500</td>\n",
              "      <td>120.65533</td>\n",
              "      <td>121.33866</td>\n",
              "      <td>118.67466</td>\n",
              "      <td>108.58483</td>\n",
              "      <td>125.45500</td>\n",
              "      <td>123.65499</td>\n",
              "    </tr>\n",
              "    <tr>\n",
              "      <th>2013-10-09</th>\n",
              "      <td>124.04900</td>\n",
              "      <td>25</td>\n",
              "      <td>123.03300</td>\n",
              "      <td>121.79500</td>\n",
              "      <td>120.65533</td>\n",
              "      <td>121.33866</td>\n",
              "      <td>118.67466</td>\n",
              "      <td>108.58483</td>\n",
              "      <td>125.45500</td>\n",
              "    </tr>\n",
              "    <tr>\n",
              "      <th>2013-10-10</th>\n",
              "      <td>125.96116</td>\n",
              "      <td>25</td>\n",
              "      <td>124.04900</td>\n",
              "      <td>123.03300</td>\n",
              "      <td>121.79500</td>\n",
              "      <td>120.65533</td>\n",
              "      <td>121.33866</td>\n",
              "      <td>118.67466</td>\n",
              "      <td>108.58483</td>\n",
              "    </tr>\n",
              "  </tbody>\n",
              "</table>\n",
              "</div>\n",
              "      <button class=\"colab-df-convert\" onclick=\"convertToInteractive('df-d51e78f2-2498-4740-9aa6-5b7fb331bb46')\"\n",
              "              title=\"Convert this dataframe to an interactive table.\"\n",
              "              style=\"display:none;\">\n",
              "        \n",
              "  <svg xmlns=\"http://www.w3.org/2000/svg\" height=\"24px\"viewBox=\"0 0 24 24\"\n",
              "       width=\"24px\">\n",
              "    <path d=\"M0 0h24v24H0V0z\" fill=\"none\"/>\n",
              "    <path d=\"M18.56 5.44l.94 2.06.94-2.06 2.06-.94-2.06-.94-.94-2.06-.94 2.06-2.06.94zm-11 1L8.5 8.5l.94-2.06 2.06-.94-2.06-.94L8.5 2.5l-.94 2.06-2.06.94zm10 10l.94 2.06.94-2.06 2.06-.94-2.06-.94-.94-2.06-.94 2.06-2.06.94z\"/><path d=\"M17.41 7.96l-1.37-1.37c-.4-.4-.92-.59-1.43-.59-.52 0-1.04.2-1.43.59L10.3 9.45l-7.72 7.72c-.78.78-.78 2.05 0 2.83L4 21.41c.39.39.9.59 1.41.59.51 0 1.02-.2 1.41-.59l7.78-7.78 2.81-2.81c.8-.78.8-2.07 0-2.86zM5.41 20L4 18.59l7.72-7.72 1.47 1.35L5.41 20z\"/>\n",
              "  </svg>\n",
              "      </button>\n",
              "      \n",
              "  <style>\n",
              "    .colab-df-container {\n",
              "      display:flex;\n",
              "      flex-wrap:wrap;\n",
              "      gap: 12px;\n",
              "    }\n",
              "\n",
              "    .colab-df-convert {\n",
              "      background-color: #E8F0FE;\n",
              "      border: none;\n",
              "      border-radius: 50%;\n",
              "      cursor: pointer;\n",
              "      display: none;\n",
              "      fill: #1967D2;\n",
              "      height: 32px;\n",
              "      padding: 0 0 0 0;\n",
              "      width: 32px;\n",
              "    }\n",
              "\n",
              "    .colab-df-convert:hover {\n",
              "      background-color: #E2EBFA;\n",
              "      box-shadow: 0px 1px 2px rgba(60, 64, 67, 0.3), 0px 1px 3px 1px rgba(60, 64, 67, 0.15);\n",
              "      fill: #174EA6;\n",
              "    }\n",
              "\n",
              "    [theme=dark] .colab-df-convert {\n",
              "      background-color: #3B4455;\n",
              "      fill: #D2E3FC;\n",
              "    }\n",
              "\n",
              "    [theme=dark] .colab-df-convert:hover {\n",
              "      background-color: #434B5C;\n",
              "      box-shadow: 0px 1px 3px 1px rgba(0, 0, 0, 0.15);\n",
              "      filter: drop-shadow(0px 1px 2px rgba(0, 0, 0, 0.3));\n",
              "      fill: #FFFFFF;\n",
              "    }\n",
              "  </style>\n",
              "\n",
              "      <script>\n",
              "        const buttonEl =\n",
              "          document.querySelector('#df-d51e78f2-2498-4740-9aa6-5b7fb331bb46 button.colab-df-convert');\n",
              "        buttonEl.style.display =\n",
              "          google.colab.kernel.accessAllowed ? 'block' : 'none';\n",
              "\n",
              "        async function convertToInteractive(key) {\n",
              "          const element = document.querySelector('#df-d51e78f2-2498-4740-9aa6-5b7fb331bb46');\n",
              "          const dataTable =\n",
              "            await google.colab.kernel.invokeFunction('convertToInteractive',\n",
              "                                                     [key], {});\n",
              "          if (!dataTable) return;\n",
              "\n",
              "          const docLinkHtml = 'Like what you see? Visit the ' +\n",
              "            '<a target=\"_blank\" href=https://colab.research.google.com/notebooks/data_table.ipynb>data table notebook</a>'\n",
              "            + ' to learn more about interactive tables.';\n",
              "          element.innerHTML = '';\n",
              "          dataTable['output_type'] = 'display_data';\n",
              "          await google.colab.output.renderOutput(dataTable, element);\n",
              "          const docLink = document.createElement('div');\n",
              "          docLink.innerHTML = docLinkHtml;\n",
              "          element.appendChild(docLink);\n",
              "        }\n",
              "      </script>\n",
              "    </div>\n",
              "  </div>\n",
              "  "
            ]
          },
          "metadata": {},
          "execution_count": 58
        }
      ]
    },
    {
      "cell_type": "code",
      "source": [
        "# Let's create X & y, remove the NaN's and convert to float32 to prevent TensorFlow errors \n",
        "X = bitcoin_prices_windowed.dropna().drop(\"Price\", axis=1).astype(np.float32) \n",
        "y = bitcoin_prices_windowed.dropna()[\"Price\"].astype(np.float32)\n",
        "X.head()"
      ],
      "metadata": {
        "colab": {
          "base_uri": "https://localhost:8080/",
          "height": 384
        },
        "id": "U5e_E3v4dFnv",
        "outputId": "3a449365-8587-432e-cd6a-bea71df9214a"
      },
      "execution_count": 59,
      "outputs": [
        {
          "output_type": "execute_result",
          "data": {
            "text/plain": [
              "            block_reward     Price+1     Price+2     Price+3     Price+4  \\\n",
              "Date                                                                       \n",
              "2013-10-08          25.0  121.794998  120.655327  121.338661  118.674660   \n",
              "2013-10-09          25.0  123.032997  121.794998  120.655327  121.338661   \n",
              "2013-10-10          25.0  124.049004  123.032997  121.794998  120.655327   \n",
              "2013-10-11          25.0  125.961159  124.049004  123.032997  121.794998   \n",
              "2013-10-12          25.0  125.279663  125.961159  124.049004  123.032997   \n",
              "\n",
              "               Price+5     Price+6     Price+7  \n",
              "Date                                            \n",
              "2013-10-08  108.584831  125.455002  123.654991  \n",
              "2013-10-09  118.674660  108.584831  125.455002  \n",
              "2013-10-10  121.338661  118.674660  108.584831  \n",
              "2013-10-11  120.655327  121.338661  118.674660  \n",
              "2013-10-12  121.794998  120.655327  121.338661  "
            ],
            "text/html": [
              "\n",
              "  <div id=\"df-b02ea7ce-a67b-4105-92ea-47e1cf2394b2\">\n",
              "    <div class=\"colab-df-container\">\n",
              "      <div>\n",
              "<style scoped>\n",
              "    .dataframe tbody tr th:only-of-type {\n",
              "        vertical-align: middle;\n",
              "    }\n",
              "\n",
              "    .dataframe tbody tr th {\n",
              "        vertical-align: top;\n",
              "    }\n",
              "\n",
              "    .dataframe thead th {\n",
              "        text-align: right;\n",
              "    }\n",
              "</style>\n",
              "<table border=\"1\" class=\"dataframe\">\n",
              "  <thead>\n",
              "    <tr style=\"text-align: right;\">\n",
              "      <th></th>\n",
              "      <th>block_reward</th>\n",
              "      <th>Price+1</th>\n",
              "      <th>Price+2</th>\n",
              "      <th>Price+3</th>\n",
              "      <th>Price+4</th>\n",
              "      <th>Price+5</th>\n",
              "      <th>Price+6</th>\n",
              "      <th>Price+7</th>\n",
              "    </tr>\n",
              "    <tr>\n",
              "      <th>Date</th>\n",
              "      <th></th>\n",
              "      <th></th>\n",
              "      <th></th>\n",
              "      <th></th>\n",
              "      <th></th>\n",
              "      <th></th>\n",
              "      <th></th>\n",
              "      <th></th>\n",
              "    </tr>\n",
              "  </thead>\n",
              "  <tbody>\n",
              "    <tr>\n",
              "      <th>2013-10-08</th>\n",
              "      <td>25.0</td>\n",
              "      <td>121.794998</td>\n",
              "      <td>120.655327</td>\n",
              "      <td>121.338661</td>\n",
              "      <td>118.674660</td>\n",
              "      <td>108.584831</td>\n",
              "      <td>125.455002</td>\n",
              "      <td>123.654991</td>\n",
              "    </tr>\n",
              "    <tr>\n",
              "      <th>2013-10-09</th>\n",
              "      <td>25.0</td>\n",
              "      <td>123.032997</td>\n",
              "      <td>121.794998</td>\n",
              "      <td>120.655327</td>\n",
              "      <td>121.338661</td>\n",
              "      <td>118.674660</td>\n",
              "      <td>108.584831</td>\n",
              "      <td>125.455002</td>\n",
              "    </tr>\n",
              "    <tr>\n",
              "      <th>2013-10-10</th>\n",
              "      <td>25.0</td>\n",
              "      <td>124.049004</td>\n",
              "      <td>123.032997</td>\n",
              "      <td>121.794998</td>\n",
              "      <td>120.655327</td>\n",
              "      <td>121.338661</td>\n",
              "      <td>118.674660</td>\n",
              "      <td>108.584831</td>\n",
              "    </tr>\n",
              "    <tr>\n",
              "      <th>2013-10-11</th>\n",
              "      <td>25.0</td>\n",
              "      <td>125.961159</td>\n",
              "      <td>124.049004</td>\n",
              "      <td>123.032997</td>\n",
              "      <td>121.794998</td>\n",
              "      <td>120.655327</td>\n",
              "      <td>121.338661</td>\n",
              "      <td>118.674660</td>\n",
              "    </tr>\n",
              "    <tr>\n",
              "      <th>2013-10-12</th>\n",
              "      <td>25.0</td>\n",
              "      <td>125.279663</td>\n",
              "      <td>125.961159</td>\n",
              "      <td>124.049004</td>\n",
              "      <td>123.032997</td>\n",
              "      <td>121.794998</td>\n",
              "      <td>120.655327</td>\n",
              "      <td>121.338661</td>\n",
              "    </tr>\n",
              "  </tbody>\n",
              "</table>\n",
              "</div>\n",
              "      <button class=\"colab-df-convert\" onclick=\"convertToInteractive('df-b02ea7ce-a67b-4105-92ea-47e1cf2394b2')\"\n",
              "              title=\"Convert this dataframe to an interactive table.\"\n",
              "              style=\"display:none;\">\n",
              "        \n",
              "  <svg xmlns=\"http://www.w3.org/2000/svg\" height=\"24px\"viewBox=\"0 0 24 24\"\n",
              "       width=\"24px\">\n",
              "    <path d=\"M0 0h24v24H0V0z\" fill=\"none\"/>\n",
              "    <path d=\"M18.56 5.44l.94 2.06.94-2.06 2.06-.94-2.06-.94-.94-2.06-.94 2.06-2.06.94zm-11 1L8.5 8.5l.94-2.06 2.06-.94-2.06-.94L8.5 2.5l-.94 2.06-2.06.94zm10 10l.94 2.06.94-2.06 2.06-.94-2.06-.94-.94-2.06-.94 2.06-2.06.94z\"/><path d=\"M17.41 7.96l-1.37-1.37c-.4-.4-.92-.59-1.43-.59-.52 0-1.04.2-1.43.59L10.3 9.45l-7.72 7.72c-.78.78-.78 2.05 0 2.83L4 21.41c.39.39.9.59 1.41.59.51 0 1.02-.2 1.41-.59l7.78-7.78 2.81-2.81c.8-.78.8-2.07 0-2.86zM5.41 20L4 18.59l7.72-7.72 1.47 1.35L5.41 20z\"/>\n",
              "  </svg>\n",
              "      </button>\n",
              "      \n",
              "  <style>\n",
              "    .colab-df-container {\n",
              "      display:flex;\n",
              "      flex-wrap:wrap;\n",
              "      gap: 12px;\n",
              "    }\n",
              "\n",
              "    .colab-df-convert {\n",
              "      background-color: #E8F0FE;\n",
              "      border: none;\n",
              "      border-radius: 50%;\n",
              "      cursor: pointer;\n",
              "      display: none;\n",
              "      fill: #1967D2;\n",
              "      height: 32px;\n",
              "      padding: 0 0 0 0;\n",
              "      width: 32px;\n",
              "    }\n",
              "\n",
              "    .colab-df-convert:hover {\n",
              "      background-color: #E2EBFA;\n",
              "      box-shadow: 0px 1px 2px rgba(60, 64, 67, 0.3), 0px 1px 3px 1px rgba(60, 64, 67, 0.15);\n",
              "      fill: #174EA6;\n",
              "    }\n",
              "\n",
              "    [theme=dark] .colab-df-convert {\n",
              "      background-color: #3B4455;\n",
              "      fill: #D2E3FC;\n",
              "    }\n",
              "\n",
              "    [theme=dark] .colab-df-convert:hover {\n",
              "      background-color: #434B5C;\n",
              "      box-shadow: 0px 1px 3px 1px rgba(0, 0, 0, 0.15);\n",
              "      filter: drop-shadow(0px 1px 2px rgba(0, 0, 0, 0.3));\n",
              "      fill: #FFFFFF;\n",
              "    }\n",
              "  </style>\n",
              "\n",
              "      <script>\n",
              "        const buttonEl =\n",
              "          document.querySelector('#df-b02ea7ce-a67b-4105-92ea-47e1cf2394b2 button.colab-df-convert');\n",
              "        buttonEl.style.display =\n",
              "          google.colab.kernel.accessAllowed ? 'block' : 'none';\n",
              "\n",
              "        async function convertToInteractive(key) {\n",
              "          const element = document.querySelector('#df-b02ea7ce-a67b-4105-92ea-47e1cf2394b2');\n",
              "          const dataTable =\n",
              "            await google.colab.kernel.invokeFunction('convertToInteractive',\n",
              "                                                     [key], {});\n",
              "          if (!dataTable) return;\n",
              "\n",
              "          const docLinkHtml = 'Like what you see? Visit the ' +\n",
              "            '<a target=\"_blank\" href=https://colab.research.google.com/notebooks/data_table.ipynb>data table notebook</a>'\n",
              "            + ' to learn more about interactive tables.';\n",
              "          element.innerHTML = '';\n",
              "          dataTable['output_type'] = 'display_data';\n",
              "          await google.colab.output.renderOutput(dataTable, element);\n",
              "          const docLink = document.createElement('div');\n",
              "          docLink.innerHTML = docLinkHtml;\n",
              "          element.appendChild(docLink);\n",
              "        }\n",
              "      </script>\n",
              "    </div>\n",
              "  </div>\n",
              "  "
            ]
          },
          "metadata": {},
          "execution_count": 59
        }
      ]
    },
    {
      "cell_type": "code",
      "source": [
        "# Make train and test sets\n",
        "split_size = int(len(X) * 0.8)\n",
        "X_train, y_train = X[:split_size], y[:split_size]\n",
        "X_test, y_test = X[split_size:], y[split_size:]\n",
        "len(X_train), len(y_train), len(X_test), len(y_test)"
      ],
      "metadata": {
        "colab": {
          "base_uri": "https://localhost:8080/"
        },
        "id": "JQtEQaPBdKWk",
        "outputId": "1dfb986c-8f2b-46c7-d143-006ef980a51b"
      },
      "execution_count": 60,
      "outputs": [
        {
          "output_type": "execute_result",
          "data": {
            "text/plain": [
              "(2224, 2224, 556, 556)"
            ]
          },
          "metadata": {},
          "execution_count": 60
        }
      ]
    },
    {
      "cell_type": "markdown",
      "source": [
        "## Model 6: Dense"
      ],
      "metadata": {
        "id": "OnAYpL4GdOg6"
      }
    },
    {
      "cell_type": "code",
      "source": [
        "tf.random.set_seed(42)\n",
        "\n",
        "# Make multivariate time series model\n",
        "model_6 = tf.keras.Sequential([\n",
        "  layers.Dense(128, activation=\"relu\"),\n",
        "  layers.Dense(64, activation = \"relu\"),\n",
        "  layers.Dense(HORIZON, activation = \"linear\")\n",
        "], name=\"model_6_dense_multivariate\")\n",
        "\n",
        "# Compile\n",
        "model_6.compile(loss=\"mae\",\n",
        "                optimizer=tf.keras.optimizers.Adam(),\n",
        "                metrics = [\"mae\"])\n",
        "\n",
        "# Fit\n",
        "model_6.fit(X_train, y_train,\n",
        "            epochs=100,\n",
        "            batch_size=128,\n",
        "            verbose=0, # only print 1 line per epoch\n",
        "            validation_data=(X_test, y_test),\n",
        "            callbacks=[create_model_checkpoint(model_name=model_6.name)])\n"
      ],
      "metadata": {
        "colab": {
          "base_uri": "https://localhost:8080/"
        },
        "id": "Ji_LBuAUdbNG",
        "outputId": "7d820ba5-9303-428d-9914-56bbc43b6b99"
      },
      "execution_count": 67,
      "outputs": [
        {
          "output_type": "stream",
          "name": "stdout",
          "text": [
            "INFO:tensorflow:Assets written to: model_experiments/model_6_dense_multivariate/assets\n"
          ]
        },
        {
          "output_type": "stream",
          "name": "stderr",
          "text": [
            "INFO:tensorflow:Assets written to: model_experiments/model_6_dense_multivariate/assets\n"
          ]
        },
        {
          "output_type": "stream",
          "name": "stdout",
          "text": [
            "INFO:tensorflow:Assets written to: model_experiments/model_6_dense_multivariate/assets\n"
          ]
        },
        {
          "output_type": "stream",
          "name": "stderr",
          "text": [
            "INFO:tensorflow:Assets written to: model_experiments/model_6_dense_multivariate/assets\n"
          ]
        },
        {
          "output_type": "stream",
          "name": "stdout",
          "text": [
            "INFO:tensorflow:Assets written to: model_experiments/model_6_dense_multivariate/assets\n"
          ]
        },
        {
          "output_type": "stream",
          "name": "stderr",
          "text": [
            "INFO:tensorflow:Assets written to: model_experiments/model_6_dense_multivariate/assets\n"
          ]
        },
        {
          "output_type": "stream",
          "name": "stdout",
          "text": [
            "INFO:tensorflow:Assets written to: model_experiments/model_6_dense_multivariate/assets\n"
          ]
        },
        {
          "output_type": "stream",
          "name": "stderr",
          "text": [
            "INFO:tensorflow:Assets written to: model_experiments/model_6_dense_multivariate/assets\n"
          ]
        },
        {
          "output_type": "stream",
          "name": "stdout",
          "text": [
            "INFO:tensorflow:Assets written to: model_experiments/model_6_dense_multivariate/assets\n"
          ]
        },
        {
          "output_type": "stream",
          "name": "stderr",
          "text": [
            "INFO:tensorflow:Assets written to: model_experiments/model_6_dense_multivariate/assets\n"
          ]
        },
        {
          "output_type": "stream",
          "name": "stdout",
          "text": [
            "INFO:tensorflow:Assets written to: model_experiments/model_6_dense_multivariate/assets\n"
          ]
        },
        {
          "output_type": "stream",
          "name": "stderr",
          "text": [
            "INFO:tensorflow:Assets written to: model_experiments/model_6_dense_multivariate/assets\n"
          ]
        },
        {
          "output_type": "stream",
          "name": "stdout",
          "text": [
            "INFO:tensorflow:Assets written to: model_experiments/model_6_dense_multivariate/assets\n"
          ]
        },
        {
          "output_type": "stream",
          "name": "stderr",
          "text": [
            "INFO:tensorflow:Assets written to: model_experiments/model_6_dense_multivariate/assets\n"
          ]
        },
        {
          "output_type": "stream",
          "name": "stdout",
          "text": [
            "INFO:tensorflow:Assets written to: model_experiments/model_6_dense_multivariate/assets\n"
          ]
        },
        {
          "output_type": "stream",
          "name": "stderr",
          "text": [
            "INFO:tensorflow:Assets written to: model_experiments/model_6_dense_multivariate/assets\n"
          ]
        },
        {
          "output_type": "stream",
          "name": "stdout",
          "text": [
            "INFO:tensorflow:Assets written to: model_experiments/model_6_dense_multivariate/assets\n"
          ]
        },
        {
          "output_type": "stream",
          "name": "stderr",
          "text": [
            "INFO:tensorflow:Assets written to: model_experiments/model_6_dense_multivariate/assets\n"
          ]
        },
        {
          "output_type": "stream",
          "name": "stdout",
          "text": [
            "INFO:tensorflow:Assets written to: model_experiments/model_6_dense_multivariate/assets\n"
          ]
        },
        {
          "output_type": "stream",
          "name": "stderr",
          "text": [
            "INFO:tensorflow:Assets written to: model_experiments/model_6_dense_multivariate/assets\n"
          ]
        },
        {
          "output_type": "stream",
          "name": "stdout",
          "text": [
            "INFO:tensorflow:Assets written to: model_experiments/model_6_dense_multivariate/assets\n"
          ]
        },
        {
          "output_type": "stream",
          "name": "stderr",
          "text": [
            "INFO:tensorflow:Assets written to: model_experiments/model_6_dense_multivariate/assets\n"
          ]
        },
        {
          "output_type": "stream",
          "name": "stdout",
          "text": [
            "INFO:tensorflow:Assets written to: model_experiments/model_6_dense_multivariate/assets\n"
          ]
        },
        {
          "output_type": "stream",
          "name": "stderr",
          "text": [
            "INFO:tensorflow:Assets written to: model_experiments/model_6_dense_multivariate/assets\n"
          ]
        },
        {
          "output_type": "stream",
          "name": "stdout",
          "text": [
            "INFO:tensorflow:Assets written to: model_experiments/model_6_dense_multivariate/assets\n"
          ]
        },
        {
          "output_type": "stream",
          "name": "stderr",
          "text": [
            "INFO:tensorflow:Assets written to: model_experiments/model_6_dense_multivariate/assets\n"
          ]
        },
        {
          "output_type": "stream",
          "name": "stdout",
          "text": [
            "INFO:tensorflow:Assets written to: model_experiments/model_6_dense_multivariate/assets\n"
          ]
        },
        {
          "output_type": "stream",
          "name": "stderr",
          "text": [
            "INFO:tensorflow:Assets written to: model_experiments/model_6_dense_multivariate/assets\n"
          ]
        },
        {
          "output_type": "stream",
          "name": "stdout",
          "text": [
            "INFO:tensorflow:Assets written to: model_experiments/model_6_dense_multivariate/assets\n"
          ]
        },
        {
          "output_type": "stream",
          "name": "stderr",
          "text": [
            "INFO:tensorflow:Assets written to: model_experiments/model_6_dense_multivariate/assets\n"
          ]
        },
        {
          "output_type": "stream",
          "name": "stdout",
          "text": [
            "INFO:tensorflow:Assets written to: model_experiments/model_6_dense_multivariate/assets\n"
          ]
        },
        {
          "output_type": "stream",
          "name": "stderr",
          "text": [
            "INFO:tensorflow:Assets written to: model_experiments/model_6_dense_multivariate/assets\n"
          ]
        },
        {
          "output_type": "stream",
          "name": "stdout",
          "text": [
            "INFO:tensorflow:Assets written to: model_experiments/model_6_dense_multivariate/assets\n"
          ]
        },
        {
          "output_type": "stream",
          "name": "stderr",
          "text": [
            "INFO:tensorflow:Assets written to: model_experiments/model_6_dense_multivariate/assets\n"
          ]
        },
        {
          "output_type": "stream",
          "name": "stdout",
          "text": [
            "INFO:tensorflow:Assets written to: model_experiments/model_6_dense_multivariate/assets\n"
          ]
        },
        {
          "output_type": "stream",
          "name": "stderr",
          "text": [
            "INFO:tensorflow:Assets written to: model_experiments/model_6_dense_multivariate/assets\n"
          ]
        },
        {
          "output_type": "stream",
          "name": "stdout",
          "text": [
            "INFO:tensorflow:Assets written to: model_experiments/model_6_dense_multivariate/assets\n"
          ]
        },
        {
          "output_type": "stream",
          "name": "stderr",
          "text": [
            "INFO:tensorflow:Assets written to: model_experiments/model_6_dense_multivariate/assets\n"
          ]
        },
        {
          "output_type": "stream",
          "name": "stdout",
          "text": [
            "INFO:tensorflow:Assets written to: model_experiments/model_6_dense_multivariate/assets\n"
          ]
        },
        {
          "output_type": "stream",
          "name": "stderr",
          "text": [
            "INFO:tensorflow:Assets written to: model_experiments/model_6_dense_multivariate/assets\n"
          ]
        },
        {
          "output_type": "stream",
          "name": "stdout",
          "text": [
            "INFO:tensorflow:Assets written to: model_experiments/model_6_dense_multivariate/assets\n"
          ]
        },
        {
          "output_type": "stream",
          "name": "stderr",
          "text": [
            "INFO:tensorflow:Assets written to: model_experiments/model_6_dense_multivariate/assets\n"
          ]
        },
        {
          "output_type": "stream",
          "name": "stdout",
          "text": [
            "INFO:tensorflow:Assets written to: model_experiments/model_6_dense_multivariate/assets\n"
          ]
        },
        {
          "output_type": "stream",
          "name": "stderr",
          "text": [
            "INFO:tensorflow:Assets written to: model_experiments/model_6_dense_multivariate/assets\n"
          ]
        },
        {
          "output_type": "stream",
          "name": "stdout",
          "text": [
            "INFO:tensorflow:Assets written to: model_experiments/model_6_dense_multivariate/assets\n"
          ]
        },
        {
          "output_type": "stream",
          "name": "stderr",
          "text": [
            "INFO:tensorflow:Assets written to: model_experiments/model_6_dense_multivariate/assets\n"
          ]
        },
        {
          "output_type": "execute_result",
          "data": {
            "text/plain": [
              "<keras.callbacks.History at 0x7f7a3d3ca0d0>"
            ]
          },
          "metadata": {},
          "execution_count": 67
        }
      ]
    },
    {
      "cell_type": "code",
      "source": [
        "# Make sure best model is loaded and evaluate\n",
        "model_6 = tf.keras.models.load_model(\"model_experiments/model_6_dense_multivariate\")\n",
        "model_6.evaluate(X_test, y_test)"
      ],
      "metadata": {
        "colab": {
          "base_uri": "https://localhost:8080/"
        },
        "id": "m8vwEOT3djnG",
        "outputId": "dd9fc49c-7014-4747-a335-3635b169041e"
      },
      "execution_count": 68,
      "outputs": [
        {
          "output_type": "stream",
          "name": "stdout",
          "text": [
            "18/18 [==============================] - 0s 2ms/step - loss: 564.5516 - mae: 564.5516\n"
          ]
        },
        {
          "output_type": "execute_result",
          "data": {
            "text/plain": [
              "[564.5516357421875, 564.5516357421875]"
            ]
          },
          "metadata": {},
          "execution_count": 68
        }
      ]
    },
    {
      "cell_type": "code",
      "source": [
        "# Evaluate preds\n",
        "model_6_results = evaluate_preds(y_true=y_test,\n",
        "                                 y_pred=tf.squeeze(model_6.predict(X_test)))\n",
        "model_6_results"
      ],
      "metadata": {
        "colab": {
          "base_uri": "https://localhost:8080/"
        },
        "id": "-WnNzzOcdrCJ",
        "outputId": "903fb92c-2c18-4a51-aab8-4235d27b6635"
      },
      "execution_count": 69,
      "outputs": [
        {
          "output_type": "execute_result",
          "data": {
            "text/plain": [
              "{'mae': 564.5517,\n",
              " 'mape': 2.5381713,\n",
              " 'mase': 0.99176097,\n",
              " 'mse': 1158975.6,\n",
              " 'rmse': 1076.5574}"
            ]
          },
          "metadata": {},
          "execution_count": 69
        }
      ]
    },
    {
      "cell_type": "markdown",
      "source": [
        "Adding the block reward helped - slightly"
      ],
      "metadata": {
        "id": "qquzD4ynd27a"
      }
    },
    {
      "cell_type": "markdown",
      "source": [
        "## Make Future Predictions"
      ],
      "metadata": {
        "id": "DIUhUIcniTFy"
      }
    },
    {
      "cell_type": "code",
      "source": [
        "# Timestamps to predict into the future\n",
        "INTO_FUTURE = 14"
      ],
      "metadata": {
        "id": "f9v1-p9MjRyt"
      },
      "execution_count": 72,
      "outputs": []
    },
    {
      "cell_type": "code",
      "source": [
        "# 1. Create function to make predictions into the future\n",
        "def make_future_forecast(values, model, into_future, window_size=WINDOW_SIZE) -> list:\n",
        "  \"\"\"\n",
        "  Makes future forecasts into_future steps after values ends.\n",
        "\n",
        "  Returns future forecasts as list of floats.\n",
        "  \"\"\"\n",
        "  # 2. Make an empty list for future forecasts/prepare data to forecast on\n",
        "  future_forecast = []\n",
        "  last_window = values[-WINDOW_SIZE:] # only want preds from the last window (this will get updated)\n",
        "\n",
        "  # 3. Make INTO_FUTURE number of predictions, altering the data which gets predicted on each time \n",
        "  for _ in range(into_future):\n",
        "    \n",
        "    # Predict on last window then append it again, again, again (model starts to make forecasts on its own forecasts)\n",
        "    future_pred = model.predict(tf.expand_dims(last_window, axis=0))\n",
        "    print(f\"Predicting on: \\n {last_window} -> Prediction: {tf.squeeze(future_pred).numpy()}\\n\")\n",
        "    \n",
        "    # Append predictions to future_forecast\n",
        "    future_forecast.append(tf.squeeze(future_pred).numpy())\n",
        "    # print(future_forecast)\n",
        "\n",
        "    # Update last window with new pred and get WINDOW_SIZE most recent preds (model was trained on WINDOW_SIZE windows)\n",
        "    last_window = np.append(last_window, future_pred)[-WINDOW_SIZE:]\n",
        "  \n",
        "  return future_forecast"
      ],
      "metadata": {
        "id": "qp-tHV03jZAG"
      },
      "execution_count": 73,
      "outputs": []
    },
    {
      "cell_type": "code",
      "source": [
        "# Train model on entire data to make prediction for the next day \n",
        "X_all = bitcoin_prices_windowed.drop([\"Price\", \"block_reward\"], axis=1).dropna().to_numpy() # only want prices, our future model can be a univariate model\n",
        "y_all = bitcoin_prices_windowed.dropna()[\"Price\"].to_numpy()"
      ],
      "metadata": {
        "id": "iqlWO-vDkN0D"
      },
      "execution_count": 74,
      "outputs": []
    },
    {
      "cell_type": "code",
      "source": [
        "# 1. Turn X and y into tensor Datasets\n",
        "features_dataset_all = tf.data.Dataset.from_tensor_slices(X_all)\n",
        "labels_dataset_all = tf.data.Dataset.from_tensor_slices(y_all)\n",
        "\n",
        "# 2. Combine features & labels\n",
        "dataset_all = tf.data.Dataset.zip((features_dataset_all, labels_dataset_all))\n",
        "\n",
        "# 3. Batch and prefetch for optimal performance\n",
        "BATCH_SIZE = 1024 # taken from Appendix D in N-BEATS paper\n",
        "dataset_all = dataset_all.batch(BATCH_SIZE).prefetch(tf.data.AUTOTUNE)\n",
        "\n",
        "dataset_all"
      ],
      "metadata": {
        "colab": {
          "base_uri": "https://localhost:8080/"
        },
        "id": "UyG5L4BlkijC",
        "outputId": "ca7cc08b-f5c4-44ff-d499-d579b971bd71"
      },
      "execution_count": 76,
      "outputs": [
        {
          "output_type": "execute_result",
          "data": {
            "text/plain": [
              "<PrefetchDataset element_spec=(TensorSpec(shape=(None, 7), dtype=tf.float64, name=None), TensorSpec(shape=(None,), dtype=tf.float64, name=None))>"
            ]
          },
          "metadata": {},
          "execution_count": 76
        }
      ]
    },
    {
      "cell_type": "code",
      "source": [
        "tf.random.set_seed(42)\n",
        "\n",
        "# Create model (nice and simple, just to test)\n",
        "model_9 = tf.keras.Sequential([\n",
        "  layers.Dense(128, activation=\"relu\"),\n",
        "  layers.Dense(128, activation=\"relu\"),\n",
        "  layers.Dense(HORIZON)\n",
        "])\n",
        "\n",
        "# Compile\n",
        "model_9.compile(loss=tf.keras.losses.mae,\n",
        "                optimizer=tf.keras.optimizers.Adam())\n",
        "\n",
        "# Fit model on all of the data to make future forecasts\n",
        "model_9.fit(dataset_all,\n",
        "            epochs=100,\n",
        "            verbose=0) # don't print out anything, we've seen this all before"
      ],
      "metadata": {
        "colab": {
          "base_uri": "https://localhost:8080/"
        },
        "id": "H_wGmjtdkmtJ",
        "outputId": "9a6faaed-26d7-4503-a5d3-fd4d7cf8ae01"
      },
      "execution_count": 77,
      "outputs": [
        {
          "output_type": "execute_result",
          "data": {
            "text/plain": [
              "<keras.callbacks.History at 0x7f7a4ba1a7d0>"
            ]
          },
          "metadata": {},
          "execution_count": 77
        }
      ]
    },
    {
      "cell_type": "code",
      "source": [
        "# Make forecasts into future of the price of Bitcoin\n",
        "# Note: if you're reading this at a later date, you may already be in the future, so the forecasts \n",
        "# we're making may not actually be forecasts, if that's the case, readjust the training data.\n",
        "future_forecast = make_future_forecast(values=y_all,\n",
        "                                       model=model_9,\n",
        "                                       into_future=INTO_FUTURE,\n",
        "                                       window_size=WINDOW_SIZE)"
      ],
      "metadata": {
        "colab": {
          "base_uri": "https://localhost:8080/"
        },
        "id": "jsXrp1mCjwqa",
        "outputId": "cf458cee-6542-4e1b-d893-c7e708ec9a89"
      },
      "execution_count": 78,
      "outputs": [
        {
          "output_type": "stream",
          "name": "stdout",
          "text": [
            "Predicting on: \n",
            " [56573.5554719  52147.82118698 49764.1320816  50032.69313676\n",
            " 47885.62525472 45604.61575361 43144.47129086] -> Prediction: 55764.47265625\n",
            "\n",
            "Predicting on: \n",
            " [52147.82118698 49764.1320816  50032.69313676 47885.62525472\n",
            " 45604.61575361 43144.47129086 55764.47265625] -> Prediction: 50985.9296875\n",
            "\n",
            "Predicting on: \n",
            " [49764.1320816  50032.69313676 47885.62525472 45604.61575361\n",
            " 43144.47129086 55764.47265625 50985.9296875 ] -> Prediction: 48522.9609375\n",
            "\n",
            "Predicting on: \n",
            " [50032.69313676 47885.62525472 45604.61575361 43144.47129086\n",
            " 55764.47265625 50985.9296875  48522.9609375 ] -> Prediction: 48137.19921875\n",
            "\n",
            "Predicting on: \n",
            " [47885.62525472 45604.61575361 43144.47129086 55764.47265625\n",
            " 50985.9296875  48522.9609375  48137.19921875] -> Prediction: 47880.6328125\n",
            "\n",
            "Predicting on: \n",
            " [45604.61575361 43144.47129086 55764.47265625 50985.9296875\n",
            " 48522.9609375  48137.19921875 47880.6328125 ] -> Prediction: 46879.71484375\n",
            "\n",
            "Predicting on: \n",
            " [43144.47129086 55764.47265625 50985.9296875  48522.9609375\n",
            " 48137.19921875 47880.6328125  46879.71484375] -> Prediction: 48227.59375\n",
            "\n",
            "Predicting on: \n",
            " [55764.47265625 50985.9296875  48522.9609375  48137.19921875\n",
            " 47880.6328125  46879.71484375 48227.59375   ] -> Prediction: 53963.68359375\n",
            "\n",
            "Predicting on: \n",
            " [50985.9296875  48522.9609375  48137.19921875 47880.6328125\n",
            " 46879.71484375 48227.59375    53963.68359375] -> Prediction: 49685.54296875\n",
            "\n",
            "Predicting on: \n",
            " [48522.9609375  48137.19921875 47880.6328125  46879.71484375\n",
            " 48227.59375    53963.68359375 49685.54296875] -> Prediction: 47596.17578125\n",
            "\n",
            "Predicting on: \n",
            " [48137.19921875 47880.6328125  46879.71484375 48227.59375\n",
            " 53963.68359375 49685.54296875 47596.17578125] -> Prediction: 48114.41796875\n",
            "\n",
            "Predicting on: \n",
            " [47880.6328125  46879.71484375 48227.59375    53963.68359375\n",
            " 49685.54296875 47596.17578125 48114.41796875] -> Prediction: 48807.99609375\n",
            "\n",
            "Predicting on: \n",
            " [46879.71484375 48227.59375    53963.68359375 49685.54296875\n",
            " 47596.17578125 48114.41796875 48807.99609375] -> Prediction: 48623.8515625\n",
            "\n",
            "Predicting on: \n",
            " [48227.59375    53963.68359375 49685.54296875 47596.17578125\n",
            " 48114.41796875 48807.99609375 48623.8515625 ] -> Prediction: 50178.71484375\n",
            "\n"
          ]
        }
      ]
    },
    {
      "cell_type": "code",
      "source": [
        "def get_future_dates(start_date, into_future, offset=1):\n",
        "  \"\"\"\n",
        "  Returns array of datetime values from ranging from start_date to start_date+horizon.\n",
        "\n",
        "  start_date: date to start range (np.datetime64)\n",
        "  into_future: number of days to add onto start date for range (int)\n",
        "  offset: number of days to offset start_date by (default 1)\n",
        "  \"\"\"\n",
        "  start_date = start_date + np.timedelta64(offset, \"D\") # specify start date, \"D\" stands for day\n",
        "  end_date = start_date + np.timedelta64(into_future, \"D\") # specify end date\n",
        "  return np.arange(start_date, end_date, dtype=\"datetime64[D]\") # return a date range between start date and end date\n",
        "\n",
        "\n",
        "# Last timestep of timesteps (currently in np.datetime64 format)\n",
        "last_timestep = bitcoin_prices.index[-1]\n",
        "last_timestep\n",
        "\n",
        "# Get next two weeks of timesteps\n",
        "next_time_steps = get_future_dates(start_date=last_timestep, \n",
        "                                   into_future=INTO_FUTURE)\n",
        "next_time_steps\n",
        "\n",
        "# Insert last timestep/final price so the graph doesn't look messed\n",
        "next_time_steps = np.insert(next_time_steps, 0, last_timestep)\n",
        "future_forecast = np.insert(future_forecast, 0, btc_price[-1])\n",
        "next_time_steps, future_forecast\n",
        "\n",
        "\n",
        "# Plot future price predictions of Bitcoin\n",
        "plt.figure(figsize=(10, 7))\n",
        "plot_time_series(bitcoin_prices.index, btc_price, start=2500, format=\"-\", label=\"Actual BTC Price\")\n",
        "plot_time_series(next_time_steps, future_forecast, format=\"-\", label=\"Predicted BTC Price\")\n"
      ],
      "metadata": {
        "colab": {
          "base_uri": "https://localhost:8080/",
          "height": 442
        },
        "id": "y16EcIKrkKnS",
        "outputId": "a0854db7-6e11-435d-9cf6-565da87ccaaa"
      },
      "execution_count": 81,
      "outputs": [
        {
          "output_type": "display_data",
          "data": {
            "text/plain": [
              "<Figure size 720x504 with 1 Axes>"
            ],
            "image/png": "[encoded data removed]"
          },
          "metadata": {
            "needs_background": "light"
          }
        }
      ]
    },
    {
      "cell_type": "code",
      "source": [
        "future_forecast"
      ],
      "metadata": {
        "colab": {
          "base_uri": "https://localhost:8080/"
        },
        "id": "QCWTQVsSlHOh",
        "outputId": "332e88dd-ef54-4088-8e32-77963d1bc1ba"
      },
      "execution_count": 84,
      "outputs": [
        {
          "output_type": "execute_result",
          "data": {
            "text/plain": [
              "array([43144.473, 55764.473, 50985.93 , 48522.96 , 48137.2  , 47880.633,\n",
              "       46879.715, 48227.594, 53963.684, 49685.543, 47596.176, 48114.418,\n",
              "       48807.996, 48623.85 , 50178.715], dtype=float32)"
            ]
          },
          "metadata": {},
          "execution_count": 84
        }
      ]
    },
    {
      "cell_type": "code",
      "source": [
        ""
      ],
      "metadata": {
        "id": "9Xvzn3HOlfuv"
      },
      "execution_count": null,
      "outputs": []
    }
  ]
}